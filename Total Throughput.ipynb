{
 "cells": [
  {
   "cell_type": "code",
   "execution_count": 1,
   "metadata": {},
   "outputs": [],
   "source": [
    "import matplotlib.pyplot as plt\n",
    "import pickle\n",
    "import os\n",
    "from od.social import SocialGroup\n",
    "from od.network.types import ResourceAllocatorType,BaseStationType\n",
    "from od.misc.interest import InterestConfig\n",
    "from numpy import random"
   ]
  },
  {
   "cell_type": "code",
   "execution_count": 2,
   "metadata": {},
   "outputs": [],
   "source": [
    "def CalculateSystemThroughput(obj,interest_config):\n",
    "    total_bs = 0\n",
    "    for bs_type in BaseStationType:\n",
    "        if(bs_type == BaseStationType.UMI):\n",
    "            if(interest_config.req_rsu == False):\n",
    "                continue\n",
    "            total_bs += 5\n",
    "        else:\n",
    "            total_bs += 1\n",
    "    return obj[\"sys_through_put\"]*total_bs\n",
    "        "
   ]
  },
  {
   "cell_type": "code",
   "execution_count": 3,
   "metadata": {},
   "outputs": [],
   "source": [
    "s = [13232421, 102948123, 4419883]\n",
    "a = [t for t in ResourceAllocatorType]\n",
    "b = [False, True]\n",
    "c = [3, 4, 5, 6, 7, 8, 9, 10]"
   ]
  },
  {
   "cell_type": "code",
   "execution_count": 4,
   "metadata": {},
   "outputs": [],
   "source": [
    "interest_config = InterestConfig(None, False, 0)\n",
    "stats = [[[[None for _c in c] for _b in b] for _a in a]for _s in s]\n",
    "for _s , seed in enumerate(s):\n",
    "    for _a, res_alloc_type in enumerate(a):\n",
    "        for _b, req_rsu in enumerate(b):\n",
    "            for _c, appdata_poisson in enumerate(c):\n",
    "                interest_config.res_alloc_type = res_alloc_type\n",
    "                interest_config.req_rsu = req_rsu\n",
    "                interest_config.appdata_poisson = appdata_poisson\n",
    "                obj = None\n",
    "                with open(\"data/{}/{}/report.pickle\".format(seed,str(interest_config)), \"rb\") as file:\n",
    "                    obj = pickle.load(file)\n",
    "                obj[\"sys_through_put\"] = CalculateSystemThroughput(obj,interest_config)\n",
    "                with open(\"data/{}/{}/report.pickle\".format(seed,str(interest_config)), \"wb\") as file:\n",
    "                    pickle.dump(obj,file)"
   ]
  },
  {
   "cell_type": "code",
   "execution_count": null,
   "metadata": {},
   "outputs": [],
   "source": []
  }
 ],
 "metadata": {
  "kernelspec": {
   "display_name": "Python 3",
   "language": "python",
   "name": "python3"
  },
  "language_info": {
   "codemirror_mode": {
    "name": "ipython",
    "version": 3
   },
   "file_extension": ".py",
   "mimetype": "text/x-python",
   "name": "python",
   "nbconvert_exporter": "python",
   "pygments_lexer": "ipython3",
   "version": "3.7.7"
  }
 },
 "nbformat": 4,
 "nbformat_minor": 4
}
