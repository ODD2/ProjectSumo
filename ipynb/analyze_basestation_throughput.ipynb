{
 "cells": [
  {
   "cell_type": "code",
   "execution_count": 9,
   "metadata": {},
   "outputs": [],
   "source": [
    "import pickle\n",
    "import os\n",
    "import sys\n",
    "sys.path.append(\"../\")\n",
    "from od.social.group import SocialGroup\n",
    "from od.misc.statistic import NetFlowType\n",
    "from od.network.types import ResourceAllocatorType,BaseStationType\n",
    "from od.misc.interest import InterestConfig\n",
    "from od.env.config import SUMO_SIM_STEPS,NET_TIMEOUT_SECONDS\n",
    "from od.env.station import BS_PRESET\n",
    "from od.social.manager import  DynamicSocialGroupBehaviour\n",
    "import od.misc.statistic as oms"
   ]
  },
  {
   "cell_type": "code",
   "execution_count": 29,
   "metadata": {},
   "outputs": [
    {
     "name": "stdout",
     "output_type": "stream",
     "text": [
      "/home/OD/repos/ProjectSumo/ipynb\n"
     ]
    }
   ],
   "source": [
    "print(os.getcwd())\n",
    "statistics = []\n",
    "for i, param in enumerate([False, True]):\n",
    "    interest_config = InterestConfig(\n",
    "        DynamicSocialGroupBehaviour.MAX_N_MEMBER,\n",
    "        20,\n",
    "        False,\n",
    "        ResourceAllocatorType.NOMA_OPT,\n",
    "        param,\n",
    "        1.4,\n",
    "        1\n",
    "    )\n",
    "    with open(\"../data/GERNAS/GERNA/{}/object.pickle\".format(interest_config.folder()), \"rb\") as file:\n",
    "        statistics.append(pickle.load(file))\n"
   ]
  },
  {
   "cell_type": "code",
   "execution_count": 38,
   "metadata": {},
   "outputs": [
    {
     "data": {
      "text/plain": [
       "['MAX_N_MEMBER(20)-nQoS-nRSU-NOMA_OPT-D1.4-S1',\n",
       " 'MAX_N_MEMBER(20)-nQoS-yRSU-NOMA_OPT-D1.4-S1']"
      ]
     },
     "execution_count": 38,
     "metadata": {},
     "output_type": "execute_result"
    }
   ],
   "source": [
    "[ str(stats.interest_config) for stats in statistics]"
   ]
  },
  {
   "cell_type": "code",
   "execution_count": 31,
   "metadata": {},
   "outputs": [],
   "source": [
    "\n",
    "BS_CONFIG =  {\n",
    "        name:bs_config \n",
    "        for name,bs_config in BS_PRESET.items()\n",
    "        if (\n",
    "            bs_config[\"type\"] == BaseStationType.UMA  or \n",
    "            (\n",
    "                interest_config.req_rsu and \n",
    "                bs_config[\"type\"] == BaseStationType.UMI\n",
    "            )\n",
    "        )\n",
    "}\n",
    "\n",
    "class FakeBaseStation:\n",
    "    def __init__(self,name,pos,bs_type,serial):\n",
    "        self.name = name\n",
    "        self.pos = pos\n",
    "        self.type = bs_type\n",
    "        self.serial = serial\n",
    "    def __repr__(self) -> str:\n",
    "        return self.name\n",
    "    def __index__(self):\n",
    "        return self.serial\n",
    "        \n",
    "class GV:\n",
    "    NET_STATION_CONTROLLER = [ \n",
    "        FakeBaseStation(\n",
    "            name,\n",
    "            BS_CONFIG[name][\"pos\"],\n",
    "            BS_CONFIG[name][\"type\"] ,\n",
    "            i\n",
    "        )   for i,name in enumerate(BS_CONFIG)\n",
    "    ]\n",
    "    class STATISTIC:\n",
    "        def Log(data):\n",
    "            pass\n",
    "        def Doc(data):\n",
    "            pass\n",
    "    class RESULT:\n",
    "        def Log(data):\n",
    "            pass\n",
    "        def Doc(data):\n",
    "            print(data)\n",
    "oms.GV = GV\n",
    "# def RecordPrinter(header):\n",
    "#     print(\"time at:{}\".format(header.at))\n",
    "#     print(\"bs ot:{}\".format(header.is_bs_ot))\n",
    "#     print(\"src ot:{}\".format(header.is_src_ot))\n",
    "#     print(\"time bs drop:{}\".format(header.time_bs_drop))\n",
    "#     print(\"time bs serv:{}\".format(header.time_bs_serv))\n",
    "#     print(\"time bs tx:{}\".format(header.time_bs_tx))\n",
    "#     print(\"time bs txq:{}\".format(header.time_bs_txq))\n",
    "#     print(\"time bs trip:{}\".format(header.time_veh_trip))"
   ]
  },
  {
   "cell_type": "code",
   "execution_count": 32,
   "metadata": {},
   "outputs": [
    {
     "data": {
      "text/plain": [
       "[UMA-1, UMA-2]"
      ]
     },
     "execution_count": 32,
     "metadata": {},
     "output_type": "execute_result"
    }
   ],
   "source": [
    "GV.NET_STATION_CONTROLLER = GV.NET_STATION_CONTROLLER[:2]\n",
    "GV.NET_STATION_CONTROLLER"
   ]
  },
  {
   "cell_type": "code",
   "execution_count": 33,
   "metadata": {},
   "outputs": [],
   "source": [
    "for statistic in statistics:\n",
    "    for sg in statistic.social_group:\n",
    "        for record in statistic.sg_header[sg].values():\n",
    "            for bs in GV.NET_STATION_CONTROLLER:\n",
    "                if(len(record.time_bs_txq[bs])==0):\n",
    "                    continue\n",
    "                if(record.time_bs_txq[bs][-1][1] - record.at >= NET_TIMEOUT_SECONDS):\n",
    "                    record.is_bs_ot[bs] = True"
   ]
  },
  {
   "cell_type": "code",
   "execution_count": 34,
   "metadata": {},
   "outputs": [
    {
     "name": "stdout",
     "output_type": "stream",
     "text": [
      "=====0======\n",
      "CRASH: 0 => 0.0\n",
      "RCWS: 0 => 0.0\n",
      "DYN_SG_0: 0 => 0.0\n",
      "DYN_SG_1: 0 => 0.0\n",
      "DYN_SG_2: 0 => 0.0\n",
      "DYN_SG_3: 0 => 0.0\n",
      "DYN_SG_4: 0 => 0.0\n",
      "DYN_SG_5: 0 => 0.0\n",
      "DYN_SG_6: 0 => 0.0\n",
      "DYN_SG_7: 0 => 0.0\n",
      "DYN_SG_8: 0 => 0.0\n",
      "DYN_SG_9: 0 => 0.0\n",
      "=====1======\n",
      "CRASH: 0 => 0.0\n",
      "RCWS: 0 => 0.0\n",
      "DYN_SG_0: 0 => 0.0\n",
      "DYN_SG_1: 0 => 0.0\n",
      "DYN_SG_2: 0 => 0.0\n",
      "DYN_SG_3: 0 => 0.0\n",
      "DYN_SG_4: 0 => 0.0\n",
      "DYN_SG_5: 0 => 0.0\n",
      "DYN_SG_6: 0 => 0.0\n",
      "DYN_SG_7: 0 => 0.0\n",
      "DYN_SG_8: 0 => 0.0\n",
      "DYN_SG_9: 0 => 0.0\n"
     ]
    }
   ],
   "source": [
    "for i, statistic in enumerate(statistics):\n",
    "    print(\"====={}======\".format(i))\n",
    "    for sg in statistic.social_group:\n",
    "        ot_count = 0\n",
    "        for header, record in statistic.sg_header[sg].items():\n",
    "            if(record.is_src_ot > 0 or\n",
    "               True in [record.is_bs_ot[i] for i in GV.NET_STATION_CONTROLLER] or\n",
    "               not True in [record.time_bs_serv[i] > 0 for i in GV.NET_STATION_CONTROLLER] or\n",
    "               not record.time_veh_serv > 0\n",
    "               ):\n",
    "                ot_count += 1\n",
    "        print(\"{}: {} => {}\".format(sg, ot_count, ot_count / max(len(statistic.sg_header[sg]), 1)))\n"
   ]
  },
  {
   "cell_type": "code",
   "execution_count": 19,
   "metadata": {},
   "outputs": [],
   "source": [
    "class Helper:\n",
    "    def __init__(self,header,record,bs_index):\n",
    "        self.name = header\n",
    "        self.bits = record.bits\n",
    "        self.time_gen = round(record.at,4)\n",
    "        self.time_serv = round(record.time_bs_serv[bs_index],4)\n",
    "        self.time_len =  195-185 if self.time_serv == -1 else round(self.time_serv - self.time_gen,4)\n",
    "    def __str__(self):\n",
    "        return \"{}[ at:{} ,to:{}, dur:{}, size:{}]\".format(self.name,self.time_gen,self.time_serv,self.time_len,self.bits)\n",
    "    def __repr__(self):\n",
    "        return \"{}[ at:{} ,to:{}, dur:{}, size:{}]\".format(self.name,self.time_gen,self.time_serv,self.time_len,self.bits)\n"
   ]
  },
  {
   "cell_type": "code",
   "execution_count": 20,
   "metadata": {},
   "outputs": [
    {
     "name": "stdout",
     "output_type": "stream",
     "text": [
      "In ['DYN_SG_6']\n",
      "C?:False\n",
      "G?:True\n",
      "C2G?:False\n",
      "In ['DYN_SG_6']\n",
      "C?:False\n",
      "G?:True\n",
      "C2G?:False\n"
     ]
    }
   ],
   "source": [
    "target_header = \"flow_9.3-305\"\n",
    "# target_header = \"flow_0.58-99\"\n",
    "for statistic in statistics:\n",
    "    header_in_sg_list = [sg.fname for sg in statistic.social_group   if(target_header in statistic.sg_header[sg])]\n",
    "    print(\"In {}\".format(header_in_sg_list))\n",
    "    print(\"C?:{}\".format(target_header in statistic.ExtractNetworkTraffic(NetFlowType.CRITICAL)))\n",
    "    print(\"G?:{}\".format(target_header in statistic.ExtractNetworkTraffic(NetFlowType.GENERAL)))\n",
    "    print(\"C2G?:{}\".format(target_header in statistic.ExtractNetworkTraffic(NetFlowType.C2G)))"
   ]
  },
  {
   "cell_type": "code",
   "execution_count": 21,
   "metadata": {},
   "outputs": [
    {
     "name": "stdout",
     "output_type": "stream",
     "text": [
      "=======0:DYN_SG_6========\n",
      "time at:187.979\n",
      "trips:{'flow_2.62': 0.0049999999999954525}\n",
      "bs ot:[False, False]\n",
      "src ot:False\n",
      "time veh serv:187.982\n",
      "time veh txq:[[187.979, 187.982]]\n",
      "time veh tx:[[187.982, 187.983]]\n",
      "time bs drop:[-1, -1]\n",
      "time bs serv:[187.996, 187.983]\n",
      "time bs txq:[[[187.983, 187.995], [187.996, 187.996]], [[187.983, 187.983]]]\n",
      "time bs tx:[[[187.995, 187.996], [187.996, 187.997]], [[187.983, 187.984]]]\n",
      "\n",
      "=======1:DYN_SG_6========\n",
      "time at:187.979\n",
      "trips:{'flow_2.62': 0.117999999999995}\n",
      "bs ot:[False, False, False, False, False, False, False]\n",
      "src ot:False\n",
      "time veh serv:187.979\n",
      "time veh txq:[[187.979, 187.979]]\n",
      "time veh tx:[[187.979, 187.98]]\n",
      "time bs drop:[-1, -1, -1, -1, -1, -1, -1]\n",
      "time bs serv:[187.98, 188.096, -1, -1, -1, -1, -1]\n",
      "time bs txq:[[[187.98, 187.98]], [[187.98, 188.096]], [], [], [], [], []]\n",
      "time bs tx:[[[187.98, 187.981]], [[188.096, 188.097]], [], [], [], [], []]\n",
      "\n"
     ]
    }
   ],
   "source": [
    "for i,statistic in enumerate(statistics):\n",
    "    for sg in statistic.social_group:\n",
    "        if target_header in statistic.sg_header[sg]:\n",
    "            header = statistic.sg_header[sg][target_header]\n",
    "            print(\"======={}:{}========\".format(i,sg))\n",
    "            print(header)"
   ]
  },
  {
   "cell_type": "code",
   "execution_count": null,
   "metadata": {},
   "outputs": [],
   "source": [
    "bs_index = 1\n",
    "social_groups = statistics[0].social_group\n",
    "print(social_groups)\n",
    "app_stats_fn = lambda x: statistic.sg_header[social_groups[-1]]\n",
    "# app_stats_fn = lambda x: statistic.ExtractNetworkTraffic(NetFlowType.CRITICAL)\n",
    "# app_stats_fn = lambda x: x.sg_header[SocialGroup.RCWS]"
   ]
  },
  {
   "cell_type": "code",
   "execution_count": null,
   "metadata": {},
   "outputs": [],
   "source": [
    "bs_serv_list = [[] for _ in statistics]\n",
    "bs_time_gap = [{} for _ in statistics]\n",
    "for i, statistic in enumerate(statistics):\n",
    "    for header, record in app_stats_fn(statistic).items():\n",
    "        if(len(record.time_bs_txq[bs_index]) > 0):\n",
    "            bs_serv_list[i].append(Helper(header, record, bs_index))\n",
    "    bs_serv_list[i].sort(key=lambda x : x.time_gen*1000000+x.time_serv)\n",
    "    for helper in sorted(bs_serv_list[i],key=lambda x: (x.time_serv * 1000) * 10000000 + x.bits):\n",
    "        at = str(helper.time_gen)\n",
    "        to = str(helper.time_serv)\n",
    "        if(to not in bs_time_gap[i]):\n",
    "             bs_time_gap[i][to] = {\"need\": 0, \"give\": 0}\n",
    "        if(at not in bs_time_gap[i]):\n",
    "             bs_time_gap[i][at] = {\"need\": 0, \"give\": 0}\n",
    "        bs_time_gap[i][to][\"give\"]+=helper.bits\n",
    "        bs_time_gap[i][at][\"need\"]+=helper.bits\n",
    "    \n",
    "   \n"
   ]
  },
  {
   "cell_type": "code",
   "execution_count": null,
   "metadata": {},
   "outputs": [],
   "source": [
    "for v in bs_serv_list[0]:\n",
    "    print(v)"
   ]
  },
  {
   "cell_type": "code",
   "execution_count": null,
   "metadata": {},
   "outputs": [],
   "source": [
    "for time in [ str(round(i/1000,4))for i in range(185000,195000,1)]:\n",
    "    data = []\n",
    "    for i in range(2):\n",
    "        if(time in bs_time_gap[i]):\n",
    "            data.append(bs_time_gap[i][time][\"need\"])\n",
    "            data.append(bs_time_gap[i][time][\"give\"])\n",
    "        else:\n",
    "            data.append(0)\n",
    "            data.append(0)\n",
    "    if(not sum(data)==0):\n",
    "        print(time, data)\n"
   ]
  },
  {
   "cell_type": "code",
   "execution_count": null,
   "metadata": {},
   "outputs": [],
   "source": [
    "\n",
    "remain = [0 for _ in statistics]\n",
    "for time in [ str(round(i/1000,4))for i in range(185000,195000,1)]:\n",
    "    for i in range(2):\n",
    "        if(time in bs_time_gap[i]):\n",
    "            helper = bs_time_gap[i][time]\n",
    "            remain[i] += (helper[\"need\"] - helper[\"give\"])\n",
    "    if(not sum(remain)==0):\n",
    "        print(time, remain, remain[0]-remain[1])\n"
   ]
  },
  {
   "cell_type": "code",
   "execution_count": null,
   "metadata": {},
   "outputs": [],
   "source": []
  },
  {
   "cell_type": "code",
   "execution_count": null,
   "metadata": {},
   "outputs": [],
   "source": []
  }
 ],
 "metadata": {
  "interpreter": {
   "hash": "f227239d0a04c460e8af7627ec9c2273aa001f4c3f532f9d517bff180519c459"
  },
  "kernelspec": {
   "display_name": "Python 3.8.10 64-bit ('ProjectSumo-0-222X3X': pipenv)",
   "name": "python3"
  },
  "language_info": {
   "codemirror_mode": {
    "name": "ipython",
    "version": 3
   },
   "file_extension": ".py",
   "mimetype": "text/x-python",
   "name": "python",
   "nbconvert_exporter": "python",
   "pygments_lexer": "ipython3",
   "version": "3.8.10"
  }
 },
 "nbformat": 4,
 "nbformat_minor": 4
}
