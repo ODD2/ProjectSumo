{
 "cells": [
  {
   "cell_type": "code",
   "execution_count": 1,
   "metadata": {},
   "outputs": [],
   "source": [
    "import os\n",
    "import io\n",
    "import matlab.engine\n",
    "import sys\n",
    "import copy\n",
    "sys.path.append(\"../\")\n",
    "import od.vars as GV\n",
    "import od.engine\n",
    "\n"
   ]
  },
  {
   "cell_type": "code",
   "execution_count": 2,
   "metadata": {},
   "outputs": [
    {
     "name": "stdout",
     "output_type": "stream",
     "text": [
      "('MATLAB_4034539',)\n",
      "/home/OD/repos/ProjectSumo/ipynb\n",
      "Done\n"
     ]
    }
   ],
   "source": [
    "print(matlab.engine.find_matlab())\n",
    "print(os.getcwd())\n",
    "MATLAB_ENG = matlab.engine.connect_matlab()\n",
    "od.engine.MATLAB_ENG = MATLAB_ENG\n",
    "MATLAB_ENG.addpath(os.getcwd() + \"/../matlab/\")\n",
    "MATLAB_ENG.addpath(os.getcwd() + \"/../matlab/SelectCQI_bySNR/\")\n",
    "MATLAB_ENG.addpath(os.getcwd() + \"/../matlab/PlannerV1/\")\n",
    "print(\"Done\")"
   ]
  },
  {
   "cell_type": "code",
   "execution_count": 3,
   "metadata": {},
   "outputs": [],
   "source": [
    "from numpy import random"
   ]
  },
  {
   "cell_type": "code",
   "execution_count": 37,
   "metadata": {},
   "outputs": [
    {
     "name": "stdout",
     "output_type": "stream",
     "text": [
      "[[{'gid': 1.0, 'qos': 1.0, 'rbf_w': 1.0, 'rbf_h': 2.0, 'sinr_max': 19.5, 'pwr_req_dBm': 22.956, 'pwr_ext_dBm': 3.034702226027002, 'rem_bits': 8950.0, 'mem_num': 8.0, 'eager_rate': 4535.7}, {'gid': 2.0, 'qos': 1.0, 'rbf_w': 1.0, 'rbf_h': 2.0, 'sinr_max': 27.5, 'pwr_req_dBm': 22.956, 'pwr_ext_dBm': 3.034702226027002, 'rem_bits': 40370.0, 'mem_num': 6.0, 'eager_rate': 1270.9}, {'gid': 3.0, 'qos': 1.0, 'rbf_w': 1.0, 'rbf_h': 2.0, 'sinr_max': 26.1, 'pwr_req_dBm': 22.956, 'pwr_ext_dBm': 3.034702226027002, 'rem_bits': 47141.0, 'mem_num': 9.0, 'eager_rate': 859.2}, {'gid': 4.0, 'qos': 1.0, 'rbf_w': 2.0, 'rbf_h': 1.0, 'sinr_max': 26.5, 'pwr_req_dBm': 22.959, 'pwr_ext_dBm': 2.729511581869497, 'rem_bits': 15084.0, 'mem_num': 9.0, 'eager_rate': 4517.0}, {'gid': 5.0, 'qos': 1.0, 'rbf_w': 1.0, 'rbf_h': 2.0, 'sinr_max': 15.2, 'pwr_req_dBm': 22.956, 'pwr_ext_dBm': 3.034702226027002, 'rem_bits': 16718.0, 'mem_num': 8.0, 'eager_rate': 2040.3}], [{'gid': 6.0, 'qos': 1.0, 'rbf_w': 1.0, 'rbf_h': 2.0, 'sinr_max': 16.9, 'pwr_req_dBm': 22.959, 'pwr_ext_dBm': 2.729511581869497, 'rem_bits': 42501.0, 'mem_num': 6.0, 'eager_rate': 1923.9}, {'gid': 7.0, 'qos': 1.0, 'rbf_w': 2.0, 'rbf_h': 1.0, 'sinr_max': 16.1, 'pwr_req_dBm': 22.959, 'pwr_ext_dBm': 2.729511581869497, 'rem_bits': 12755.0, 'mem_num': 9.0, 'eager_rate': 3454.6}, {'gid': 8.0, 'qos': 1.0, 'rbf_w': 2.0, 'rbf_h': 1.0, 'sinr_max': 16.1, 'pwr_req_dBm': 22.956, 'pwr_ext_dBm': 3.034702226027002, 'rem_bits': 26746.0, 'mem_num': 4.0, 'eager_rate': 2390.3}, {'gid': 9.0, 'qos': 1.0, 'rbf_w': 2.0, 'rbf_h': 1.0, 'sinr_max': 24.1, 'pwr_req_dBm': 22.955, 'pwr_ext_dBm': 3.1318014527925526, 'rem_bits': 11815.0, 'mem_num': 7.0, 'eager_rate': 3856.5}, {'gid': 10.0, 'qos': 1.0, 'rbf_w': 1.0, 'rbf_h': 2.0, 'sinr_max': 16.1, 'pwr_req_dBm': 22.955, 'pwr_ext_dBm': 3.1318014527925526, 'rem_bits': 47014.0, 'mem_num': 8.0, 'eager_rate': 3958.9}], [{'gid': 11.0, 'qos': 1.0, 'rbf_w': 2.0, 'rbf_h': 1.0, 'sinr_max': 26.6, 'pwr_req_dBm': 22.959, 'pwr_ext_dBm': 2.729511581869497, 'rem_bits': 17963.0, 'mem_num': 8.0, 'eager_rate': 3975.6}, {'gid': 12.0, 'qos': 1.0, 'rbf_w': 2.0, 'rbf_h': 1.0, 'sinr_max': 26.1, 'pwr_req_dBm': 22.956, 'pwr_ext_dBm': 3.034702226027002, 'rem_bits': 40558.0, 'mem_num': 8.0, 'eager_rate': 1692.3}, {'gid': 13.0, 'qos': 1.0, 'rbf_w': 2.0, 'rbf_h': 1.0, 'sinr_max': 23.3, 'pwr_req_dBm': 22.959, 'pwr_ext_dBm': 2.729511581869497, 'rem_bits': 31891.0, 'mem_num': 8.0, 'eager_rate': 187.2}, {'gid': 14.0, 'qos': 1.0, 'rbf_w': 1.0, 'rbf_h': 2.0, 'sinr_max': 29.9, 'pwr_req_dBm': 22.956, 'pwr_ext_dBm': 3.034702226027002, 'rem_bits': 28755.0, 'mem_num': 5.0, 'eager_rate': 3377.1}, {'gid': 15.0, 'qos': 1.0, 'rbf_w': 2.0, 'rbf_h': 1.0, 'sinr_max': 20.3, 'pwr_req_dBm': 22.956, 'pwr_ext_dBm': 3.034702226027002, 'rem_bits': 9754.0, 'mem_num': 9.0, 'eager_rate': 1858.4}]]\n",
      "{'rbf_h': 40.0, 'rbf_w': 2.0, 'max_pwr_dBm': 23.0}\n"
     ]
    }
   ],
   "source": [
    "max_group_per_qos = 5\n",
    "QoS_GP_CONF = [[\n",
    "    {\n",
    "        'gid': float(max_group_per_qos*x+i + 1),\n",
    "        'qos': 1.0,\n",
    "        **random.choice([{'rbf_w': 2.0, 'rbf_h': 1.0}, {'rbf_w': 1.0, 'rbf_h': 2.0}]),\n",
    "        'sinr_max': float(random.randint(150, 300) / 10),\n",
    "        **random.choice([\n",
    "            {'pwr_req_dBm': 22.956, 'pwr_ext_dBm': 3.034702226027002},\n",
    "            {'pwr_req_dBm': 22.959, 'pwr_ext_dBm': 2.729511581869497},\n",
    "            {'pwr_req_dBm': 22.955, 'pwr_ext_dBm': 3.1318014527925526}\n",
    "        ]),\n",
    "        'rem_bits': float(random.randint(1000, 50000)),\n",
    "        'mem_num': float(random.randint(3, 10)),\n",
    "        'eager_rate': float(random.randint(1000, 50000) / 10)\n",
    "    }\n",
    "    for i in range(max_group_per_qos)\n",
    "    ] for x in range(3)\n",
    "]\n",
    "RES_CONF = {'rbf_h': float(random.randint(1,5)*10) , 'rbf_w': 2.0, 'max_pwr_dBm': 23.0}\n",
    "\n",
    "# QoS_GP_CONF = [\n",
    "#     [\n",
    "#         {\n",
    "#             'gid': 5.0,\n",
    "#             'qos': 1.0,\n",
    "#             'rbf_w': 2.0,\n",
    "#             'rbf_h': 1.0,\n",
    "#             'sinr_max': 30.0,\n",
    "#             'pwr_req_dBm': 22.996,\n",
    "#             'pwr_ext_dBm': -7.3592430462207306,\n",
    "#             'rem_bits': 4125123412,\n",
    "#             'mem_num': 8.0,\n",
    "#             'eager_rate': 3.445574916313482\n",
    "#         },\n",
    "#         {\n",
    "#             'gid': 6.0,\n",
    "#             'qos': 1.0,\n",
    "#             'rbf_w': 1.0,\n",
    "#             'rbf_h': 2.0,\n",
    "#             'sinr_max': 30.0,\n",
    "#             'pwr_req_dBm': 22.996,\n",
    "#             'pwr_ext_dBm': -7.3592430462207306,\n",
    "#             'rem_bits': 40978.0,\n",
    "#             'mem_num': 8.0,\n",
    "#             'eager_rate': 4.445574916313482\n",
    "#         },\n",
    "#         {\n",
    "#             'gid': 7.0,\n",
    "#             'qos': 1.0,\n",
    "#             'rbf_w': 2.0,\n",
    "#             'rbf_h': 1.0,\n",
    "#             'sinr_max': 30.0,\n",
    "#             'pwr_req_dBm': 22.996,\n",
    "#             'pwr_ext_dBm': -7.3592430462207306,\n",
    "#             'rem_bits': 12314413.0,\n",
    "#             'mem_num': 8.0,\n",
    "#             'eager_rate': 5.445574916313482\n",
    "#         }\n",
    "#     ]\n",
    "# ]\n",
    "# RES_CONF = {'rbf_h': 6 , 'rbf_w': 2.0, 'max_pwr_dBm': 23.0}\n",
    "# QoS_GP_CONF = [[\n",
    "#     {'gid': 1.0, 'qos': 1.0, 'rbf_w': 1.0, 'rbf_h': 2.0, 'sinr_max': 27.0, 'pwr_req_dBm': 22.955, 'pwr_ext_dBm': 3.1318014527925526, 'rem_bits': 46984.0, 'mem_num': 3.0, 'eager_rate': 2397.1}, \n",
    "#     {'gid': 2.0, 'qos': 1.0, 'rbf_w': 2.0, 'rbf_h': 1.0, 'sinr_max': 19.0, 'pwr_req_dBm': 22.955, 'pwr_ext_dBm': 3.1318014527925526, 'rem_bits': 20810.0, 'mem_num': 8.0, 'eager_rate': 1533.1}, \n",
    "#     {'gid': 3.0, 'qos': 1.0, 'rbf_w': 1.0, 'rbf_h': 2.0, 'sinr_max': 21.3, 'pwr_req_dBm': 22.956, 'pwr_ext_dBm': 3.034702226027002, 'rem_bits': 33628.0, 'mem_num': 9.0, 'eager_rate': 1295.4}]]\n",
    "# {'rbf_h': 20.0, 'rbf_w': 2.0, 'max_pwr_dBm': 23.0}\n",
    "# RES_CONF = {'rbf_h': 20.0, 'rbf_w': 2.0, 'max_pwr_dBm': 23.0}\n",
    "print(QoS_GP_CONF)\n",
    "print(RES_CONF)\n"
   ]
  },
  {
   "cell_type": "code",
   "execution_count": 38,
   "metadata": {},
   "outputs": [
    {
     "name": "stdout",
     "output_type": "stream",
     "text": [
      "<_io.StringIO object at 0x7fe356e07430>\n",
      "g1 {'t0': {}, 't1': {}}\n",
      "g10 {'t0': {'c13': 14}, 't1': {'c13': 14}}\n",
      "g11 {'t0': {}}\n",
      "g12 {'t0': {}}\n",
      "g13 {'t0': {}}\n",
      "g14 {'t0': {}, 't1': {}}\n",
      "g15 {'t0': {}}\n",
      "g2 {'t0': {}, 't1': {}}\n",
      "g3 {'t0': {}, 't1': {}}\n",
      "g4 {'t0': {'c8': 40}}\n",
      "g5 {'t0': {}, 't1': {}}\n",
      "g6 {'t0': {}, 't1': {}}\n",
      "g7 {'t0': {}}\n",
      "g8 {'t0': {}}\n",
      "g9 {'t0': {'c15': 12}}\n"
     ]
    }
   ],
   "source": [
    "out = io.StringIO()\n",
    "try:\n",
    "    alloc_report, exitflag = MATLAB_ENG.PlannerV1(RES_CONF, QoS_GP_CONF, nargout=2, stdout=out)\n",
    "except Exception as e:\n",
    "    raise e\n",
    "print(out)\n",
    "for gid in sorted(alloc_report.keys()):\n",
    "    print(gid,alloc_report[gid])"
   ]
  },
  {
   "cell_type": "code",
   "execution_count": 39,
   "metadata": {},
   "outputs": [],
   "source": [
    "import importlib\n",
    "importlib.reload(od.network.allocator)\n",
    "from od.network.allocator import ResourceAllocatorNomaApprox"
   ]
  },
  {
   "cell_type": "code",
   "execution_count": 40,
   "metadata": {},
   "outputs": [
    {
     "name": "stdout",
     "output_type": "stream",
     "text": [
      "g1 {'t0': {'c14': 11}}\n",
      "g2 {'t0': {'c8': 19}, 't1': {'c15': 11, 'c8': 8}}\n",
      "g4 {'t0': {'c15': 17}}\n",
      "g5 {'t1': {'c2': 11}}\n",
      "g7 {'t0': {'c2': 1}}\n",
      "g9 {'t0': {'c15': 1, 'c6': 1}}\n"
     ]
    }
   ],
   "source": [
    "allocator = ResourceAllocatorNomaApprox(copy.deepcopy(RES_CONF),copy.deepcopy(QoS_GP_CONF))\n",
    "alloc_report = allocator()\n",
    "for gid in sorted(alloc_report.keys()):\n",
    "    print(gid,alloc_report[gid])"
   ]
  },
  {
   "cell_type": "code",
   "execution_count": 41,
   "metadata": {},
   "outputs": [
    {
     "name": "stdout",
     "output_type": "stream",
     "text": [
      "{2: {1: []}, 1: {2: []}}\n",
      "{2: {1: [{I:(g1:c14),O:(g2:c8)}, {I:(g1:c14),O:(g2:c8)}, {I:(g1:c14),O:(g2:c8)}, {I:(g1:c14),O:(g2:c8)}, {I:(g1:c14),O:(g2:c8)}, {I:(g1:c14),O:(g2:c8)}, {I:(g1:c14),O:(g2:c8)}, {I:(g1:c14),O:(g2:c8)}, {I:(g1:c14),O:(g2:c8)}, {I:(g1:c14),O:(g2:c8)}, {I:(g1:c14),O:(g2:c8)}, {I:(g2:c15),O:(g5:c2)}, {I:(g2:c15),O:(g5:c2)}, {I:(g2:c15),O:(g5:c2)}, {I:(g2:c15),O:(g5:c2)}, {I:(g2:c15),O:(g5:c2)}, {I:(g2:c15),O:(g5:c2)}, {I:(g2:c15),O:(g5:c2)}, {I:(g2:c15),O:(g5:c2)}, {I:(g2:c15),O:(g5:c2)}, {I:(g2:c15),O:(g5:c2)}, {I:(g2:c15),O:(g5:c2)}]}, 1: {2: [{I:(g4:c15),O:(g9:c6)}, {I:(g9:c15),O:(g7:c2)}]}}\n",
      "{2: {1: []}, 1: {2: []}}\n",
      "{2: {1: []}, 1: {2: [{I:[(g4:c15), (g4:c15)],O:[(g2:c8), (g2:c8)]}, {I:[(g4:c15), (g4:c15)],O:[(g2:c8), (g2:c8)]}, {I:[(g4:c15), (g4:c15)],O:[(g2:c8), (g2:c8)]}, {I:[(g4:c15), (g4:c15)],O:[(g2:c8), (g2:c8)]}, {I:[(g4:c15), (g4:c15)],O:[(g2:c8), (g2:c8)]}, {I:[(g4:c15), (g4:c15)],O:[(g2:c8), (g2:c8)]}, {I:[(g4:c15), (g4:c15)],O:[(g2:c8), (g2:c8)]}, {I:[(g4:c15), (g4:c15)],O:[(g2:c8), (g2:c8)]}]}}\n"
     ]
    }
   ],
   "source": [
    "print(allocator.spare_inner_rb)\n",
    "print(allocator.solid_normal_rb)\n",
    "print(allocator.spare_hybrid_rb)\n",
    "print(allocator.solid_hybrid_rb)"
   ]
  },
  {
   "cell_type": "code",
   "execution_count": 180,
   "metadata": {},
   "outputs": [
    {
     "name": "stdout",
     "output_type": "stream",
     "text": [
      "0.8188043576153365 -0.8681985472074462\n"
     ]
    },
    {
     "data": {
      "text/plain": [
       "4.0"
      ]
     },
     "execution_count": 180,
     "metadata": {},
     "output_type": "execute_result"
    }
   ],
   "source": [
    "import math\n",
    "_SINR = 10**(3.1318014527925526/10) * (10**(19.0/10)/ 10**(23/10))\n",
    "SINR = 10 * math.log10(_SINR)\n",
    "print(_SINR,SINR)\n",
    "MATLAB_ENG.SelectCQI_BLER10P(SINR)"
   ]
  },
  {
   "cell_type": "code",
   "execution_count": 20,
   "metadata": {},
   "outputs": [
    {
     "name": "stdout",
     "output_type": "stream",
     "text": [
      "35956.5\n",
      "21463.399999999998\n",
      "19431.0\n"
     ]
    }
   ],
   "source": [
    "for conf in QoS_GP_CONF[0]:\n",
    "    print(MATLAB_ENG.SelectCQI_BLER10P(conf[\"sinr_max\"]) * conf[\"eager_rate\"])"
   ]
  },
  {
   "cell_type": "code",
   "execution_count": null,
   "metadata": {},
   "outputs": [],
   "source": []
  }
 ],
 "metadata": {
  "interpreter": {
   "hash": "f227239d0a04c460e8af7627ec9c2273aa001f4c3f532f9d517bff180519c459"
  },
  "kernelspec": {
   "display_name": "Python 3.8.10 64-bit ('ProjectSumo-0-222X3X': pipenv)",
   "name": "python3"
  },
  "language_info": {
   "codemirror_mode": {
    "name": "ipython",
    "version": 3
   },
   "file_extension": ".py",
   "mimetype": "text/x-python",
   "name": "python",
   "nbconvert_exporter": "python",
   "pygments_lexer": "ipython3",
   "version": "3.8.10"
  },
  "orig_nbformat": 4
 },
 "nbformat": 4,
 "nbformat_minor": 2
}
