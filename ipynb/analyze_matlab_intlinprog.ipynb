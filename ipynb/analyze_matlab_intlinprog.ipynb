{
 "cells": [
  {
   "cell_type": "code",
   "execution_count": null,
   "source": [
    "import os\n",
    "import io\n",
    "import matlab.engine"
   ],
   "outputs": [],
   "metadata": {}
  },
  {
   "cell_type": "code",
   "execution_count": null,
   "source": [
    "print(matlab.engine.find_matlab())\n",
    "os.getcwd()"
   ],
   "outputs": [],
   "metadata": {}
  },
  {
   "cell_type": "code",
   "execution_count": null,
   "source": [
    "MATLAB_ENG = matlab.engine.connect_matlab()"
   ],
   "outputs": [],
   "metadata": {}
  },
  {
   "cell_type": "code",
   "execution_count": null,
   "source": [
    "MATLAB_ENG.addpath(os.getcwd() + \"/../matlab/\")\n",
    "MATLAB_ENG.addpath(os.getcwd() + \"/../matlab/SelectCQI_bySNR/\")\n",
    "MATLAB_ENG.addpath(os.getcwd() + \"/../matlab/PlannerV1/\")"
   ],
   "outputs": [],
   "metadata": {}
  },
  {
   "cell_type": "code",
   "execution_count": 7,
   "source": [
    "\n",
    "# QoS_GP_CONF = [\n",
    "# \t[\n",
    "# \t\t{'gid': 0.0, 'qos': 0.0, 'rbf_w': 2.0, 'rbf_h': 1.0, 'sinr_max': 23.712045618855058, 'pwr_req_dBm': 22.973, 'pwr_ext_dBm': 0.9223015226843518, 'rem_bits': 4712.0, 'mem_num': 71.0, 'eager_rate': 36.63437309374906}\n",
    "# \t],\n",
    "# \t[\n",
    "# \t\t{'gid': 5.0, 'qos': 1.0, 'rbf_w': 2.0, 'rbf_h': 1.0, 'sinr_max': 35.174129219912174, 'pwr_req_dBm': 22.956, 'pwr_ext_dBm': 3.034702226027002, 'rem_bits': 10712.0, 'mem_num': 17.0, 'eager_rate': 55.13946065977497},\n",
    "# \t\t{'gid': 4.0, 'qos': 1.0, 'rbf_w': 2.0, 'rbf_h': 1.0, 'sinr_max': 29.93949825941053, 'pwr_req_dBm': 22.959, 'pwr_ext_dBm': 2.729511581869497, 'rem_bits': 14792.0, 'mem_num': 10.0, 'eager_rate': 30.285257579987405},\n",
    "# \t\t{'gid': 7.0, 'qos': 1.0, 'rbf_w': 2.0, 'rbf_h': 1.0, 'sinr_max': 38.548690819308135, 'pwr_req_dBm': 22.955, 'pwr_ext_dBm': 3.1318014527925526, 'rem_bits': 3688.0, 'mem_num': 9.0, 'eager_rate': 87.80345203054216},\n",
    "# \t\t{'gid': 2.0, 'qos': 1.0, 'rbf_w': 2.0, 'rbf_h': 1.0, 'sinr_max': 24.740863098677366, 'pwr_req_dBm': 22.969, 'pwr_ext_dBm': 1.5202830452677776, 'rem_bits': 5640.0, 'mem_num': 9.0, 'eager_rate': 85.85339640344525},\n",
    "# \t\t{'gid': 6.0, 'qos': 1.0, 'rbf_w': 2.0, 'rbf_h': 1.0, 'sinr_max': 38.8170972756655, 'pwr_req_dBm': 22.955, 'pwr_ext_dBm': 3.1318014527925526, 'rem_bits': 7240.0, 'mem_num': 10.0, 'eager_rate': 36.47458385930194},\n",
    "# \t\t{'gid': 8.0, 'qos': 1.0, 'rbf_w': 2.0, 'rbf_h': 1.0, 'sinr_max': 28.355397019502817, 'pwr_req_dBm': 22.961, 'pwr_ext_dBm': 2.51331754988261, 'rem_bits': 216978.0, 'mem_num': 4.0, 'eager_rate': 0.605619464349728}\n",
    "# \t]\n",
    "# ]\n",
    "# QoS_GP_CONF = [\n",
    "# \t[\n",
    "# \t\t{'gid': 2.0, 'qos': 1.0, 'rbf_w': 2.0, 'rbf_h': 1.0, 'sinr_max': 18.2830342730702, 'pwr_req_dBm': 22.992, 'pwr_ext_dBm': -4.350942629063706, 'rem_bits': 290455.0, 'mem_num': 9.0, 'eager_rate': 3.337574931072202},\n",
    "# \t\t{'gid': 5.0, 'qos': 1.0, 'rbf_w': 2.0, 'rbf_h': 1.0, 'sinr_max': 18.52400268437595, 'pwr_req_dBm': 22.989, 'pwr_ext_dBm': -2.9694151005379332, 'rem_bits': 29088.0, 'mem_num': 7.0, 'eager_rate': 177.86494247807138},\n",
    "# \t\t{'gid': 8.0, 'qos': 1.0, 'rbf_w': 2.0, 'rbf_h': 1.0, 'sinr_max': 28.89612304419515, 'pwr_req_dBm': 22.96, 'pwr_ext_dBm': 2.6227721508302038, 'rem_bits': 14808.0, 'mem_num': 4.0, 'eager_rate': 28.062632286141262},\n",
    "# \t]\n",
    "# ]\n",
    "QoS_GP_CONF = [\n",
    "\t[\n",
    "\t\t{'gid': 1.0, 'qos': 1.0, 'rbf_w': 2.0, 'rbf_h': 1.0, 'sinr_max': 17.81152726123139, 'pwr_req_dBm': 22.999, 'pwr_ext_dBm': -13.37834310342348, 'rem_bits': 30824.0, 'mem_num': 29.0, 'eager_rate': 86.84910822918255},\n",
    "\t\t{'gid': 4.0, 'qos': 1.0, 'rbf_w': 2.0, 'rbf_h': 1.0, 'sinr_max': 32.07430265545245, 'pwr_req_dBm': 22.957, 'pwr_ext_dBm': 2.9353591822750817, 'rem_bits': 134283.0, 'mem_num': 8.0, 'eager_rate': 3.6125755646560775},\n",
    "\t\t{'gid': 2.0, 'qos': 1.0, 'rbf_w': 2.0, 'rbf_h': 1.0, 'sinr_max': 31.393119329280523, 'pwr_req_dBm': 22.957, 'pwr_ext_dBm': 2.9353591822750817, 'rem_bits': 22643.0, 'mem_num': 10.0, 'eager_rate': 19.355847135066576},\n",
    "\t\t{'gid': 5.0, 'qos': 1.0, 'rbf_w': 2.0, 'rbf_h': 1.0, 'sinr_max': 35.645813350694, 'pwr_req_dBm': 22.955, 'pwr_ext_dBm': 3.1318014527925526, 'rem_bits': 288760.0, 'mem_num': 4.0, 'eager_rate': 0.24074566078393395}\n",
    "\t]\n",
    "]\n",
    "RES_CONF = {'rbf_h': 50.0, 'rbf_w': 2.0, 'max_pwr_dBm': 23.0}"
   ],
   "outputs": [],
   "metadata": {}
  },
  {
   "cell_type": "code",
   "execution_count": 11,
   "source": [
    "out = io.StringIO()\n",
    "alloc_report, exitflag = MATLAB_ENG.PlannerV1(RES_CONF, QoS_GP_CONF, nargout=2, stdout=out)"
   ],
   "outputs": [
    {
     "output_type": "error",
     "ename": "InterruptedError",
     "evalue": "The execution of the MATLAB command was interrupted.",
     "traceback": [
      "\u001b[0;31m---------------------------------------------------------------------------\u001b[0m",
      "\u001b[0;31mInterruptedError\u001b[0m                          Traceback (most recent call last)",
      "\u001b[0;32m/tmp/ipykernel_39542/2220676447.py\u001b[0m in \u001b[0;36m<module>\u001b[0;34m\u001b[0m\n\u001b[1;32m      1\u001b[0m \u001b[0mout\u001b[0m \u001b[0;34m=\u001b[0m \u001b[0mio\u001b[0m\u001b[0;34m.\u001b[0m\u001b[0mStringIO\u001b[0m\u001b[0;34m(\u001b[0m\u001b[0;34m)\u001b[0m\u001b[0;34m\u001b[0m\u001b[0;34m\u001b[0m\u001b[0m\n\u001b[0;32m----> 2\u001b[0;31m \u001b[0malloc_report\u001b[0m\u001b[0;34m,\u001b[0m \u001b[0mexitflag\u001b[0m \u001b[0;34m=\u001b[0m \u001b[0mMATLAB_ENG\u001b[0m\u001b[0;34m.\u001b[0m\u001b[0mPlannerV1\u001b[0m\u001b[0;34m(\u001b[0m\u001b[0mRES_CONF\u001b[0m\u001b[0;34m,\u001b[0m \u001b[0mQoS_GP_CONF\u001b[0m\u001b[0;34m,\u001b[0m \u001b[0mnargout\u001b[0m\u001b[0;34m=\u001b[0m\u001b[0;36m2\u001b[0m\u001b[0;34m,\u001b[0m \u001b[0mstdout\u001b[0m\u001b[0;34m=\u001b[0m\u001b[0mout\u001b[0m\u001b[0;34m)\u001b[0m\u001b[0;34m\u001b[0m\u001b[0;34m\u001b[0m\u001b[0m\n\u001b[0m",
      "\u001b[0;32m~/.local/share/virtualenvs/ProjectSumo-0-222X3X/lib/python3.8/site-packages/matlab/engine/matlabengine.py\u001b[0m in \u001b[0;36m__call__\u001b[0;34m(self, *args, **kwargs)\u001b[0m\n\u001b[1;32m     68\u001b[0m             \u001b[0;32mreturn\u001b[0m \u001b[0mFutureResult\u001b[0m\u001b[0;34m(\u001b[0m\u001b[0mself\u001b[0m\u001b[0;34m.\u001b[0m\u001b[0m_engine\u001b[0m\u001b[0;34m(\u001b[0m\u001b[0;34m)\u001b[0m\u001b[0;34m,\u001b[0m \u001b[0mfuture\u001b[0m\u001b[0;34m,\u001b[0m \u001b[0mnargs\u001b[0m\u001b[0;34m,\u001b[0m \u001b[0m_stdout\u001b[0m\u001b[0;34m,\u001b[0m \u001b[0m_stderr\u001b[0m\u001b[0;34m,\u001b[0m \u001b[0mfeval\u001b[0m\u001b[0;34m=\u001b[0m\u001b[0;32mTrue\u001b[0m\u001b[0;34m)\u001b[0m\u001b[0;34m\u001b[0m\u001b[0;34m\u001b[0m\u001b[0m\n\u001b[1;32m     69\u001b[0m         \u001b[0;32melse\u001b[0m\u001b[0;34m:\u001b[0m\u001b[0;34m\u001b[0m\u001b[0;34m\u001b[0m\u001b[0m\n\u001b[0;32m---> 70\u001b[0;31m             return FutureResult(self._engine(), future, nargs, _stdout,\n\u001b[0m\u001b[1;32m     71\u001b[0m                                 _stderr, feval=True).result()\n\u001b[1;32m     72\u001b[0m \u001b[0;34m\u001b[0m\u001b[0m\n",
      "\u001b[0;32m~/.local/share/virtualenvs/ProjectSumo-0-222X3X/lib/python3.8/site-packages/matlab/engine/futureresult.py\u001b[0m in \u001b[0;36mresult\u001b[0;34m(self, timeout)\u001b[0m\n\u001b[1;32m     65\u001b[0m                 \u001b[0;32mraise\u001b[0m \u001b[0mTypeError\u001b[0m\u001b[0;34m(\u001b[0m\u001b[0mpythonengine\u001b[0m\u001b[0;34m.\u001b[0m\u001b[0mgetMessage\u001b[0m\u001b[0;34m(\u001b[0m\u001b[0;34m'TimeoutCannotBeNegative'\u001b[0m\u001b[0;34m)\u001b[0m\u001b[0;34m)\u001b[0m\u001b[0;34m\u001b[0m\u001b[0;34m\u001b[0m\u001b[0m\n\u001b[1;32m     66\u001b[0m \u001b[0;34m\u001b[0m\u001b[0m\n\u001b[0;32m---> 67\u001b[0;31m         \u001b[0;32mreturn\u001b[0m \u001b[0mself\u001b[0m\u001b[0;34m.\u001b[0m\u001b[0m__future\u001b[0m\u001b[0;34m.\u001b[0m\u001b[0mresult\u001b[0m\u001b[0;34m(\u001b[0m\u001b[0mtimeout\u001b[0m\u001b[0;34m)\u001b[0m\u001b[0;34m\u001b[0m\u001b[0;34m\u001b[0m\u001b[0m\n\u001b[0m\u001b[1;32m     68\u001b[0m \u001b[0;34m\u001b[0m\u001b[0m\n\u001b[1;32m     69\u001b[0m     \u001b[0;32mdef\u001b[0m \u001b[0mcancel\u001b[0m\u001b[0;34m(\u001b[0m\u001b[0mself\u001b[0m\u001b[0;34m)\u001b[0m\u001b[0;34m:\u001b[0m\u001b[0;34m\u001b[0m\u001b[0;34m\u001b[0m\u001b[0m\n",
      "\u001b[0;32m~/.local/share/virtualenvs/ProjectSumo-0-222X3X/lib/python3.8/site-packages/matlab/engine/fevalfuture.py\u001b[0m in \u001b[0;36mresult\u001b[0;34m(self, timeout)\u001b[0m\n\u001b[1;32m     80\u001b[0m                 \u001b[0;32mraise\u001b[0m \u001b[0mTimeoutError\u001b[0m\u001b[0;34m(\u001b[0m\u001b[0mpythonengine\u001b[0m\u001b[0;34m.\u001b[0m\u001b[0mgetMessage\u001b[0m\u001b[0;34m(\u001b[0m\u001b[0;34m'MatlabFunctionTimeout'\u001b[0m\u001b[0;34m)\u001b[0m\u001b[0;34m)\u001b[0m\u001b[0;34m\u001b[0m\u001b[0;34m\u001b[0m\u001b[0m\n\u001b[1;32m     81\u001b[0m \u001b[0;34m\u001b[0m\u001b[0m\n\u001b[0;32m---> 82\u001b[0;31m             \u001b[0mself\u001b[0m\u001b[0;34m.\u001b[0m\u001b[0m_result\u001b[0m \u001b[0;34m=\u001b[0m \u001b[0mpythonengine\u001b[0m\u001b[0;34m.\u001b[0m\u001b[0mgetFEvalResult\u001b[0m\u001b[0;34m(\u001b[0m\u001b[0mself\u001b[0m\u001b[0;34m.\u001b[0m\u001b[0m_future\u001b[0m\u001b[0;34m,\u001b[0m\u001b[0mself\u001b[0m\u001b[0;34m.\u001b[0m\u001b[0m_nargout\u001b[0m\u001b[0;34m,\u001b[0m \u001b[0;32mNone\u001b[0m\u001b[0;34m,\u001b[0m \u001b[0mout\u001b[0m\u001b[0;34m=\u001b[0m\u001b[0mself\u001b[0m\u001b[0;34m.\u001b[0m\u001b[0m_out\u001b[0m\u001b[0;34m,\u001b[0m \u001b[0merr\u001b[0m\u001b[0;34m=\u001b[0m\u001b[0mself\u001b[0m\u001b[0;34m.\u001b[0m\u001b[0m_err\u001b[0m\u001b[0;34m)\u001b[0m\u001b[0;34m\u001b[0m\u001b[0;34m\u001b[0m\u001b[0m\n\u001b[0m\u001b[1;32m     83\u001b[0m             \u001b[0mself\u001b[0m\u001b[0;34m.\u001b[0m\u001b[0m_retrieved\u001b[0m \u001b[0;34m=\u001b[0m \u001b[0;32mTrue\u001b[0m\u001b[0;34m\u001b[0m\u001b[0;34m\u001b[0m\u001b[0m\n\u001b[1;32m     84\u001b[0m             \u001b[0;32mreturn\u001b[0m \u001b[0mself\u001b[0m\u001b[0;34m.\u001b[0m\u001b[0m_result\u001b[0m\u001b[0;34m\u001b[0m\u001b[0;34m\u001b[0m\u001b[0m\n",
      "\u001b[0;31mInterruptedError\u001b[0m: The execution of the MATLAB command was interrupted."
     ]
    }
   ],
   "metadata": {}
  },
  {
   "cell_type": "code",
   "execution_count": null,
   "source": [
    "print(out.getvalue())"
   ],
   "outputs": [],
   "metadata": {}
  },
  {
   "cell_type": "code",
   "execution_count": null,
   "source": [
    "MATLAB_ENG.version()"
   ],
   "outputs": [],
   "metadata": {}
  },
  {
   "cell_type": "code",
   "execution_count": null,
   "source": [
    "import matlab\n",
    "print(matlab.__file__)"
   ],
   "outputs": [],
   "metadata": {}
  },
  {
   "cell_type": "code",
   "execution_count": null,
   "source": [],
   "outputs": [],
   "metadata": {}
  }
 ],
 "metadata": {
  "orig_nbformat": 4,
  "language_info": {
   "name": "python",
   "version": "3.8.10",
   "mimetype": "text/x-python",
   "codemirror_mode": {
    "name": "ipython",
    "version": 3
   },
   "pygments_lexer": "ipython3",
   "nbconvert_exporter": "python",
   "file_extension": ".py"
  },
  "kernelspec": {
   "name": "python3",
   "display_name": "Python 3.8.10 64-bit ('ProjectSumo-0-222X3X': pipenv)"
  },
  "interpreter": {
   "hash": "9d1f2cd3231a71d86457824a020c8dbed3225f943f28ce8c6aa682a0df43dba4"
  }
 },
 "nbformat": 4,
 "nbformat_minor": 2
}