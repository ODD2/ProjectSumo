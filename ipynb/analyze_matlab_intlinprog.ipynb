{
 "cells": [
  {
   "cell_type": "code",
   "execution_count": 1,
   "metadata": {},
   "outputs": [],
   "source": [
    "import os\n",
    "import io\n",
    "import matlab.engine\n",
    "import sys\n",
    "sys.path.append(\"../\")\n",
    "import od.vars as GV\n",
    "import od.engine\n",
    "from od.network.allocator import ResourceAllocatorNomaApprox\n",
    "\n"
   ]
  },
  {
   "cell_type": "code",
   "execution_count": 2,
   "metadata": {},
   "outputs": [
    {
     "name": "stdout",
     "output_type": "stream",
     "text": [
      "('MATLAB_771504',)\n"
     ]
    },
    {
     "data": {
      "text/plain": [
       "'/home/OD/repos/ProjectSumo/ipynb'"
      ]
     },
     "execution_count": 2,
     "metadata": {},
     "output_type": "execute_result"
    }
   ],
   "source": [
    "print(matlab.engine.find_matlab())\n",
    "os.getcwd()"
   ]
  },
  {
   "cell_type": "code",
   "execution_count": 3,
   "metadata": {},
   "outputs": [],
   "source": [
    "MATLAB_ENG = matlab.engine.connect_matlab()\n",
    "od.engine.MATLAB_ENG = MATLAB_ENG"
   ]
  },
  {
   "cell_type": "code",
   "execution_count": 4,
   "metadata": {},
   "outputs": [
    {
     "name": "stdout",
     "output_type": "stream",
     "text": [
      "Done\n"
     ]
    }
   ],
   "source": [
    "if True:\n",
    "    MATLAB_ENG.addpath(os.getcwd() + \"/../matlab/\")\n",
    "    MATLAB_ENG.addpath(os.getcwd() + \"/../matlab/SelectCQI_bySNR/\")\n",
    "    MATLAB_ENG.addpath(os.getcwd() + \"/../matlab/PlannerV1/\")\n",
    "print(\"Done\")"
   ]
  },
  {
   "cell_type": "code",
   "execution_count": 5,
   "metadata": {},
   "outputs": [],
   "source": [
    "\n",
    "# QoS_GP_CONF = [\n",
    "# \t[\n",
    "# \t\t{'gid': 0.0, 'qos': 0.0, 'rbf_w': 2.0, 'rbf_h': 1.0, 'sinr_max': 23.712045618855058, 'pwr_req_dBm': 22.973, 'pwr_ext_dBm': 0.9223015226843518, 'rem_bits': 4712.0, 'mem_num': 71.0, 'eager_rate': 36.63437309374906}\n",
    "# \t],\n",
    "# \t[\n",
    "# \t\t{'gid': 5.0, 'qos': 1.0, 'rbf_w': 2.0, 'rbf_h': 1.0, 'sinr_max': 35.174129219912174, 'pwr_req_dBm': 22.956, 'pwr_ext_dBm': 3.034702226027002, 'rem_bits': 10712.0, 'mem_num': 17.0, 'eager_rate': 55.13946065977497},\n",
    "# \t\t{'gid': 4.0, 'qos': 1.0, 'rbf_w': 2.0, 'rbf_h': 1.0, 'sinr_max': 29.93949825941053, 'pwr_req_dBm': 22.959, 'pwr_ext_dBm': 2.729511581869497, 'rem_bits': 14792.0, 'mem_num': 10.0, 'eager_rate': 30.285257579987405},\n",
    "# \t\t{'gid': 7.0, 'qos': 1.0, 'rbf_w': 2.0, 'rbf_h': 1.0, 'sinr_max': 38.548690819308135, 'pwr_req_dBm': 22.955, 'pwr_ext_dBm': 3.1318014527925526, 'rem_bits': 3688.0, 'mem_num': 9.0, 'eager_rate': 87.80345203054216},\n",
    "# \t\t{'gid': 2.0, 'qos': 1.0, 'rbf_w': 2.0, 'rbf_h': 1.0, 'sinr_max': 24.740863098677366, 'pwr_req_dBm': 22.969, 'pwr_ext_dBm': 1.5202830452677776, 'rem_bits': 5640.0, 'mem_num': 9.0, 'eager_rate': 85.85339640344525},\n",
    "# \t\t{'gid': 6.0, 'qos': 1.0, 'rbf_w': 2.0, 'rbf_h': 1.0, 'sinr_max': 38.8170972756655, 'pwr_req_dBm': 22.955, 'pwr_ext_dBm': 3.1318014527925526, 'rem_bits': 7240.0, 'mem_num': 10.0, 'eager_rate': 36.47458385930194},\n",
    "# \t\t{'gid': 8.0, 'qos': 1.0, 'rbf_w': 2.0, 'rbf_h': 1.0, 'sinr_max': 28.355397019502817, 'pwr_req_dBm': 22.961, 'pwr_ext_dBm': 2.51331754988261, 'rem_bits': 216978.0, 'mem_num': 4.0, 'eager_rate': 0.605619464349728}\n",
    "# \t]\n",
    "# ]\n",
    "# QoS_GP_CONF = [\n",
    "# \t[\n",
    "# \t\t{'gid': 2.0, 'qos': 1.0, 'rbf_w': 2.0, 'rbf_h': 1.0, 'sinr_max': 18.2830342730702, 'pwr_req_dBm': 22.992, 'pwr_ext_dBm': -4.350942629063706, 'rem_bits': 290455.0, 'mem_num': 9.0, 'eager_rate': 3.337574931072202},\n",
    "# \t\t{'gid': 5.0, 'qos': 1.0, 'rbf_w': 2.0, 'rbf_h': 1.0, 'sinr_max': 18.52400268437595, 'pwr_req_dBm': 22.989, 'pwr_ext_dBm': -2.9694151005379332, 'rem_bits': 29088.0, 'mem_num': 7.0, 'eager_rate': 177.86494247807138},\n",
    "# \t\t{'gid': 8.0, 'qos': 1.0, 'rbf_w': 2.0, 'rbf_h': 1.0, 'sinr_max': 28.89612304419515, 'pwr_req_dBm': 22.96, 'pwr_ext_dBm': 2.6227721508302038, 'rem_bits': 14808.0, 'mem_num': 4.0, 'eager_rate': 28.062632286141262},\n",
    "# \t]\n",
    "# ]\n",
    "# QoS_GP_CONF = [\n",
    "# \t[\n",
    "# \t\t{'gid': 4.0, 'qos': 1.0, 'rbf_w': 2.0, 'rbf_h': 1.0, 'sinr_max': 32.07430265545245, 'pwr_req_dBm': 22.957, 'pwr_ext_dBm': 2.9353591822750817, 'rem_bits': 134283.0, 'mem_num': 8.0, 'eager_rate': 3.6125755646560775},\n",
    "# \t\t{'gid': 2.0, 'qos': 1.0, 'rbf_w': 2.0, 'rbf_h': 1.0, 'sinr_max': 31.393119329280523, 'pwr_req_dBm': 22.957, 'pwr_ext_dBm': 2.9353591822750817, 'rem_bits': 22643.0, 'mem_num': 10.0, 'eager_rate': 19.355847135066576},\n",
    "# \t\t{'gid': 1.0, 'qos': 1.0, 'rbf_w': 2.0, 'rbf_h': 1.0, 'sinr_max': 17.81152726123139, 'pwr_req_dBm': 22.999, 'pwr_ext_dBm': -13.37834310342348, 'rem_bits': 3082400.0, 'mem_num': 29.0, 'eager_rate': 86.84910822918255},\n",
    "# \t\t{'gid': 5.0, 'qos': 1.0, 'rbf_w': 2.0, 'rbf_h': 1.0, 'sinr_max': 35.645813350694, 'pwr_req_dBm': 22.955, 'pwr_ext_dBm': 3.1318014527925526, 'rem_bits': 288760.0, 'mem_num': 4.0, 'eager_rate': 0.24074566078393395}\n",
    "# \t]\n",
    "# ]\n",
    "QoS_GP_CONF = [\n",
    "    [\n",
    "        {\n",
    "            'gid': 8.0,\n",
    "            'qos': 1.0,\n",
    "            'rbf_w': 2.0,\n",
    "            'rbf_h': 1.0,\n",
    "            'sinr_max': 30.771152985394004,\n",
    "            'pwr_req_dBm': 22.958,\n",
    "            'pwr_ext_dBm': 2.833666714960843,\n",
    "            'rem_bits': 10668.0,\n",
    "            'mem_num': 7.0,\n",
    "            'eager_rate': 5.736917255360139\n",
    "        },\n",
    "        {\n",
    "            'gid': 4.0,\n",
    "            'qos': 1.0,\n",
    "            'rbf_w': 2.0,\n",
    "            'rbf_h': 1.0,\n",
    "            'sinr_max': 48.205159715810915,\n",
    "            'pwr_req_dBm': 22.954,\n",
    "            'pwr_ext_dBm': 3.2267555049165395,\n",
    "            'rem_bits': 21400.0,\n",
    "            'mem_num': 6.0,\n",
    "            'eager_rate': 7.2555054815327855\n",
    "        },\n",
    "        {\n",
    "            'gid': 3.0,\n",
    "            'qos': 1.0,\n",
    "            'rbf_w': 2.0,\n",
    "            'rbf_h': 1.0,\n",
    "            'sinr_max': 27.999893320750626,\n",
    "            'pwr_req_dBm': 22.961,\n",
    "            'pwr_ext_dBm': 2.51331754988261,\n",
    "            'rem_bits': 22888.0,\n",
    "            'mem_num': 8.0,\n",
    "            'eager_rate': 17.234669657017825\n",
    "        },\n",
    "        {\n",
    "            'gid': 6.0,\n",
    "            'qos': 1.0,\n",
    "            'rbf_w': 2.0,\n",
    "            'rbf_h': 1.0,\n",
    "            'sinr_max': 30.58000469893093,\n",
    "            'pwr_req_dBm': 22.958,\n",
    "            'pwr_ext_dBm': 2.833666714960843,\n",
    "            'rem_bits': 2014639.0,\n",
    "            'mem_num': 5.0,\n",
    "            'eager_rate': 0.527111997358755\n",
    "        },\n",
    "        {\n",
    "            'gid': 5.0,\n",
    "            'qos': 1.0,\n",
    "            'rbf_w': 2.0,\n",
    "            'rbf_h': 1.0,\n",
    "            'sinr_max': 35.46719559288359,\n",
    "            'pwr_req_dBm': 22.955,\n",
    "            'pwr_ext_dBm': 3.1318014527925526,\n",
    "            'rem_bits': 940712.0,\n",
    "            'mem_num': 2.0,\n",
    "            'eager_rate': 0.26013374238008957\n",
    "        },\n",
    "        {\n",
    "            'gid': 1.0,\n",
    "            'qos': 1.0,\n",
    "            'rbf_w': 2.0,\n",
    "            'rbf_h': 1.0,\n",
    "            'sinr_max': 15.017080245943824,\n",
    "            'pwr_req_dBm': 22.969,\n",
    "            'pwr_ext_dBm': 1.5202830452677776,\n",
    "            'rem_bits': 80960.0,\n",
    "            'mem_num': 46.0,\n",
    "            'eager_rate': 11.839111397068704\n",
    "        }\n",
    "    ]\n",
    "]\n",
    "\n",
    "RES_CONF = {'rbf_h': 50.0, 'rbf_w': 2.0, 'max_pwr_dBm': 23.0}\n"
   ]
  },
  {
   "cell_type": "code",
   "execution_count": 6,
   "metadata": {},
   "outputs": [
    {
     "name": "stdout",
     "output_type": "stream",
     "text": [
      "{'g8': {'t0': {'c10': 24}}, 'g4': {'t0': {'c15': 23}}, 'g3': {'t0': {'c15': 25}}, 'g6': {'t0': {}}, 'g5': {'t0': {'c12': 26}}, 'g1': {'t0': {'c12': 2}}}\n"
     ]
    }
   ],
   "source": [
    "out = io.StringIO()\n",
    "alloc_report, exitflag = MATLAB_ENG.PlannerV1(RES_CONF, QoS_GP_CONF, nargout=2, stdout=out)\n",
    "print(alloc_report)"
   ]
  },
  {
   "cell_type": "code",
   "execution_count": 7,
   "metadata": {},
   "outputs": [
    {
     "name": "stdout",
     "output_type": "stream",
     "text": [
      "double\n",
      "double\n",
      "double\n",
      "double\n",
      "double\n",
      "double\n",
      "double\n",
      "double\n",
      "double\n",
      "double\n",
      "G8 - req_pwr: 22.958000dB/197.605942mW ext_pwr:2.833667dB/1.920289mW\n",
      "G4 - req_pwr: 22.954000dB/197.424024mW ext_pwr:3.226756dB/2.102207mW\n",
      "G3 - req_pwr: 22.961000dB/197.742491mW ext_pwr:2.513318dB/1.783741mW\n",
      "G6 - req_pwr: 22.958000dB/197.605942mW ext_pwr:2.833667dB/1.920289mW\n",
      "G5 - req_pwr: 22.955000dB/197.469488mW ext_pwr:3.131801dB/2.056744mW\n",
      "G1 - req_pwr: 22.969000dB/198.107081mW ext_pwr:1.520283dB/1.419150mW\n",
      "OMA Allocation Done!\n",
      "max_ext_pwr:2.102207mW min_ext_pwr:1.419150mW\n",
      "G8 - cqi_max:10 cqi_min:9 sinr_max_sdn:1194.305132 sinr_max:30.771153\n",
      "G6 - cqi_max:10 cqi_min:9 sinr_max_sdn:1142.879571 sinr_max:30.580005\n",
      "G5 - cqi_max:12 cqi_min:11 sinr_max_sdn:3521.434050 sinr_max:35.467196\n",
      "G1 - cqi_max:2 cqi_min:1 sinr_max_sdn:31.747390 sinr_max:15.017080\n",
      "NOMA Allocation Done!\n",
      "===== QoS:1, Gid:8, Geo:(2,1) =====\n",
      "{\n",
      " --- OMA Layer ---\n",
      " --- NOMA Layer ---\n",
      " cqi:10(x24), pwr:1.831828e+00 , rbs:[(5,1)(10,1)(11,1)(12,1)(13,1)(14,1)(15,1)(19,1)(21,1)(23,1)(26,1)(27,1)(28,1)(29,1)(31,1)(32,1)(36,1)(37,1)(38,1)(39,1)(40,1)(41,1)(43,1)(46,1)]\n",
      "}\n",
      "===== QoS:1, Gid:4, Geo:(2,1) =====\n",
      "{\n",
      " --- OMA Layer ---\n",
      " cqi:15(x23), pwr:1.974240e+02 , rbs:[(1,1)(8,1)(10,1)(12,1)(13,1)(15,1)(19,1)(22,1)(23,1)(24,1)(28,1)(33,1)(35,1)(36,1)(38,1)(40,1)(42,1)(43,1)(45,1)(47,1)(48,1)(49,1)(50,1)]\n",
      " --- NOMA Layer ---\n",
      "}\n",
      "===== QoS:1, Gid:3, Geo:(2,1) =====\n",
      "{\n",
      " --- OMA Layer ---\n",
      " cqi:15(x25), pwr:1.977425e+02 , rbs:[(2,1)(3,1)(4,1)(5,1)(7,1)(9,1)(11,1)(14,1)(16,1)(18,1)(20,1)(21,1)(25,1)(26,1)(27,1)(29,1)(30,1)(31,1)(32,1)(34,1)(37,1)(39,1)(41,1)(44,1)(46,1)]\n",
      " --- NOMA Layer ---\n",
      "}\n",
      "===== QoS:1, Gid:6, Geo:(2,1) =====\n",
      "{\n",
      " --- OMA Layer ---\n",
      " --- NOMA Layer ---\n",
      "}\n",
      "===== QoS:1, Gid:5, Geo:(2,1) =====\n",
      "{\n",
      " --- OMA Layer ---\n",
      " --- NOMA Layer ---\n",
      " cqi:12(x26), pwr:1.456399e+00 , rbs:[(1,1)(2,1)(3,1)(4,1)(6,1)(7,1)(8,1)(9,1)(16,1)(17,1)(18,1)(20,1)(22,1)(24,1)(25,1)(30,1)(33,1)(34,1)(35,1)(42,1)(44,1)(45,1)(47,1)(48,1)(49,1)(50,1)]\n",
      "}\n",
      "===== QoS:1, Gid:1, Geo:(2,1) =====\n",
      "{\n",
      " --- OMA Layer ---\n",
      " cqi:12(x2), pwr:1.981071e+02 , rbs:[(6,1)(17,1)]\n",
      " --- NOMA Layer ---\n",
      "}\n",
      "\n"
     ]
    }
   ],
   "source": [
    "print(out.getvalue())"
   ]
  },
  {
   "cell_type": "code",
   "execution_count": 8,
   "metadata": {},
   "outputs": [
    {
     "data": {
      "text/plain": [
       "'9.9.0.1467703 (R2020b)'"
      ]
     },
     "execution_count": 8,
     "metadata": {},
     "output_type": "execute_result"
    }
   ],
   "source": [
    "MATLAB_ENG.version()"
   ]
  },
  {
   "cell_type": "code",
   "execution_count": 9,
   "metadata": {},
   "outputs": [
    {
     "name": "stdout",
     "output_type": "stream",
     "text": [
      "/home/OD/.local/share/virtualenvs/ProjectSumo-0-222X3X/lib/python3.8/site-packages/matlab/__init__.py\n"
     ]
    }
   ],
   "source": [
    "import matlab\n",
    "print(matlab.__file__)"
   ]
  },
  {
   "cell_type": "code",
   "execution_count": 10,
   "metadata": {},
   "outputs": [
    {
     "data": {
      "text/plain": [
       "{'g3': {'t0': {'c15': 25}},\n",
       " 'g1': {'t0': {'c12': 25, 'c1': 25}},\n",
       " 'g4': {'t0': {'c15': 23}},\n",
       " 'g8': {'t0': {'c9': 2}}}"
      ]
     },
     "execution_count": 10,
     "metadata": {},
     "output_type": "execute_result"
    }
   ],
   "source": [
    "allocator = ResourceAllocatorNomaApprox(RES_CONF,QoS_GP_CONF)\n",
    "allocator()"
   ]
  },
  {
   "cell_type": "code",
   "execution_count": null,
   "metadata": {},
   "outputs": [],
   "source": []
  }
 ],
 "metadata": {
  "interpreter": {
   "hash": "f227239d0a04c460e8af7627ec9c2273aa001f4c3f532f9d517bff180519c459"
  },
  "kernelspec": {
   "display_name": "Python 3.8.10 64-bit ('ProjectSumo-0-222X3X': pipenv)",
   "name": "python3"
  },
  "language_info": {
   "codemirror_mode": {
    "name": "ipython",
    "version": 3
   },
   "file_extension": ".py",
   "mimetype": "text/x-python",
   "name": "python",
   "nbconvert_exporter": "python",
   "pygments_lexer": "ipython3",
   "version": "3.8.10"
  },
  "orig_nbformat": 4
 },
 "nbformat": 4,
 "nbformat_minor": 2
}
