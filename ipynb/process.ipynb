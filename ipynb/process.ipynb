{
 "cells": [
  {
   "cell_type": "code",
   "execution_count": null,
   "metadata": {},
   "outputs": [],
   "source": [
    "import os\n",
    "import pickle\n",
    "import sys\n",
    "import math\n",
    "sys.path.append(\"../\")\n",
    "from od.env.config import SUMO_SIM_SECONDS, NET_TIMEOUT_SECONDS, SUMO_TOTAL_SECONDS\n",
    "from od.misc.statistic import NetFlowType\n",
    "from od.network.types import ResourceAllocatorType, BaseStationType\n",
    "from od.misc.interest import InterestConfig\n",
    "from od.env.config import SUMO_SIM_STEPS, ROOT_DIR\n",
    "from od.env.station import BS_PRESET\n",
    "from od.social.manager.types import DynamicSocialGroupBehaviour\n",
    "import od.misc.logger\n",
    "import od.misc.statistic as oms\n",
    "from datetime import datetime\n",
    "from os.path import exists\n",
    "DEST_FOLDER =  \"../data/POST_REGNA_PERFECT/\"\n",
    "\n"
   ]
  },
  {
   "cell_type": "code",
   "execution_count": null,
   "metadata": {},
   "outputs": [],
   "source": [
    "class FakeBaseStation:\n",
    "    def __init__(self, name, pos, bs_type, serial):\n",
    "        self.name = name\n",
    "        self.pos = pos\n",
    "        self.type = bs_type\n",
    "        self.serial = serial\n",
    "\n",
    "    def __repr__(self) -> str:\n",
    "        return self.name\n",
    "\n",
    "    def __index__(self):\n",
    "        return self.serial\n"
   ]
  },
  {
   "cell_type": "code",
   "execution_count": null,
   "metadata": {},
   "outputs": [],
   "source": [
    "def Run(statistic, interest_config,save_path):\n",
    "    statistic.nft_traffic = {}\n",
    "    statistic.interest_config = interest_config\n",
    "    statistic.dirpath = save_path\n",
    "    BS_CONFIG = {\n",
    "        name: bs_config\n",
    "        for name, bs_config in BS_PRESET.items()\n",
    "        if (\n",
    "            bs_config[\"type\"] == BaseStationType.UMA or\n",
    "            (\n",
    "                interest_config.req_rsu and\n",
    "                bs_config[\"type\"] == BaseStationType.UMI\n",
    "            )\n",
    "        )\n",
    "    }\n",
    "    time_text = datetime.now().strftime(\"%Y-%m-%d %H-%M-%S\")\n",
    "\n",
    "    class GV:\n",
    "        NET_STATION_CONTROLLER = [\n",
    "            FakeBaseStation(\n",
    "                name,\n",
    "                BS_CONFIG[name][\"pos\"],\n",
    "                BS_CONFIG[name][\"type\"],\n",
    "                i\n",
    "            ) for i, name in enumerate(BS_CONFIG)\n",
    "        ]\n",
    "        STATISTIC = od.misc.logger.Logger(statistic.dirpath, \"Statistic ({}).txt\".format(time_text))\n",
    "        RESULT = od.misc.logger.Logger(statistic.dirpath, \"Result ({}).txt\".format(time_text))\n",
    "    oms.GV = GV\n",
    "#############################################################################################################\n",
    "    # preprocess overtimes\n",
    "#############################################################################################################\n",
    "    statistic.Report(True)\n",
    "    GV.STATISTIC.Encapsulate()\n",
    "    GV.RESULT.Encapsulate()\n"
   ]
  },
  {
   "cell_type": "code",
   "execution_count": null,
   "metadata": {},
   "outputs": [],
   "source": [
    "# interest_config = InterestConfig(DynamicSocialGroupBehaviour.MAX_N_MEMBER,20, False, ResourceAllocatorType.NOMA_OPT, True,1.4, 1)\n",
    "# old_statistic = None\n",
    "# with open(\"../data/REGNA_PERFECT/{}/object.pickle\".format(interest_config.folder()), \"rb\") as file:\n",
    "#     old_statistic = pickle.load(file)\n",
    "# Run(old_statistic, interest_config)"
   ]
  },
  {
   "cell_type": "code",
   "execution_count": null,
   "metadata": {},
   "outputs": [],
   "source": [
    "for res_alloc_type in [ResourceAllocatorType.NOMA_APR,ResourceAllocatorType.NOMA_OPT]:\n",
    "    for rsu in [False, True]:\n",
    "        for qos_re_class in [True, False] if rsu else [False]:\n",
    "            for traffic_scale in [i / 10 for i in range(10, 15, 1)]:\n",
    "                for seed in [i + 1 for i in range(20)]:\n",
    "                    interest_config = InterestConfig(DynamicSocialGroupBehaviour.MAX_N_MEMBER,20, qos_re_class, res_alloc_type, rsu, traffic_scale, seed)\n",
    "                    old_statistic = None\n",
    "                    save_path = DEST_FOLDER + interest_config.folder()\n",
    "                    if(not exists(save_path+\"report.pickle\")):\n",
    "                        print(save_path)\n",
    "                        with open(\"../data/REGNA_PERFECT/{}/object.pickle\".format(interest_config.folder()), \"rb\") as file:\n",
    "                            old_statistic = pickle.load(file)\n",
    "                        Run(old_statistic, interest_config,save_path)\n",
    "                    else:\n",
    "                        print(\"{}, Post Process Exists, Skipping...\".format(save_path+\"report.pickle\"))\n"
   ]
  },
  {
   "cell_type": "code",
   "execution_count": null,
   "metadata": {},
   "outputs": [],
   "source": [
    "for dyn_sg_behav in DynamicSocialGroupBehaviour:\n",
    "    for dyn_sg_conf in [(i*2+5) for i in range(5)]:\n",
    "        for qos_re_class in [True ,False]:\n",
    "            for seed in [i + 1 for i in range(20)]:        \n",
    "                interest_config = InterestConfig(dyn_sg_behav,dyn_sg_conf, qos_re_class, ResourceAllocatorType.NOMA_APR, True, 1.4, seed)\n",
    "                old_statistic = None\n",
    "                save_path = DEST_FOLDER + interest_config.folder()\n",
    "                if(not exists(save_path+\"report.pickle\")):\n",
    "                    print(save_path)\n",
    "                    with open(\"../data/REGNA_PERFECT/{}/object.pickle\".format(interest_config.folder()), \"rb\") as file:\n",
    "                        old_statistic = pickle.load(file)\n",
    "                    Run(old_statistic, interest_config,save_path)\n",
    "                else:\n",
    "                    print(\"{}, Post Process Exists, Skipping...\".format(save_path+\"report.pickle\"))"
   ]
  },
  {
   "cell_type": "code",
   "execution_count": null,
   "metadata": {},
   "outputs": [],
   "source": []
  }
 ],
 "metadata": {
  "interpreter": {
   "hash": "f227239d0a04c460e8af7627ec9c2273aa001f4c3f532f9d517bff180519c459"
  },
  "kernelspec": {
   "display_name": "Python 3.8.10 64-bit ('ProjectSumo-0-222X3X': pipenv)",
   "name": "python3"
  },
  "language_info": {
   "codemirror_mode": {
    "name": "ipython",
    "version": 3
   },
   "file_extension": ".py",
   "mimetype": "text/x-python",
   "name": "python",
   "nbconvert_exporter": "python",
   "pygments_lexer": "ipython3",
   "version": "3.8.10"
  },
  "orig_nbformat": 4
 },
 "nbformat": 4,
 "nbformat_minor": 2
}
