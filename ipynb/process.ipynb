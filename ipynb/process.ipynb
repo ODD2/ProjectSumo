{
 "cells": [
  {
   "cell_type": "code",
   "execution_count": null,
   "source": [
    "import os\n",
    "import pickle\n",
    "import sys\n",
    "import math\n",
    "sys.path.append(\"../\")\n",
    "from od.env.config import SUMO_SIM_SECONDS\n",
    "from od.misc.statistic import NetFlowType\n",
    "from od.network.types import ResourceAllocatorType,BaseStationType\n",
    "from od.misc.interest import InterestConfig\n",
    "from od.env.config import SUMO_SIM_STEPS,ROOT_DIR\n",
    "from od.env.station import BS_PRESET\n",
    "import od.misc.logger\n",
    "import od.misc.statistic as oms\n",
    "from datetime import datetime"
   ],
   "outputs": [],
   "metadata": {}
  },
  {
   "cell_type": "code",
   "execution_count": null,
   "source": [
    "class FakeBaseStation:\n",
    "    def __init__(self,name,pos,bs_type,serial):\n",
    "        self.name = name\n",
    "        self.pos = pos\n",
    "        self.type = bs_type\n",
    "        self.serial = serial\n",
    "    def __repr__(self) -> str:\n",
    "        return self.name\n",
    "    def __index__(self):\n",
    "        return self.serial\n",
    "\n",
    "    \n"
   ],
   "outputs": [],
   "metadata": {}
  },
  {
   "cell_type": "code",
   "execution_count": null,
   "source": [
    "def Run(statistic,interest_config):\n",
    "    statistic.nft_traffic = {}\n",
    "    statistic.raw_sg_header = None\n",
    "    statistic.interest_config = interest_config\n",
    "    statistic.dirpath = \"../data/GS20/\" + statistic.interest_config.folder()\n",
    "    print(statistic.dirpath)\n",
    "    BS_CONFIG =  {\n",
    "            name:bs_config \n",
    "            for name,bs_config in BS_PRESET.items()\n",
    "            if (\n",
    "                bs_config[\"type\"] == BaseStationType.UMA  or \n",
    "                (\n",
    "                    interest_config.req_rsu and \n",
    "                    bs_config[\"type\"] == BaseStationType.UMI\n",
    "                )\n",
    "            )\n",
    "    }  \n",
    "    time_text = datetime.now().strftime(\"%Y-%m-%d %H-%M-%S\")\n",
    "    class GV:\n",
    "        NET_STATION_CONTROLLER = [ \n",
    "            FakeBaseStation(\n",
    "                name,\n",
    "                BS_CONFIG[name][\"pos\"],\n",
    "                BS_CONFIG[name][\"type\"] ,\n",
    "                i\n",
    "            )   for i,name in enumerate(BS_CONFIG)\n",
    "        ]\n",
    "        STATISTIC = od.misc.logger.Logger(statistic.dirpath,\"Statistic ({}).txt\".format(time_text))\n",
    "        RESULT = od.misc.logger.Logger(statistic.dirpath,\"Result ({}).txt\".format(time_text))\n",
    "    oms.GV = GV\n",
    "    statistic.Report(True)\n",
    "    GV.STATISTIC.Encapsulate()\n",
    "    GV.RESULT.Encapsulate()\n",
    "    "
   ],
   "outputs": [],
   "metadata": {}
  },
  {
   "cell_type": "code",
   "execution_count": null,
   "source": [
    "# interest_config = InterestConfig(False,ResourceAllocatorType.NOMA_OPT,False,1.4,9)\n",
    "# old_statistic = None\n",
    "# with open(\"../data/{}/object.pickle\".format(interest_config.folder_legacy()), \"rb\") as file:\n",
    "#     old_statistic = pickle.load(file)\n",
    "# Run(old_statistic,interest_config)"
   ],
   "outputs": [],
   "metadata": {}
  },
  {
   "cell_type": "code",
   "execution_count": null,
   "source": [
    "for qos_re_class in [False]:\n",
    "        for res_alloc_type in [ResourceAllocatorType.NOMA_OPT]:\n",
    "            for rsu in [False, True]:\n",
    "                for traffic_scale in [i/10 for i in range(7, 15, 1)]:\n",
    "                    for seed in [ i+ 1 for i in range(20)]:\n",
    "                        interest_config = InterestConfig(qos_re_class,res_alloc_type,rsu,traffic_scale,seed)\n",
    "                        old_statistic = None\n",
    "                        with open(\"../data/{}/object.pickle\".format(interest_config.folder_legacy()), \"rb\") as file:\n",
    "                            old_statistic = pickle.load(file)\n",
    "                        Run(old_statistic,interest_config)"
   ],
   "outputs": [],
   "metadata": {}
  },
  {
   "cell_type": "code",
   "execution_count": null,
   "source": [],
   "outputs": [],
   "metadata": {}
  },
  {
   "cell_type": "code",
   "execution_count": null,
   "source": [],
   "outputs": [],
   "metadata": {}
  }
 ],
 "metadata": {
  "orig_nbformat": 4,
  "language_info": {
   "name": "python",
   "version": "3.8.10",
   "mimetype": "text/x-python",
   "codemirror_mode": {
    "name": "ipython",
    "version": 3
   },
   "pygments_lexer": "ipython3",
   "nbconvert_exporter": "python",
   "file_extension": ".py"
  },
  "kernelspec": {
   "name": "python3",
   "display_name": "Python 3.8.10 64-bit ('ProjectSumo-0-222X3X': pipenv)"
  },
  "interpreter": {
   "hash": "9d1f2cd3231a71d86457824a020c8dbed3225f943f28ce8c6aa682a0df43dba4"
  }
 },
 "nbformat": 4,
 "nbformat_minor": 2
}