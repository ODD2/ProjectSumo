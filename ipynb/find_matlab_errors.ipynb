{
 "cells": [
  {
   "cell_type": "code",
   "execution_count": 1,
   "metadata": {},
   "outputs": [],
   "source": [
    "from glob import glob\n",
    "import re\n",
    "path = \"../data/REGNA/*/*/*/*/*/*/Error*\"\n",
    "files = glob(path)\n",
    "# print(files)\n",
    "for filename in files:\n",
    "    with open(filename,\"r\") as f:\n",
    "        content = f.read()\n",
    "        num_ml_err = len(re.findall(\"Matlab\",content))\n",
    "        if num_ml_err > 0:\n",
    "            print(filename,num_ml_err)"
   ]
  },
  {
   "cell_type": "code",
   "execution_count": 2,
   "metadata": {},
   "outputs": [],
   "source": [
    "from glob import glob\n",
    "import re\n",
    "path = \"../data/REGNA_PERFECT/*/*/*/*/*/*/Error*\"\n",
    "files = glob(path)\n",
    "# print(files)\n",
    "for filename in files:\n",
    "    with open(filename,\"r\") as f:\n",
    "        content = f.read()\n",
    "        num_ml_err = len(re.findall(\"Matlab\",content))\n",
    "        if num_ml_err > 0:\n",
    "            print(filename,num_ml_err)"
   ]
  },
  {
   "cell_type": "code",
   "execution_count": null,
   "metadata": {},
   "outputs": [],
   "source": []
  }
 ],
 "metadata": {
  "interpreter": {
   "hash": "f227239d0a04c460e8af7627ec9c2273aa001f4c3f532f9d517bff180519c459"
  },
  "kernelspec": {
   "display_name": "Python 3.8.10 ('ProjectSumo-0-222X3X')",
   "language": "python",
   "name": "python3"
  },
  "language_info": {
   "codemirror_mode": {
    "name": "ipython",
    "version": 3
   },
   "file_extension": ".py",
   "mimetype": "text/x-python",
   "name": "python",
   "nbconvert_exporter": "python",
   "pygments_lexer": "ipython3",
   "version": "3.8.10"
  },
  "orig_nbformat": 4
 },
 "nbformat": 4,
 "nbformat_minor": 2
}
