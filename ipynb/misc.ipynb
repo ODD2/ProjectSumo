{
 "cells": [
  {
   "cell_type": "code",
   "execution_count": 1,
   "metadata": {},
   "outputs": [],
   "source": [
    "import sys\n",
    "import os\n",
    "sys.path.append(\"../\")\n",
    "os.chdir(\"/home/OD/repos/ProjectSumoDev/\")\n",
    "import single\n",
    "from od.misc.interest import InterestConfig\n",
    "from od.network.types import ResourceAllocatorType\n",
    "from od.env.config import SUMO_SIM_STEPS"
   ]
  },
  {
   "cell_type": "code",
   "execution_count": 2,
   "metadata": {},
   "outputs": [
    {
     "name": "stdout",
     "output_type": "stream",
     "text": [
      " Retrying in 1 seconds\n",
      "Loading configuration ... done.\n"
     ]
    }
   ],
   "source": [
    "interest_config = InterestConfig(True,ResourceAllocatorType.NOMA_OPT,True,0.6,8787)\n",
    "single.InitTraci(interest_config)\n",
    "for _ in range(1850):\n",
    "    single.traci.simulationStep()\n",
    "for _ in range(SUMO_SIM_STEPS):\n",
    "     single.traci.simulationStep()"
   ]
  },
  {
   "cell_type": "code",
   "execution_count": 3,
   "metadata": {},
   "outputs": [
    {
     "data": {
      "text/plain": [
       "195.0"
      ]
     },
     "execution_count": 3,
     "metadata": {},
     "output_type": "execute_result"
    }
   ],
   "source": [
    "from od.misc.siminfo import SumoSimInfo\n",
    "ss = SumoSimInfo()\n",
    "ss.UpdateSS()\n",
    "ss.getTime()"
   ]
  },
  {
   "cell_type": "code",
   "execution_count": 2,
   "metadata": {},
   "outputs": [
    {
     "name": "stdout",
     "output_type": "stream",
     "text": [
      " Retrying in 1 seconds\n",
      "Loading configuration ... done.\n",
      "Step #185.00 (0ms ?*RT. ?UPS, TraCI: 4657ms, vehicles TOT 83 ACT 56 BUF 0)                \n",
      " Retrying in 1 seconds\n",
      "Loading configuration ... done.\n",
      "Step #185.00 (0ms ?*RT. ?UPS, TraCI: 0ms, vehicles TOT 83 ACT 56 BUF 0)                   \n",
      " Retrying in 1 seconds\n",
      "Loading configuration ... done.\n",
      "Step #185.00 (0ms ?*RT. ?UPS, TraCI: 0ms, vehicles TOT 83 ACT 56 BUF 0)                   \n",
      " Retrying in 1 seconds\n",
      "Loading configuration ... done.\n",
      "Step #185.00 (0ms ?*RT. ?UPS, TraCI: 0ms, vehicles TOT 83 ACT 56 BUF 0)                   \n",
      " Retrying in 1 seconds\n",
      "Loading configuration ... done.\n",
      "Step #185.00 (0ms ?*RT. ?UPS, TraCI: 1ms, vehicles TOT 83 ACT 56 BUF 0)                   \n",
      " Retrying in 1 seconds\n",
      "Loading configuration ... done.\n",
      "Step #185.00 (0ms ?*RT. ?UPS, TraCI: 0ms, vehicles TOT 83 ACT 56 BUF 0)                   \n",
      " Retrying in 1 seconds\n",
      "Loading configuration ... done.\n",
      "Step #185.00 (1ms ~= 100.00*RT, ~56000.00UPS, TraCI: 0ms, vehicles TOT 83 ACT 56 BUF 0)   \n",
      " Retrying in 1 seconds\n",
      "Loading configuration ... done.\n",
      "Step #185.00 (0ms ?*RT. ?UPS, TraCI: 0ms, vehicles TOT 83 ACT 56 BUF 0)                   \n",
      " Retrying in 1 seconds\n",
      "Loading configuration ... done.\n",
      "Step #185.00 (0ms ?*RT. ?UPS, TraCI: 0ms, vehicles TOT 83 ACT 56 BUF 0)                   \n",
      " Retrying in 1 seconds\n",
      "Loading configuration ... done.\n",
      "Step #185.00 (0ms ?*RT. ?UPS, TraCI: 1ms, vehicles TOT 83 ACT 56 BUF 0)                   \n"
     ]
    }
   ],
   "source": [
    "for _ in range(10):\n",
    "    interest_config = InterestConfig(True,ResourceAllocatorType.NOMA_OPT,True,0.6,8787)\n",
    "    single.InitTraci(interest_config)\n",
    "    for _ in range(1850):\n",
    "        single.traci.simulationStep()\n",
    "    single.GE.InitializeSimulationContext(interest_config)\n",
    "    single.traci.close()"
   ]
  },
  {
   "cell_type": "code",
   "execution_count": null,
   "metadata": {},
   "outputs": [],
   "source": []
  }
 ],
 "metadata": {
  "interpreter": {
   "hash": "f227239d0a04c460e8af7627ec9c2273aa001f4c3f532f9d517bff180519c459"
  },
  "kernelspec": {
   "display_name": "Python 3.8.10 64-bit ('ProjectSumo-0-222X3X': pipenv)",
   "name": "python3"
  },
  "language_info": {
   "codemirror_mode": {
    "name": "ipython",
    "version": 3
   },
   "file_extension": ".py",
   "mimetype": "text/x-python",
   "name": "python",
   "nbconvert_exporter": "python",
   "pygments_lexer": "ipython3",
   "version": "3.8.10"
  },
  "orig_nbformat": 4
 },
 "nbformat": 4,
 "nbformat_minor": 2
}
