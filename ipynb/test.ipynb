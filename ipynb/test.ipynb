{
 "cells": [
  {
   "cell_type": "code",
   "execution_count": 4,
   "source": [
    "import os\n",
    "import io\n",
    "import matlab.engine"
   ],
   "outputs": [],
   "metadata": {}
  },
  {
   "cell_type": "code",
   "execution_count": 5,
   "source": [
    "print(matlab.engine.find_matlab())"
   ],
   "outputs": [
    {
     "output_type": "stream",
     "name": "stdout",
     "text": [
      "('MATLAB_225314',)\n"
     ]
    }
   ],
   "metadata": {}
  },
  {
   "cell_type": "code",
   "execution_count": null,
   "source": [
    "MATLAB_ENG = matlab.engine.connect_matlab(\"MATLAB_214012\")\n",
    "MATLAB_ENG.addpath(os.getcwd() + \"/matlab/\")\n",
    "MATLAB_ENG.addpath(os.getcwd() + \"/matlab/SelectCQI_bySNR/\")\n",
    "MATLAB_ENG.addpath(os.getcwd() + \"/matlab/PlannerV1/\")\n"
   ],
   "outputs": [],
   "metadata": {}
  },
  {
   "cell_type": "code",
   "execution_count": null,
   "source": [
    "\n",
    "QoS_GP_CONF = [\n",
    "\t[\n",
    "\t\t{'gid': 0.0, 'qos': 0.0, 'rbf_w': 2.0, 'rbf_h': 1.0, 'sinr_max': 23.712045618855058, 'pwr_req_dBm': 22.973, 'pwr_ext_dBm': 0.9223015226843518, 'rem_bits': 4712.0, 'mem_num': 71.0, 'eager_rate': 36.63437309374906}\n",
    "\t],\n",
    "\t[\n",
    "\t\t{'gid': 5.0, 'qos': 1.0, 'rbf_w': 2.0, 'rbf_h': 1.0, 'sinr_max': 35.174129219912174, 'pwr_req_dBm': 22.956, 'pwr_ext_dBm': 3.034702226027002, 'rem_bits': 10712.0, 'mem_num': 17.0, 'eager_rate': 55.13946065977497},\n",
    "\t\t{'gid': 4.0, 'qos': 1.0, 'rbf_w': 2.0, 'rbf_h': 1.0, 'sinr_max': 29.93949825941053, 'pwr_req_dBm': 22.959, 'pwr_ext_dBm': 2.729511581869497, 'rem_bits': 14792.0, 'mem_num': 10.0, 'eager_rate': 30.285257579987405},\n",
    "\t\t{'gid': 7.0, 'qos': 1.0, 'rbf_w': 2.0, 'rbf_h': 1.0, 'sinr_max': 38.548690819308135, 'pwr_req_dBm': 22.955, 'pwr_ext_dBm': 3.1318014527925526, 'rem_bits': 3688.0, 'mem_num': 9.0, 'eager_rate': 87.80345203054216},\n",
    "\t\t{'gid': 2.0, 'qos': 1.0, 'rbf_w': 2.0, 'rbf_h': 1.0, 'sinr_max': 24.740863098677366, 'pwr_req_dBm': 22.969, 'pwr_ext_dBm': 1.5202830452677776, 'rem_bits': 5640.0, 'mem_num': 9.0, 'eager_rate': 85.85339640344525},\n",
    "\t\t{'gid': 6.0, 'qos': 1.0, 'rbf_w': 2.0, 'rbf_h': 1.0, 'sinr_max': 38.8170972756655, 'pwr_req_dBm': 22.955, 'pwr_ext_dBm': 3.1318014527925526, 'rem_bits': 7240.0, 'mem_num': 10.0, 'eager_rate': 36.47458385930194},\n",
    "\t\t{'gid': 8.0, 'qos': 1.0, 'rbf_w': 2.0, 'rbf_h': 1.0, 'sinr_max': 28.355397019502817, 'pwr_req_dBm': 22.961, 'pwr_ext_dBm': 2.51331754988261, 'rem_bits': 216978.0, 'mem_num': 4.0, 'eager_rate': 0.605619464349728}\n",
    "\t]\n",
    "]\n",
    "RES_CONF = {'rbf_h': 50.0, 'rbf_w': 2.0, 'max_pwr_dBm': 23.0}"
   ],
   "outputs": [],
   "metadata": {}
  },
  {
   "cell_type": "code",
   "execution_count": 11,
   "source": [
    "out = io.StringIO()\n",
    "alloc_report, exitflag = MATLAB_ENG.PlannerV1(RES_CONF, QoS_GP_CONF, nargout=2, stdout=out)"
   ],
   "outputs": [
    {
     "output_type": "error",
     "ename": "EngineError",
     "evalue": "MATLAB function cannot be evaluated",
     "traceback": [
      "\u001b[0;31m---------------------------------------------------------------------------\u001b[0m",
      "\u001b[0;31mEngineError\u001b[0m                               Traceback (most recent call last)",
      "\u001b[0;32m/tmp/ipykernel_199716/2220676447.py\u001b[0m in \u001b[0;36m<module>\u001b[0;34m\u001b[0m\n\u001b[1;32m      1\u001b[0m \u001b[0mout\u001b[0m \u001b[0;34m=\u001b[0m \u001b[0mio\u001b[0m\u001b[0;34m.\u001b[0m\u001b[0mStringIO\u001b[0m\u001b[0;34m(\u001b[0m\u001b[0;34m)\u001b[0m\u001b[0;34m\u001b[0m\u001b[0;34m\u001b[0m\u001b[0m\n\u001b[0;32m----> 2\u001b[0;31m \u001b[0malloc_report\u001b[0m\u001b[0;34m,\u001b[0m \u001b[0mexitflag\u001b[0m \u001b[0;34m=\u001b[0m \u001b[0mMATLAB_ENG\u001b[0m\u001b[0;34m.\u001b[0m\u001b[0mPlannerV1\u001b[0m\u001b[0;34m(\u001b[0m\u001b[0mRES_CONF\u001b[0m\u001b[0;34m,\u001b[0m \u001b[0mQoS_GP_CONF\u001b[0m\u001b[0;34m,\u001b[0m \u001b[0mnargout\u001b[0m\u001b[0;34m=\u001b[0m\u001b[0;36m2\u001b[0m\u001b[0;34m,\u001b[0m \u001b[0mstdout\u001b[0m\u001b[0;34m=\u001b[0m\u001b[0mout\u001b[0m\u001b[0;34m)\u001b[0m\u001b[0;34m\u001b[0m\u001b[0;34m\u001b[0m\u001b[0m\n\u001b[0m",
      "\u001b[0;32m~/.local/share/virtualenvs/ProjectSumo-0-222X3X/lib/python3.8/site-packages/matlab/engine/matlabengine.py\u001b[0m in \u001b[0;36m__call__\u001b[0;34m(self, *args, **kwargs)\u001b[0m\n\u001b[1;32m     68\u001b[0m             \u001b[0;32mreturn\u001b[0m \u001b[0mFutureResult\u001b[0m\u001b[0;34m(\u001b[0m\u001b[0mself\u001b[0m\u001b[0;34m.\u001b[0m\u001b[0m_engine\u001b[0m\u001b[0;34m(\u001b[0m\u001b[0;34m)\u001b[0m\u001b[0;34m,\u001b[0m \u001b[0mfuture\u001b[0m\u001b[0;34m,\u001b[0m \u001b[0mnargs\u001b[0m\u001b[0;34m,\u001b[0m \u001b[0m_stdout\u001b[0m\u001b[0;34m,\u001b[0m \u001b[0m_stderr\u001b[0m\u001b[0;34m,\u001b[0m \u001b[0mfeval\u001b[0m\u001b[0;34m=\u001b[0m\u001b[0;32mTrue\u001b[0m\u001b[0;34m)\u001b[0m\u001b[0;34m\u001b[0m\u001b[0;34m\u001b[0m\u001b[0m\n\u001b[1;32m     69\u001b[0m         \u001b[0;32melse\u001b[0m\u001b[0;34m:\u001b[0m\u001b[0;34m\u001b[0m\u001b[0;34m\u001b[0m\u001b[0m\n\u001b[0;32m---> 70\u001b[0;31m             return FutureResult(self._engine(), future, nargs, _stdout,\n\u001b[0m\u001b[1;32m     71\u001b[0m                                 _stderr, feval=True).result()\n\u001b[1;32m     72\u001b[0m \u001b[0;34m\u001b[0m\u001b[0m\n",
      "\u001b[0;32m~/.local/share/virtualenvs/ProjectSumo-0-222X3X/lib/python3.8/site-packages/matlab/engine/futureresult.py\u001b[0m in \u001b[0;36mresult\u001b[0;34m(self, timeout)\u001b[0m\n\u001b[1;32m     65\u001b[0m                 \u001b[0;32mraise\u001b[0m \u001b[0mTypeError\u001b[0m\u001b[0;34m(\u001b[0m\u001b[0mpythonengine\u001b[0m\u001b[0;34m.\u001b[0m\u001b[0mgetMessage\u001b[0m\u001b[0;34m(\u001b[0m\u001b[0;34m'TimeoutCannotBeNegative'\u001b[0m\u001b[0;34m)\u001b[0m\u001b[0;34m)\u001b[0m\u001b[0;34m\u001b[0m\u001b[0;34m\u001b[0m\u001b[0m\n\u001b[1;32m     66\u001b[0m \u001b[0;34m\u001b[0m\u001b[0m\n\u001b[0;32m---> 67\u001b[0;31m         \u001b[0;32mreturn\u001b[0m \u001b[0mself\u001b[0m\u001b[0;34m.\u001b[0m\u001b[0m__future\u001b[0m\u001b[0;34m.\u001b[0m\u001b[0mresult\u001b[0m\u001b[0;34m(\u001b[0m\u001b[0mtimeout\u001b[0m\u001b[0;34m)\u001b[0m\u001b[0;34m\u001b[0m\u001b[0;34m\u001b[0m\u001b[0m\n\u001b[0m\u001b[1;32m     68\u001b[0m \u001b[0;34m\u001b[0m\u001b[0m\n\u001b[1;32m     69\u001b[0m     \u001b[0;32mdef\u001b[0m \u001b[0mcancel\u001b[0m\u001b[0;34m(\u001b[0m\u001b[0mself\u001b[0m\u001b[0;34m)\u001b[0m\u001b[0;34m:\u001b[0m\u001b[0;34m\u001b[0m\u001b[0;34m\u001b[0m\u001b[0m\n",
      "\u001b[0;32m~/.local/share/virtualenvs/ProjectSumo-0-222X3X/lib/python3.8/site-packages/matlab/engine/fevalfuture.py\u001b[0m in \u001b[0;36mresult\u001b[0;34m(self, timeout)\u001b[0m\n\u001b[1;32m     80\u001b[0m                 \u001b[0;32mraise\u001b[0m \u001b[0mTimeoutError\u001b[0m\u001b[0;34m(\u001b[0m\u001b[0mpythonengine\u001b[0m\u001b[0;34m.\u001b[0m\u001b[0mgetMessage\u001b[0m\u001b[0;34m(\u001b[0m\u001b[0;34m'MatlabFunctionTimeout'\u001b[0m\u001b[0;34m)\u001b[0m\u001b[0;34m)\u001b[0m\u001b[0;34m\u001b[0m\u001b[0;34m\u001b[0m\u001b[0m\n\u001b[1;32m     81\u001b[0m \u001b[0;34m\u001b[0m\u001b[0m\n\u001b[0;32m---> 82\u001b[0;31m             \u001b[0mself\u001b[0m\u001b[0;34m.\u001b[0m\u001b[0m_result\u001b[0m \u001b[0;34m=\u001b[0m \u001b[0mpythonengine\u001b[0m\u001b[0;34m.\u001b[0m\u001b[0mgetFEvalResult\u001b[0m\u001b[0;34m(\u001b[0m\u001b[0mself\u001b[0m\u001b[0;34m.\u001b[0m\u001b[0m_future\u001b[0m\u001b[0;34m,\u001b[0m\u001b[0mself\u001b[0m\u001b[0;34m.\u001b[0m\u001b[0m_nargout\u001b[0m\u001b[0;34m,\u001b[0m \u001b[0;32mNone\u001b[0m\u001b[0;34m,\u001b[0m \u001b[0mout\u001b[0m\u001b[0;34m=\u001b[0m\u001b[0mself\u001b[0m\u001b[0;34m.\u001b[0m\u001b[0m_out\u001b[0m\u001b[0;34m,\u001b[0m \u001b[0merr\u001b[0m\u001b[0;34m=\u001b[0m\u001b[0mself\u001b[0m\u001b[0;34m.\u001b[0m\u001b[0m_err\u001b[0m\u001b[0;34m)\u001b[0m\u001b[0;34m\u001b[0m\u001b[0;34m\u001b[0m\u001b[0m\n\u001b[0m\u001b[1;32m     83\u001b[0m             \u001b[0mself\u001b[0m\u001b[0;34m.\u001b[0m\u001b[0m_retrieved\u001b[0m \u001b[0;34m=\u001b[0m \u001b[0;32mTrue\u001b[0m\u001b[0;34m\u001b[0m\u001b[0;34m\u001b[0m\u001b[0m\n\u001b[1;32m     84\u001b[0m             \u001b[0;32mreturn\u001b[0m \u001b[0mself\u001b[0m\u001b[0;34m.\u001b[0m\u001b[0m_result\u001b[0m\u001b[0;34m\u001b[0m\u001b[0;34m\u001b[0m\u001b[0m\n",
      "\u001b[0;31mEngineError\u001b[0m: MATLAB function cannot be evaluated"
     ]
    }
   ],
   "metadata": {}
  },
  {
   "cell_type": "code",
   "execution_count": null,
   "source": [
    "print(out.getvalue())"
   ],
   "outputs": [],
   "metadata": {}
  },
  {
   "cell_type": "code",
   "execution_count": null,
   "source": [
    "MATLAB_ENG.version()"
   ],
   "outputs": [],
   "metadata": {}
  },
  {
   "cell_type": "code",
   "execution_count": 3,
   "source": [
    "import matlab\n",
    "print(matlab.__file__)"
   ],
   "outputs": [
    {
     "output_type": "stream",
     "name": "stdout",
     "text": [
      "/home/OD/.local/share/virtualenvs/ProjectSumo-0-222X3X/lib/python3.8/site-packages/matlab/__init__.py\n"
     ]
    }
   ],
   "metadata": {}
  },
  {
   "cell_type": "code",
   "execution_count": null,
   "source": [],
   "outputs": [],
   "metadata": {}
  }
 ],
 "metadata": {
  "orig_nbformat": 4,
  "language_info": {
   "name": "python",
   "version": "3.8.10",
   "mimetype": "text/x-python",
   "codemirror_mode": {
    "name": "ipython",
    "version": 3
   },
   "pygments_lexer": "ipython3",
   "nbconvert_exporter": "python",
   "file_extension": ".py"
  },
  "kernelspec": {
   "name": "python3",
   "display_name": "Python 3.8.10 64-bit ('ProjectSumo-0-222X3X': pipenv)"
  },
  "interpreter": {
   "hash": "9d1f2cd3231a71d86457824a020c8dbed3225f943f28ce8c6aa682a0df43dba4"
  }
 },
 "nbformat": 4,
 "nbformat_minor": 2
}