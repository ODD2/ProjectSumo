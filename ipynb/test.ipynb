{
 "cells": [
  {
   "cell_type": "code",
   "execution_count": null,
   "source": [
    "import os\n",
    "import io\n",
    "import matlab.engine"
   ],
   "outputs": [],
   "metadata": {}
  },
  {
   "cell_type": "code",
   "execution_count": null,
   "source": [
    "print(matlab.engine.find_matlab())\n",
    "os.getcwd()"
   ],
   "outputs": [],
   "metadata": {}
  },
  {
   "cell_type": "code",
   "execution_count": null,
   "source": [
    "MATLAB_ENG = matlab.engine.connect_matlab()"
   ],
   "outputs": [],
   "metadata": {}
  },
  {
   "cell_type": "code",
   "execution_count": null,
   "source": [
    "MATLAB_ENG.addpath(os.getcwd() + \"/../matlab/\")\n",
    "MATLAB_ENG.addpath(os.getcwd() + \"/../matlab/SelectCQI_bySNR/\")\n",
    "MATLAB_ENG.addpath(os.getcwd() + \"/../matlab/PlannerV1/\")"
   ],
   "outputs": [],
   "metadata": {}
  },
  {
   "cell_type": "code",
   "execution_count": 11,
   "source": [
    "\n",
    "# QoS_GP_CONF = [\n",
    "# \t[\n",
    "# \t\t{'gid': 0.0, 'qos': 0.0, 'rbf_w': 2.0, 'rbf_h': 1.0, 'sinr_max': 23.712045618855058, 'pwr_req_dBm': 22.973, 'pwr_ext_dBm': 0.9223015226843518, 'rem_bits': 4712.0, 'mem_num': 71.0, 'eager_rate': 36.63437309374906}\n",
    "# \t],\n",
    "# \t[\n",
    "# \t\t{'gid': 5.0, 'qos': 1.0, 'rbf_w': 2.0, 'rbf_h': 1.0, 'sinr_max': 35.174129219912174, 'pwr_req_dBm': 22.956, 'pwr_ext_dBm': 3.034702226027002, 'rem_bits': 10712.0, 'mem_num': 17.0, 'eager_rate': 55.13946065977497},\n",
    "# \t\t{'gid': 4.0, 'qos': 1.0, 'rbf_w': 2.0, 'rbf_h': 1.0, 'sinr_max': 29.93949825941053, 'pwr_req_dBm': 22.959, 'pwr_ext_dBm': 2.729511581869497, 'rem_bits': 14792.0, 'mem_num': 10.0, 'eager_rate': 30.285257579987405},\n",
    "# \t\t{'gid': 7.0, 'qos': 1.0, 'rbf_w': 2.0, 'rbf_h': 1.0, 'sinr_max': 38.548690819308135, 'pwr_req_dBm': 22.955, 'pwr_ext_dBm': 3.1318014527925526, 'rem_bits': 3688.0, 'mem_num': 9.0, 'eager_rate': 87.80345203054216},\n",
    "# \t\t{'gid': 2.0, 'qos': 1.0, 'rbf_w': 2.0, 'rbf_h': 1.0, 'sinr_max': 24.740863098677366, 'pwr_req_dBm': 22.969, 'pwr_ext_dBm': 1.5202830452677776, 'rem_bits': 5640.0, 'mem_num': 9.0, 'eager_rate': 85.85339640344525},\n",
    "# \t\t{'gid': 6.0, 'qos': 1.0, 'rbf_w': 2.0, 'rbf_h': 1.0, 'sinr_max': 38.8170972756655, 'pwr_req_dBm': 22.955, 'pwr_ext_dBm': 3.1318014527925526, 'rem_bits': 7240.0, 'mem_num': 10.0, 'eager_rate': 36.47458385930194},\n",
    "# \t\t{'gid': 8.0, 'qos': 1.0, 'rbf_w': 2.0, 'rbf_h': 1.0, 'sinr_max': 28.355397019502817, 'pwr_req_dBm': 22.961, 'pwr_ext_dBm': 2.51331754988261, 'rem_bits': 216978.0, 'mem_num': 4.0, 'eager_rate': 0.605619464349728}\n",
    "# \t]\n",
    "# ]\n",
    "QoS_GP_CONF = [\n",
    "\t[\n",
    "\t\t{'gid': 2.0, 'qos': 1.0, 'rbf_w': 2.0, 'rbf_h': 1.0, 'sinr_max': 18.2830342730702, 'pwr_req_dBm': 22.992, 'pwr_ext_dBm': -4.350942629063706, 'rem_bits': 290455.0, 'mem_num': 9.0, 'eager_rate': 3.337574931072202},\n",
    "\t\t{'gid': 5.0, 'qos': 1.0, 'rbf_w': 2.0, 'rbf_h': 1.0, 'sinr_max': 18.52400268437595, 'pwr_req_dBm': 22.989, 'pwr_ext_dBm': -2.9694151005379332, 'rem_bits': 29088.0, 'mem_num': 7.0, 'eager_rate': 177.86494247807138},\n",
    "\t\t{'gid': 8.0, 'qos': 1.0, 'rbf_w': 2.0, 'rbf_h': 1.0, 'sinr_max': 28.89612304419515, 'pwr_req_dBm': 22.96, 'pwr_ext_dBm': 2.6227721508302038, 'rem_bits': 14808.0, 'mem_num': 4.0, 'eager_rate': 28.062632286141262},\n",
    "\t]\n",
    "]\n",
    "RES_CONF = {'rbf_h': 50.0, 'rbf_w': 2.0, 'max_pwr_dBm': 23.0}"
   ],
   "outputs": [],
   "metadata": {}
  },
  {
   "cell_type": "code",
   "execution_count": 15,
   "source": [
    "out = io.StringIO()\n",
    "alloc_report, exitflag = MATLAB_ENG.PlannerV1(RES_CONF, QoS_GP_CONF, nargout=2, stdout=out)"
   ],
   "outputs": [],
   "metadata": {}
  },
  {
   "cell_type": "code",
   "execution_count": 16,
   "source": [
    "print(out.getvalue())"
   ],
   "outputs": [
    {
     "output_type": "stream",
     "name": "stdout",
     "text": [
      "double\n",
      "double\n",
      "double\n",
      "double\n",
      "double\n",
      "double\n",
      "double\n",
      "double\n",
      "double\n",
      "double\n",
      "G2 - req_pwr: 22.992000dB/199.159029mW ext_pwr:-4.350943dB/0.367203mW\n",
      "G5 - req_pwr: 22.989000dB/199.021502mW ext_pwr:-2.969415dB/0.504729mW\n",
      "G8 - req_pwr: 22.960000dB/197.696964mW ext_pwr:2.622772dB/1.829267mW\n",
      "OMA Allocation Done!\n",
      "max_ext_pwr:1.829267mW min_ext_pwr:0.367203mW\n",
      "G2 - cqi_max:3 cqi_min:1 sinr_max_sdn:67.344701 sinr_max:18.283034\n",
      "NOMA Allocation Done!\n",
      "===== QoS:1, Gid:2, Geo:(2,1) =====\n",
      "{\n",
      " --- OMA Layer ---\n",
      " --- NOMA Layer ---\n",
      " cqi:3(x16), pwr:1.451097e+00 , rbs:[(1,1)(2,1)(8,1)(14,1)(23,1)(25,1)(28,1)(29,1)(30,1)(31,1)(32,1)(33,1)(34,1)(39,1)(40,1)(41,1)]\n",
      "}\n",
      "===== QoS:1, Gid:5, Geo:(2,1) =====\n",
      "{\n",
      " --- OMA Layer ---\n",
      " cqi:14(x34), pwr:1.990215e+02 , rbs:[(3,1)(4,1)(5,1)(6,1)(7,1)(9,1)(10,1)(11,1)(12,1)(13,1)(15,1)(16,1)(17,1)(18,1)(19,1)(20,1)(21,1)(22,1)(24,1)(26,1)(27,1)(35,1)(36,1)(37,1)(38,1)(42,1)(43,1)(44,1)(45,1)(46,1)(47,1)(48,1)(49,1)(50,1)]\n",
      " --- NOMA Layer ---\n",
      "}\n",
      "===== QoS:1, Gid:8, Geo:(2,1) =====\n",
      "{\n",
      " --- OMA Layer ---\n",
      " cqi:15(x16), pwr:1.976970e+02 , rbs:[(1,1)(2,1)(8,1)(14,1)(23,1)(25,1)(28,1)(29,1)(30,1)(31,1)(32,1)(33,1)(34,1)(39,1)(40,1)(41,1)]\n",
      " --- NOMA Layer ---\n",
      "}\n",
      "\n"
     ]
    }
   ],
   "metadata": {}
  },
  {
   "cell_type": "code",
   "execution_count": null,
   "source": [
    "MATLAB_ENG.version()"
   ],
   "outputs": [],
   "metadata": {}
  },
  {
   "cell_type": "code",
   "execution_count": null,
   "source": [
    "import matlab\n",
    "print(matlab.__file__)"
   ],
   "outputs": [],
   "metadata": {}
  },
  {
   "cell_type": "code",
   "execution_count": null,
   "source": [],
   "outputs": [],
   "metadata": {}
  }
 ],
 "metadata": {
  "orig_nbformat": 4,
  "language_info": {
   "name": "python",
   "version": "3.8.10",
   "mimetype": "text/x-python",
   "codemirror_mode": {
    "name": "ipython",
    "version": 3
   },
   "pygments_lexer": "ipython3",
   "nbconvert_exporter": "python",
   "file_extension": ".py"
  },
  "kernelspec": {
   "name": "python3",
   "display_name": "Python 3.8.10 64-bit ('ProjectSumo-0-222X3X': pipenv)"
  },
  "interpreter": {
   "hash": "9d1f2cd3231a71d86457824a020c8dbed3225f943f28ce8c6aa682a0df43dba4"
  }
 },
 "nbformat": 4,
 "nbformat_minor": 2
}