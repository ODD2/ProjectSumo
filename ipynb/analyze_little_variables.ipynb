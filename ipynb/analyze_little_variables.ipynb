{
 "cells": [
  {
   "cell_type": "code",
   "execution_count": 1,
   "metadata": {},
   "outputs": [],
   "source": [
    "import os\n",
    "import pickle\n",
    "import sys\n",
    "import math\n",
    "sys.path.append(\"../\")\n",
    "from od.env.config import SUMO_SIM_SECONDS\n",
    "from od.misc.statistic import NetFlowType\n",
    "from od.network.types import ResourceAllocatorType,BaseStationType\n",
    "from od.misc.interest import InterestConfig\n",
    "from od.env.config import SUMO_SIM_STEPS,ROOT_DIR\n",
    "from od.env.station import BS_PRESET\n",
    "from od.social.manager.types import DynamicSocialGroupBehaviour\n",
    "from od.env.config import NET_TIMEOUT_SECONDS\n",
    "import od.misc.statistic as oms"
   ]
  },
  {
   "cell_type": "code",
   "execution_count": 12,
   "metadata": {},
   "outputs": [
    {
     "name": "stdout",
     "output_type": "stream",
     "text": [
      "/home/OD/repos/ProjectSumo/ipynb\n",
      "MAX_N_MEMBER(20)-yQoS-yRSU-NOMA_APR-D1.3-S7\n"
     ]
    }
   ],
   "source": [
    "print(os.getcwd())\n",
    "interest_config = InterestConfig(DynamicSocialGroupBehaviour.MAX_N_MEMBER,20, True,ResourceAllocatorType.NOMA_APR,True,1.3,7)\n",
    "statistic = None\n",
    "print(interest_config)\n",
    "with open(\"../data/GS20/{}/object.pickle\".format(interest_config.folder_legacy(1)), \"rb\") as file:\n",
    "    statistic = pickle.load(file)\n",
    "statistic.nft_traffic = {}\n",
    "statistic.raw_sg_header = statistic.sg_header"
   ]
  },
  {
   "cell_type": "code",
   "execution_count": 13,
   "metadata": {},
   "outputs": [],
   "source": [
    "\n",
    "BS_CONFIG =  {\n",
    "        name:bs_config \n",
    "        for name,bs_config in BS_PRESET.items()\n",
    "        if (\n",
    "            bs_config[\"type\"] == BaseStationType.UMA  or \n",
    "            (\n",
    "                interest_config.req_rsu and \n",
    "                bs_config[\"type\"] == BaseStationType.UMI\n",
    "            )\n",
    "        )\n",
    "}\n",
    "\n",
    "class FakeBaseStation:\n",
    "    def __init__(self,name,pos,bs_type,serial):\n",
    "        self.name = name\n",
    "        self.pos = pos\n",
    "        self.type = bs_type\n",
    "        self.serial = serial\n",
    "    def __repr__(self) -> str:\n",
    "        return self.name\n",
    "    def __index__(self):\n",
    "        return self.serial\n",
    "        \n",
    "class GV:\n",
    "    NET_STATION_CONTROLLER = [ \n",
    "        FakeBaseStation(\n",
    "            name,\n",
    "            BS_CONFIG[name][\"pos\"],\n",
    "            BS_CONFIG[name][\"type\"] ,\n",
    "            i\n",
    "        )   for i,name in enumerate(BS_CONFIG)\n",
    "    ]\n",
    "    class STATISTIC:\n",
    "        def Log(data):\n",
    "            pass\n",
    "        def Doc(data):\n",
    "            pass\n",
    "    class RESULT:\n",
    "        def Log(data):\n",
    "            pass\n",
    "        def Doc(data):\n",
    "            print(data)\n",
    "oms.GV = GV\n"
   ]
  },
  {
   "cell_type": "code",
   "execution_count": 14,
   "metadata": {},
   "outputs": [
    {
     "data": {
      "text/plain": [
       "[UMA-1, UMA-2, UMI-1, UMI-2, UMI-3, UMI-4, UMI-5]"
      ]
     },
     "execution_count": 14,
     "metadata": {},
     "output_type": "execute_result"
    }
   ],
   "source": [
    "GV.NET_STATION_CONTROLLER"
   ]
  },
  {
   "cell_type": "code",
   "execution_count": 15,
   "metadata": {},
   "outputs": [],
   "source": [
    "TARGET_NFT = NetFlowType.C2G"
   ]
  },
  {
   "cell_type": "code",
   "execution_count": 16,
   "metadata": {},
   "outputs": [],
   "source": [
    "app_stats = statistic.ExtractNetworkTraffic(TARGET_NFT,True)"
   ]
  },
  {
   "cell_type": "code",
   "execution_count": 17,
   "metadata": {},
   "outputs": [
    {
     "data": {
      "text/plain": [
       "{'bits': 60787248, 'count': 10890}"
      ]
     },
     "execution_count": 17,
     "metadata": {},
     "output_type": "execute_result"
    }
   ],
   "source": [
    "statistic.BaseStationTypeThroughPutReport(app_stats, BaseStationType.UMA)"
   ]
  },
  {
   "cell_type": "code",
   "execution_count": 18,
   "metadata": {},
   "outputs": [
    {
     "name": "stdout",
     "output_type": "stream",
     "text": [
      "0.0\n",
      "0.0\n",
      "0.0\n",
      "0.0\n",
      "0.0\n",
      "0.0\n",
      "0.0\n",
      "0.0\n",
      "0.0\n",
      "0.0\n",
      "0.6455026455026455\n"
     ]
    }
   ],
   "source": [
    "for sg in statistic.social_group:\n",
    "    print(statistic.AppdataTimeoutRatioReport(statistic.sg_header[sg]))"
   ]
  },
  {
   "cell_type": "code",
   "execution_count": 19,
   "metadata": {},
   "outputs": [
    {
     "data": {
      "text/plain": [
       "[<CRASH(QoS:0, Gid:0)>,\n",
       " <RCWS(QoS:1, Gid:1)>,\n",
       " <DYN_SG_0(QoS:1, Gid:2)>,\n",
       " <DYN_SG_1(QoS:1, Gid:3)>,\n",
       " <DYN_SG_2(QoS:1, Gid:4)>,\n",
       " <DYN_SG_3(QoS:1, Gid:5)>,\n",
       " <DYN_SG_4(QoS:1, Gid:6)>,\n",
       " <DYN_SG_5(QoS:1, Gid:7)>,\n",
       " <DYN_SG_6(QoS:1, Gid:8)>,\n",
       " <DYN_SG_7(QoS:1, Gid:9)>,\n",
       " <DYN_SG_8(QoS:1, Gid:10)>]"
      ]
     },
     "execution_count": 19,
     "metadata": {},
     "output_type": "execute_result"
    }
   ],
   "source": [
    "# preprocess overtimes\n",
    "for sg in statistic.social_group:\n",
    "    for record in statistic.sg_header[sg].values():\n",
    "        # ignore appdata that're flagged overtime.\n",
    "        if(record.is_src_ot):\n",
    "            continue\n",
    "        else:\n",
    "            # Check data source overtime condition.\n",
    "            in_txq_time = list(filter(lambda x: len(x) > 0, record.time_bs_txq))\n",
    "            min_enter_txq_time = min(\n",
    "                list(map(\n",
    "                    lambda x: x[0][0],\n",
    "                    in_txq_time\n",
    "                )) + [NET_TIMEOUT_SECONDS + record.at]\n",
    "            )\n",
    "            if(len(in_txq_time) == 0 or\n",
    "                min_enter_txq_time - record.at >= NET_TIMEOUT_SECONDS):\n",
    "                record.is_src_ot = True\n",
    "            else:\n",
    "                # Check base station overtime condition.\n",
    "                for bs in GV.NET_STATION_CONTROLLER:\n",
    "                    if(\n",
    "                        len(record.time_bs_txq[bs]) > 0 and\n",
    "                        record.time_bs_txq[bs][-1][1] - record.at >= NET_TIMEOUT_SECONDS\n",
    "                    ):\n",
    "                        record.is_bs_ot[bs] = True\n",
    "statistic.social_group\n"
   ]
  },
  {
   "cell_type": "code",
   "execution_count": 23,
   "metadata": {},
   "outputs": [
    {
     "name": "stdout",
     "output_type": "stream",
     "text": [
      "<class 'dict'>\n",
      "0.0\n",
      "0.0\n",
      "0.0\n",
      "0.0\n",
      "0.0\n",
      "0.7139256458727158\n",
      "0.0\n",
      "0.0\n",
      "0.0\n",
      "0.0\n",
      "1.0\n"
     ]
    }
   ],
   "source": [
    "print(type(statistic.sg_header[sg]))\n",
    "\n",
    "for sg in statistic.social_group:\n",
    "    print(statistic.AppdataTimeoutRatioReport(statistic.sg_header[sg]))"
   ]
  },
  {
   "cell_type": "code",
   "execution_count": null,
   "metadata": {},
   "outputs": [],
   "source": []
  },
  {
   "cell_type": "code",
   "execution_count": null,
   "metadata": {},
   "outputs": [],
   "source": []
  }
 ],
 "metadata": {
  "interpreter": {
   "hash": "f227239d0a04c460e8af7627ec9c2273aa001f4c3f532f9d517bff180519c459"
  },
  "kernelspec": {
   "display_name": "Python 3.8.10 64-bit ('ProjectSumo-0-222X3X': pipenv)",
   "name": "python3"
  },
  "language_info": {
   "codemirror_mode": {
    "name": "ipython",
    "version": 3
   },
   "file_extension": ".py",
   "mimetype": "text/x-python",
   "name": "python",
   "nbconvert_exporter": "python",
   "pygments_lexer": "ipython3",
   "version": "3.8.10"
  }
 },
 "nbformat": 4,
 "nbformat_minor": 4
}
