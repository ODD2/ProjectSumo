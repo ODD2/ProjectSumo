{
 "cells": [
  {
   "cell_type": "code",
   "execution_count": 1,
   "source": [
    "import os\n",
    "import pickle\n",
    "import sys\n",
    "import math\n",
    "sys.path.append(\"../\")\n",
    "from od.env.config import SUMO_SIM_SECONDS\n",
    "from od.misc.statistic import NetFlowType\n",
    "from od.network.types import ResourceAllocatorType,BaseStationType\n",
    "from od.misc.interest import InterestConfig\n",
    "from od.env.config import SUMO_SIM_STEPS,ROOT_DIR\n",
    "from od.env.station import BS_PRESET\n",
    "import od.misc.statistic as oms"
   ],
   "outputs": [],
   "metadata": {}
  },
  {
   "cell_type": "code",
   "execution_count": 2,
   "source": [
    "print(os.getcwd())\n",
    "interest_config = InterestConfig(True,ResourceAllocatorType.NOMA_APR,False,0.6,666)\n",
    "statistic = None\n",
    "print(interest_config)\n",
    "with open(\"../data/TVAL/{}/object.pickle\".format(interest_config.folder()), \"rb\") as file:\n",
    "    statistic = pickle.load(file)\n",
    "statistic.nft_traffic = {}"
   ],
   "outputs": [
    {
     "output_type": "stream",
     "name": "stdout",
     "text": [
      "/home/OD/repos/ProjectSumo/ipynb\n",
      "yQoS-nRSU-NOMA_APR-D0.6-S666\n"
     ]
    }
   ],
   "metadata": {}
  },
  {
   "cell_type": "code",
   "execution_count": 110,
   "source": [
    "\n",
    "BS_CONFIG =  {\n",
    "        name:bs_config \n",
    "        for name,bs_config in BS_PRESET.items()\n",
    "        if (\n",
    "            bs_config[\"type\"] == BaseStationType.UMA  or \n",
    "            (\n",
    "                interest_config.req_rsu and \n",
    "                bs_config[\"type\"] == BaseStationType.UMI\n",
    "            )\n",
    "        )\n",
    "}\n",
    "\n",
    "class FakeBaseStation:\n",
    "    def __init__(self,name,pos,bs_type,serial):\n",
    "        self.name = name\n",
    "        self.pos = pos\n",
    "        self.type = bs_type\n",
    "        self.serial = serial\n",
    "    def __repr__(self) -> str:\n",
    "        return self.name\n",
    "    def __index__(self):\n",
    "        return self.serial\n",
    "        \n",
    "class GV:\n",
    "    NET_STATION_CONTROLLER = [ \n",
    "        FakeBaseStation(\n",
    "            name,\n",
    "            BS_CONFIG[name][\"pos\"],\n",
    "            BS_CONFIG[name][\"type\"] ,\n",
    "            i\n",
    "        )   for i,name in enumerate(BS_CONFIG)\n",
    "    ]\n",
    "\n",
    "class STATISTIC:\n",
    "    def Log(data):\n",
    "        print(data)"
   ],
   "outputs": [],
   "metadata": {}
  },
  {
   "cell_type": "code",
   "execution_count": 111,
   "source": [
    "GV.NET_STATION_CONTROLLER"
   ],
   "outputs": [
    {
     "output_type": "execute_result",
     "data": {
      "text/plain": [
       "[UMA-1, UMA-2]"
      ]
     },
     "metadata": {},
     "execution_count": 111
    }
   ],
   "metadata": {}
  },
  {
   "cell_type": "code",
   "execution_count": 146,
   "source": [
    "TARGET_NFT = NetFlowType.GENERAL"
   ],
   "outputs": [],
   "metadata": {}
  },
  {
   "cell_type": "code",
   "execution_count": 148,
   "source": [
    "def VehicleAppdataArrivalRateReport(self, app_stats):\n",
    "        time_orgnz_record = {}\n",
    "        _max = 0\n",
    "        _min = 0\n",
    "        _avg = 0\n",
    "        _num = 0\n",
    "        if(len(app_stats) > 0):\n",
    "            for record in app_stats.values():\n",
    "                time = record.at\n",
    "                if(time not in time_orgnz_record):\n",
    "                    time_orgnz_record[time] = 1\n",
    "                else:\n",
    "                    time_orgnz_record[time] += 1\n",
    "            _max = max(time_orgnz_record.values())\n",
    "            _min = min(time_orgnz_record.values())\n",
    "            _avg = sum(time_orgnz_record.values())/(self.RecordDuration()*1000)\n",
    "            _num = sum(time_orgnz_record.values())\n",
    "        # print(time_orgnz_record)\n",
    "        return {\n",
    "            \"max\":_max,\n",
    "            \"avg\":_avg,\n",
    "            \"min\":_min,\n",
    "            \"num\":_num\n",
    "        }\n",
    "VehicleAppdataArrivalRateReport(statistic,statistic.ExtractNetworkTraffic(TARGET_NFT,False))"
   ],
   "outputs": [
    {
     "output_type": "execute_result",
     "data": {
      "text/plain": [
       "{'max': 21, 'avg': 8.2305, 'min': 1, 'num': 16461}"
      ]
     },
     "metadata": {},
     "execution_count": 148
    }
   ],
   "metadata": {}
  },
  {
   "cell_type": "code",
   "execution_count": 149,
   "source": [
    "def VehicleAppdataArrivalSizeReport(self, app_stats):\n",
    "        time_orgnz_record = {}\n",
    "        _max = 0\n",
    "        _min = 0\n",
    "        _avg = 0\n",
    "        _num = 0\n",
    "        if(len(app_stats) > 0):\n",
    "            for record in app_stats.values():\n",
    "                time = record.at\n",
    "                if(time not in time_orgnz_record):\n",
    "                    time_orgnz_record[time] =[]\n",
    "                time_orgnz_record[time].append(record.bits)\n",
    "            per_ms_avg_data_size = [ sum(x)/len(x) for x in time_orgnz_record.values() ]\n",
    "            all_data_size = [ v for x in time_orgnz_record.values() for v in x]\n",
    "            _max = max(per_ms_avg_data_size)\n",
    "            _min = min(per_ms_avg_data_size)\n",
    "            _avg = sum(all_data_size)/len(all_data_size)\n",
    "            _num = len(all_data_size)\n",
    "        return {\n",
    "            \"max\":_max,\n",
    "            \"avg\":_avg,\n",
    "            \"min\":_min,\n",
    "            \"num\":_num\n",
    "        }\n",
    "VehicleAppdataArrivalSizeReport(statistic,statistic.ExtractNetworkTraffic(TARGET_NFT,False))"
   ],
   "outputs": [
    {
     "output_type": "execute_result",
     "data": {
      "text/plain": [
       "{'max': 14508.0, 'avg': 8528.871878986696, 'min': 2188.0, 'num': 16461}"
      ]
     },
     "metadata": {},
     "execution_count": 149
    }
   ],
   "metadata": {}
  },
  {
   "cell_type": "code",
   "execution_count": 150,
   "source": [
    "def VehicleAppdataDepartRateReport(self, app_stats):\n",
    "        time_orgnz_record = {}\n",
    "        _max = 0\n",
    "        _min = 0\n",
    "        _avg = 0\n",
    "        _num = 0\n",
    "        if(len(app_stats) > 0):\n",
    "            for record in app_stats.values():\n",
    "                time_enter_bs_txq = [ \n",
    "                    time_per_bs_txq[0][0]\n",
    "                    for time_per_bs_txq in record.time_bs_txq \n",
    "                    if len(time_per_bs_txq) > 0\n",
    "                ]\n",
    "                if(len(time_enter_bs_txq) > 0):\n",
    "                    time = min(time_enter_bs_txq)\n",
    "                    if(time not in time_orgnz_record):\n",
    "                        time_orgnz_record[time] = 1\n",
    "                    else:\n",
    "                        time_orgnz_record[time] += 1\n",
    "            _max = max(time_orgnz_record.values())\n",
    "            _min = min(time_orgnz_record.values())\n",
    "            _avg = sum(time_orgnz_record.values())/(self.RecordDuration()*1000)\n",
    "            _num = sum(time_orgnz_record.values())\n",
    "        # print(time_orgnz_record)\n",
    "        return {\n",
    "            \"max\":_max,\n",
    "            \"avg\":_avg,\n",
    "            \"min\":_min,\n",
    "            \"num\":_num\n",
    "        }\n",
    "VehicleAppdataDepartRateReport(statistic,statistic.ExtractNetworkTraffic(TARGET_NFT,False))"
   ],
   "outputs": [
    {
     "output_type": "execute_result",
     "data": {
      "text/plain": [
       "{'max': 15, 'avg': 7.3885, 'min': 1, 'num': 14777}"
      ]
     },
     "metadata": {},
     "execution_count": 150
    }
   ],
   "metadata": {}
  },
  {
   "cell_type": "code",
   "execution_count": 151,
   "source": [
    "def BaseStationAppdataArrivalRateReport(self, app_stats):\n",
    "        bs_report = []\n",
    "        if(len(app_stats) > 0 ):\n",
    "            for bs in GV.NET_STATION_CONTROLLER:\n",
    "                time_orgnz_record = {}\n",
    "                _max = 0\n",
    "                _min = 0\n",
    "                _avg = 0\n",
    "                _num = 0\n",
    "                for record in app_stats.values():\n",
    "                    if(len(record.time_bs_txq[bs]) > 0):\n",
    "                        time = record.time_bs_txq[bs][0][0]\n",
    "                        if(not time in  time_orgnz_record):\n",
    "                            time_orgnz_record[time] = 1\n",
    "                        else:\n",
    "                            time_orgnz_record[time] += 1\n",
    "                if(len(time_orgnz_record) > 0):\n",
    "                    _max = max(time_orgnz_record.values())\n",
    "                    _min = min(time_orgnz_record.values())\n",
    "                    _avg = sum(time_orgnz_record.values())/self.RecordDuration()/1000\n",
    "                    _num = sum(time_orgnz_record.values())\n",
    "                bs_report.append(\n",
    "                    {\n",
    "                        \"max\": _max,\n",
    "                        \"avg\": _avg,\n",
    "                        \"min\": _min,\n",
    "                        \"num\": _num\n",
    "                    }\n",
    "                )\n",
    "        else:\n",
    "            bs_report = [ \n",
    "                {\n",
    "                        \"max\": 0,\n",
    "                        \"avg\": 0,\n",
    "                        \"min\": 0,\n",
    "                        \"num\": 0\n",
    "                }\n",
    "                for bs in GV.NET_STATION_CONTROLLER\n",
    "            ]\n",
    "\n",
    "        return bs_report\n",
    "\n",
    "BaseStationAppdataArrivalRateReport(statistic,statistic.ExtractNetworkTraffic(TARGET_NFT,False))"
   ],
   "outputs": [
    {
     "output_type": "execute_result",
     "data": {
      "text/plain": [
       "[{'max': 15, 'avg': 7.3885, 'min': 1, 'num': 14777},\n",
       " {'max': 15, 'avg': 7.3885, 'min': 1, 'num': 14777}]"
      ]
     },
     "metadata": {},
     "execution_count": 151
    }
   ],
   "metadata": {}
  },
  {
   "cell_type": "code",
   "execution_count": 152,
   "source": [
    "def BaseStationAppdataArrivalSizeReport(self, app_stats):\n",
    "        bs_report = []\n",
    "        if(len(app_stats) > 0 ):\n",
    "            for bs in GV.NET_STATION_CONTROLLER:\n",
    "                time_orgnz_record = {}\n",
    "                _max = 0\n",
    "                _min = 0\n",
    "                _avg = 0\n",
    "                _num = 0\n",
    "                for record in app_stats.values():\n",
    "                    if(len(record.time_bs_txq[bs]) > 0):\n",
    "                        time = record.time_bs_txq[bs][0][0]\n",
    "                        if(not time in  time_orgnz_record):\n",
    "                            time_orgnz_record[time] = []\n",
    "                        time_orgnz_record[time].append(record.bits)\n",
    "                if(len(time_orgnz_record) > 0):\n",
    "                    per_ms_avg_data_size = [ sum(x)/len(x) for x in time_orgnz_record.values()]\n",
    "                    total_data_size = [x for i in time_orgnz_record.values() for x in i]\n",
    "                    _max = max(per_ms_avg_data_size)\n",
    "                    _min = min(per_ms_avg_data_size)\n",
    "                    _avg = sum(total_data_size)/len(total_data_size)\n",
    "                    _num = len(total_data_size)\n",
    "                bs_report.append(\n",
    "                    {\n",
    "                        \"max\": _max,\n",
    "                        \"avg\": _avg,\n",
    "                        \"min\": _min,\n",
    "                        \"num\": _num\n",
    "                    }\n",
    "                )\n",
    "        else:\n",
    "            bs_report = [ \n",
    "                {\n",
    "                        \"max\": 0,\n",
    "                        \"avg\": 0,\n",
    "                        \"min\": 0,\n",
    "                        \"num\": 0\n",
    "                }\n",
    "                for bs in GV.NET_STATION_CONTROLLER\n",
    "            ]\n",
    "\n",
    "        return bs_report\n",
    "\n",
    "BaseStationAppdataArrivalSizeReport(statistic,statistic.ExtractNetworkTraffic(TARGET_NFT,False))"
   ],
   "outputs": [
    {
     "output_type": "execute_result",
     "data": {
      "text/plain": [
       "[{'max': 16384.0, 'avg': 8517.795492995872, 'min': 552.0, 'num': 14777},\n",
       " {'max': 16384.0, 'avg': 8517.795492995872, 'min': 552.0, 'num': 14777}]"
      ]
     },
     "metadata": {},
     "execution_count": 152
    }
   ],
   "metadata": {}
  },
  {
   "cell_type": "code",
   "execution_count": 153,
   "source": [
    "def BaseStationAppdataDepartRateReport(self, app_stats):\n",
    "        bs_report = []\n",
    "        if(len(app_stats) > 0 ):\n",
    "            for bs in GV.NET_STATION_CONTROLLER:\n",
    "                time_orgnz_record = {}\n",
    "                _max = 0\n",
    "                _min = 0\n",
    "                _avg = 0\n",
    "                _num = 0\n",
    "                for record in app_stats.values():\n",
    "                    time = record.time_bs_serv[bs]\n",
    "                    if(time > 0):\n",
    "                        if(not time in time_orgnz_record):\n",
    "                            time_orgnz_record[time] = 1\n",
    "                        else:\n",
    "                            time_orgnz_record[time] += 1\n",
    "                if(len(time_orgnz_record) > 0):\n",
    "                    _max = max(time_orgnz_record.values())\n",
    "                    _min = min(time_orgnz_record.values())\n",
    "                    _avg = sum(time_orgnz_record.values())/self.RecordDuration()/1000\n",
    "                    _num = sum(time_orgnz_record.values())\n",
    "                bs_report.append(\n",
    "                    {\n",
    "                        \"max\": _max,\n",
    "                        \"avg\": _avg,\n",
    "                        \"min\": _min,\n",
    "                        \"num\": _num\n",
    "                    }\n",
    "                )\n",
    "        else:\n",
    "            bs_report = [ \n",
    "                {\n",
    "                        \"max\": 0,\n",
    "                        \"avg\": 0,\n",
    "                        \"min\": 0,\n",
    "                        \"num\": 0\n",
    "                }\n",
    "                for _ in GV.NET_STATION_CONTROLLER\n",
    "            ]\n",
    "\n",
    "        return bs_report\n",
    "\n",
    "BaseStationAppdataDepartRateReport(statistic,statistic.ExtractNetworkTraffic(TARGET_NFT,False))"
   ],
   "outputs": [
    {
     "output_type": "execute_result",
     "data": {
      "text/plain": [
       "[{'max': 15, 'avg': 7.2515, 'min': 1, 'num': 14503},\n",
       " {'max': 14, 'avg': 7.3885, 'min': 1, 'num': 14777}]"
      ]
     },
     "metadata": {},
     "execution_count": 153
    }
   ],
   "metadata": {}
  },
  {
   "cell_type": "code",
   "execution_count": 154,
   "source": [
    "def BaseStationUplinkConnectionReport(self, app_stats):\n",
    "        bs_report = []\n",
    "        if(len(app_stats) > 0 ):\n",
    "            for bs in GV.NET_STATION_CONTROLLER:\n",
    "                time_orgnz_record = {}\n",
    "                _max = 0\n",
    "                _min = 0\n",
    "                _avg = 0\n",
    "                _num = 0\n",
    "                for name,record in app_stats.items():\n",
    "                    # print(name)\n",
    "                    if(len(record.time_bs_txq[bs]) > 0):\n",
    "                        time = record.time_bs_txq[bs][0][0]\n",
    "                        if(not time in  time_orgnz_record):\n",
    "                            time_orgnz_record[time] = set()\n",
    "                        time_orgnz_record[time].update(name[:name.find('-')])\n",
    "                per_ms_uplink_conn = [len(x) for x in time_orgnz_record.values()]\n",
    "                if(len(time_orgnz_record) > 0):\n",
    "                    _max = max(per_ms_uplink_conn)\n",
    "                    _min = min(per_ms_uplink_conn)\n",
    "                    _avg = sum(per_ms_uplink_conn)/self.RecordDuration()/1000\n",
    "                    _num = sum(per_ms_uplink_conn)\n",
    "                bs_report.append(\n",
    "                    {\n",
    "                        \"max\": _max,\n",
    "                        \"avg\": _avg,\n",
    "                        \"min\": _min,\n",
    "                        \"num\": _num\n",
    "                    }\n",
    "                )\n",
    "        else:\n",
    "            bs_report = [ \n",
    "                {\n",
    "                        \"max\": 0,\n",
    "                        \"avg\": 0,\n",
    "                        \"min\": 0,\n",
    "                        \"num\": 0\n",
    "                }\n",
    "                for bs in GV.NET_STATION_CONTROLLER\n",
    "            ]\n",
    "\n",
    "        return bs_report\n",
    "\n",
    "BaseStationUplinkConnectionReport(statistic,statistic.ExtractNetworkTraffic(TARGET_NFT,False))"
   ],
   "outputs": [
    {
     "output_type": "execute_result",
     "data": {
      "text/plain": [
       "[{'max': 16, 'avg': 20.01, 'min': 8, 'num': 40020},\n",
       " {'max': 16, 'avg': 20.01, 'min': 8, 'num': 40020}]"
      ]
     },
     "metadata": {},
     "execution_count": 154
    }
   ],
   "metadata": {}
  },
  {
   "cell_type": "code",
   "execution_count": null,
   "source": [],
   "outputs": [],
   "metadata": {}
  },
  {
   "cell_type": "code",
   "execution_count": null,
   "source": [],
   "outputs": [],
   "metadata": {}
  }
 ],
 "metadata": {
  "kernelspec": {
   "name": "python3",
   "display_name": "Python 3.8.10 64-bit ('ProjectSumo-0-222X3X': pipenv)"
  },
  "language_info": {
   "codemirror_mode": {
    "name": "ipython",
    "version": 3
   },
   "file_extension": ".py",
   "mimetype": "text/x-python",
   "name": "python",
   "nbconvert_exporter": "python",
   "pygments_lexer": "ipython3",
   "version": "3.8.10"
  },
  "interpreter": {
   "hash": "9d1f2cd3231a71d86457824a020c8dbed3225f943f28ce8c6aa682a0df43dba4"
  }
 },
 "nbformat": 4,
 "nbformat_minor": 4
}