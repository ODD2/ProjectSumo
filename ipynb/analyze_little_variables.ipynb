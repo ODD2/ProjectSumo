{
 "cells": [
  {
   "cell_type": "code",
   "execution_count": 1,
   "metadata": {},
   "outputs": [],
   "source": [
    "import os\n",
    "import pickle\n",
    "import sys\n",
    "import math\n",
    "sys.path.append(\"../\")\n",
    "from od.env.config import SUMO_SIM_SECONDS\n",
    "from od.misc.statistic import NetFlowType\n",
    "from od.network.types import ResourceAllocatorType,BaseStationType\n",
    "from od.misc.interest import InterestConfig\n",
    "from od.env.config import SUMO_SIM_STEPS,ROOT_DIR\n",
    "from od.env.station import BS_PRESET\n",
    "from od.social.manager.types import DynamicSocialGroupBehaviour\n",
    "from od.env.config import NET_TIMEOUT_SECONDS\n",
    "import od.misc.statistic as oms"
   ]
  },
  {
   "cell_type": "code",
   "execution_count": 26,
   "metadata": {},
   "outputs": [
    {
     "name": "stdout",
     "output_type": "stream",
     "text": [
      "/home/OD/repos/ProjectSumo/ipynb\n",
      "MAX_N_MEMBER(20)-nQoS-yRSU-NOMA_APR-D1.4-S2\n"
     ]
    }
   ],
   "source": [
    "print(os.getcwd())\n",
    "interest_config = InterestConfig(DynamicSocialGroupBehaviour.MAX_N_MEMBER,20,False,ResourceAllocatorType.NOMA_APR,True,1.4,2)\n",
    "statistic = None\n",
    "print(interest_config)\n",
    "with open(\"../data/GERNA/{}/object.pickle\".format(interest_config.folder()), \"rb\") as file:\n",
    "    statistic = pickle.load(file)\n",
    "statistic.nft_traffic = {}\n",
    "statistic.raw_sg_header = statistic.sg_header"
   ]
  },
  {
   "cell_type": "code",
   "execution_count": 27,
   "metadata": {},
   "outputs": [],
   "source": [
    "\n",
    "BS_CONFIG =  {\n",
    "        name:bs_config \n",
    "        for name,bs_config in BS_PRESET.items()\n",
    "        if (\n",
    "            bs_config[\"type\"] == BaseStationType.UMA  or \n",
    "            (\n",
    "                interest_config.req_rsu and \n",
    "                bs_config[\"type\"] == BaseStationType.UMI\n",
    "            )\n",
    "        )\n",
    "}\n",
    "\n",
    "class FakeBaseStation:\n",
    "    def __init__(self,name,pos,bs_type,serial):\n",
    "        self.name = name\n",
    "        self.pos = pos\n",
    "        self.type = bs_type\n",
    "        self.serial = serial\n",
    "    def __repr__(self) -> str:\n",
    "        return self.name\n",
    "    def __index__(self):\n",
    "        return self.serial\n",
    "        \n",
    "class GV:\n",
    "    NET_STATION_CONTROLLER = [ \n",
    "        FakeBaseStation(\n",
    "            name,\n",
    "            BS_CONFIG[name][\"pos\"],\n",
    "            BS_CONFIG[name][\"type\"] ,\n",
    "            i\n",
    "        )   for i,name in enumerate(BS_CONFIG)\n",
    "    ]\n",
    "    class STATISTIC:\n",
    "        def Log(data):\n",
    "            pass\n",
    "        def Doc(data):\n",
    "            pass\n",
    "    class RESULT:\n",
    "        def Log(data):\n",
    "            pass\n",
    "        def Doc(data):\n",
    "            print(data)\n",
    "oms.GV = GV\n"
   ]
  },
  {
   "cell_type": "code",
   "execution_count": 28,
   "metadata": {},
   "outputs": [],
   "source": [
    "c2g_app_stats = statistic.ExtractNetworkTraffic(NetFlowType.C2G,True)\n",
    "cri_app_stats = statistic.ExtractNetworkTraffic(NetFlowType.CRITICAL,True)"
   ]
  },
  {
   "cell_type": "code",
   "execution_count": 29,
   "metadata": {},
   "outputs": [],
   "source": [
    "c2g_app_stats = statistic.ExtractNetworkTraffic(NetFlowType.C2G,True)\n",
    "cri_app_stats = statistic.ExtractNetworkTraffic(NetFlowType.CRITICAL,True)\n",
    "for name in c2g_app_stats.keys():\n",
    "    c2g_app_stats[name].time_veh_serv = cri_app_stats[name].time_veh_serv\n",
    "    c2g_app_stats[name].time_veh_tx = cri_app_stats[name].time_veh_tx\n",
    "    c2g_app_stats[name].time_veh_txq = cri_app_stats[name].time_veh_txq"
   ]
  },
  {
   "cell_type": "code",
   "execution_count": 30,
   "metadata": {},
   "outputs": [
    {
     "ename": "IndexError",
     "evalue": "list index out of range",
     "output_type": "error",
     "traceback": [
      "\u001b[0;31m---------------------------------------------------------------------------\u001b[0m",
      "\u001b[0;31mIndexError\u001b[0m                                Traceback (most recent call last)",
      "\u001b[0;32m/tmp/ipykernel_1215281/3336082993.py\u001b[0m in \u001b[0;36m<module>\u001b[0;34m\u001b[0m\n\u001b[0;32m----> 1\u001b[0;31m \u001b[0mlist\u001b[0m\u001b[0;34m(\u001b[0m\u001b[0mc2g_app_stats\u001b[0m\u001b[0;34m.\u001b[0m\u001b[0mvalues\u001b[0m\u001b[0;34m(\u001b[0m\u001b[0;34m)\u001b[0m\u001b[0;34m)\u001b[0m\u001b[0;34m[\u001b[0m\u001b[0;34m-\u001b[0m\u001b[0;36m1\u001b[0m\u001b[0;34m]\u001b[0m\u001b[0;34m.\u001b[0m\u001b[0mtime_veh_serv\u001b[0m\u001b[0;34m\u001b[0m\u001b[0;34m\u001b[0m\u001b[0m\n\u001b[0m\u001b[1;32m      2\u001b[0m \u001b[0mlist\u001b[0m\u001b[0;34m(\u001b[0m\u001b[0mc2g_app_stats\u001b[0m\u001b[0;34m.\u001b[0m\u001b[0mvalues\u001b[0m\u001b[0;34m(\u001b[0m\u001b[0;34m)\u001b[0m\u001b[0;34m)\u001b[0m\u001b[0;34m[\u001b[0m\u001b[0;34m-\u001b[0m\u001b[0;36m1\u001b[0m\u001b[0;34m]\u001b[0m\u001b[0;34m.\u001b[0m\u001b[0mtime_veh_txq\u001b[0m\u001b[0;34m\u001b[0m\u001b[0;34m\u001b[0m\u001b[0m\n",
      "\u001b[0;31mIndexError\u001b[0m: list index out of range"
     ]
    }
   ],
   "source": [
    "list(c2g_app_stats.values())[-1].time_veh_serv\n",
    "list(c2g_app_stats.values())[-1].time_veh_txq\n"
   ]
  },
  {
   "cell_type": "code",
   "execution_count": 31,
   "metadata": {},
   "outputs": [
    {
     "data": {
      "text/plain": [
       "[UMA-1, UMA-2, UMI-1, UMI-2, UMI-3, UMI-4, UMI-5]"
      ]
     },
     "execution_count": 31,
     "metadata": {},
     "output_type": "execute_result"
    }
   ],
   "source": [
    "GV.NET_STATION_CONTROLLER"
   ]
  },
  {
   "cell_type": "code",
   "execution_count": 32,
   "metadata": {},
   "outputs": [],
   "source": [
    "TARGET_NFT = NetFlowType.GENERAL"
   ]
  },
  {
   "cell_type": "code",
   "execution_count": 33,
   "metadata": {},
   "outputs": [],
   "source": [
    "app_stats = statistic.ExtractNetworkTraffic(TARGET_NFT,True)"
   ]
  },
  {
   "cell_type": "code",
   "execution_count": 34,
   "metadata": {},
   "outputs": [
    {
     "data": {
      "text/plain": [
       "{'avg': 0.4294412617295618,\n",
       " 'max': 7.798000000000002,\n",
       " 'min': 0.001999999999981128}"
      ]
     },
     "execution_count": 34,
     "metadata": {},
     "output_type": "execute_result"
    }
   ],
   "source": [
    "statistic.VehicleReceivedIntactAppdataReport(app_stats)"
   ]
  },
  {
   "cell_type": "code",
   "execution_count": 35,
   "metadata": {},
   "outputs": [
    {
     "data": {
      "text/plain": [
       "{'avg': 0.6916970039925935,\n",
       " 'max': 7.798000000000002,\n",
       " 'min': 0.001999999999981128}"
      ]
     },
     "execution_count": 35,
     "metadata": {},
     "output_type": "execute_result"
    }
   ],
   "source": [
    "statistic.AppdataE2EReport(app_stats)"
   ]
  },
  {
   "cell_type": "code",
   "execution_count": 36,
   "metadata": {},
   "outputs": [
    {
     "data": {
      "text/plain": [
       "{'avg': 0.8577702710916608, 'max': 7.795999999999992, 'min': 0.0}"
      ]
     },
     "execution_count": 36,
     "metadata": {},
     "output_type": "execute_result"
    }
   ],
   "source": [
    "statistic.AppdataTXQReport(app_stats)"
   ]
  },
  {
   "cell_type": "code",
   "execution_count": 37,
   "metadata": {},
   "outputs": [],
   "source": [
    "record_id = list(app_stats.keys())\n",
    "data = app_stats[record_id[0]]"
   ]
  },
  {
   "cell_type": "code",
   "execution_count": 38,
   "metadata": {},
   "outputs": [
    {
     "data": {
      "text/plain": [
       "186.0"
      ]
     },
     "execution_count": 38,
     "metadata": {},
     "output_type": "execute_result"
    }
   ],
   "source": [
    "data.time_veh_serv"
   ]
  },
  {
   "cell_type": "code",
   "execution_count": 39,
   "metadata": {},
   "outputs": [
    {
     "data": {
      "text/plain": [
       "[[186.0, 186.001]]"
      ]
     },
     "execution_count": 39,
     "metadata": {},
     "output_type": "execute_result"
    }
   ],
   "source": [
    "data.time_veh_tx"
   ]
  },
  {
   "cell_type": "code",
   "execution_count": 40,
   "metadata": {},
   "outputs": [
    {
     "data": {
      "text/plain": [
       "[[186.0, 186.0]]"
      ]
     },
     "execution_count": 40,
     "metadata": {},
     "output_type": "execute_result"
    }
   ],
   "source": [
    "data.time_veh_txq"
   ]
  },
  {
   "cell_type": "code",
   "execution_count": 41,
   "metadata": {},
   "outputs": [
    {
     "data": {
      "text/plain": [
       "{'avg': 0.8577702710916608, 'max': 7.795999999999992, 'min': 0.0}"
      ]
     },
     "execution_count": 41,
     "metadata": {},
     "output_type": "execute_result"
    }
   ],
   "source": [
    "statistic.AppdataTXQReport(app_stats)"
   ]
  },
  {
   "cell_type": "code",
   "execution_count": 42,
   "metadata": {},
   "outputs": [
    {
     "name": "stdout",
     "output_type": "stream",
     "text": [
      "0.23499999999998522 4.014499999999984\n",
      "flow_1.6-222 <od.misc.statistic.AppdataStatistic object at 0x7f9df1823c10>\n"
     ]
    }
   ],
   "source": [
    "for name,record in app_stats.items():\n",
    "    singleton = {name:record}\n",
    "    e2e = statistic.AppdataE2EReport(singleton)[\"avg\"]\n",
    "    wait =  statistic.AppdataTXQReport(singleton)[\"avg\"]\n",
    "    if( e2e < wait):\n",
    "        print(e2e,wait)\n",
    "        print(name,record)\n",
    "        break"
   ]
  },
  {
   "cell_type": "code",
   "execution_count": 43,
   "metadata": {},
   "outputs": [
    {
     "name": "stdout",
     "output_type": "stream",
     "text": [
      "DYN_SG_3 flow_1.6-222\n",
      "at 187.3\n",
      "trip: {'flow_0.35': 0.23499999999998522, 'flow_0.36': 0.23499999999998522, 'flow_0.42': 0.23499999999998522, 'flow_0.43': 0.23499999999998522, 'flow_0.45': 0.23499999999998522, 'flow_1.8': 0.23499999999998522, 'flow_13.3': 0.23499999999998522, 'flow_2.35': 0.23499999999998522, 'flow_2.39': 0.23499999999998522, 'flow_2.41': 0.23499999999998522, 'flow_2.48': 0.23499999999998522, 'flow_2.51': 0.23499999999998522, 'flow_2.52': 0.23499999999998522, 'flow_2.53': 0.23499999999998522, 'flow_8.4': 0.23499999999998522}\n",
      "veh serv: 187.533\n",
      "veh tx: [[187.533, 187.534]]\n",
      "veh txq: [[187.3, 187.533]]\n",
      "bs tx: [[[187.534, 187.535]], [[195.097, 195.098], [195.098, 195.099]], [], [], [], [], []]\n",
      "bs txq: [[[187.534, 187.534]], [[187.534, 195.097], [195.098, 195.098], [195.0, 195.0]], [], [], [], [], []]\n",
      "bs drop: [-1, 195, -1, -1, -1, -1, -1]\n",
      "bs serv: [187.534, -1, -1, -1, -1, -1, -1]\n"
     ]
    }
   ],
   "source": [
    "for sg in statistic.social_group:\n",
    "    if(name in statistic.sg_header[sg]):\n",
    "        print(sg,name)\n",
    "        record = statistic.sg_header[sg][name]\n",
    "print(\"at\",record.at)\n",
    "print(\"trip:\",record.time_veh_trip)\n",
    "print(\"veh serv:\",record.time_veh_serv)\n",
    "print(\"veh tx:\",record.time_veh_tx)\n",
    "print(\"veh txq:\",record.time_veh_txq)\n",
    "print(\"bs tx:\",record.time_bs_tx)\n",
    "print(\"bs txq:\",record.time_bs_txq)\n",
    "print(\"bs drop:\",record.time_bs_drop)\n",
    "print(\"bs serv:\",record.time_bs_serv)"
   ]
  },
  {
   "cell_type": "code",
   "execution_count": 20,
   "metadata": {},
   "outputs": [
    {
     "name": "stdout",
     "output_type": "stream",
     "text": [
      "CRASH 0.0\n",
      "RCWS 0.0\n",
      "DYN_SG_0 0.0\n",
      "DYN_SG_1 0.0\n",
      "DYN_SG_2 0.0\n",
      "DYN_SG_3 0.0\n",
      "DYN_SG_4 0.0\n",
      "DYN_SG_5 0.0\n",
      "DYN_SG_6 0.0\n",
      "DYN_SG_7 0.0\n",
      "DYN_SG_8 0.0\n",
      "DYN_SG_9 0.0\n"
     ]
    }
   ],
   "source": [
    "for sg in statistic.social_group:\n",
    "    print(sg,statistic.AppdataTimeoutRatioReport(statistic.sg_header[sg]))"
   ]
  },
  {
   "cell_type": "code",
   "execution_count": 19,
   "metadata": {},
   "outputs": [
    {
     "data": {
      "text/plain": [
       "[<CRASH(QoS:0, Gid:0)>,\n",
       " <RCWS(QoS:1, Gid:1)>,\n",
       " <DYN_SG_0(QoS:1, Gid:2)>,\n",
       " <DYN_SG_1(QoS:1, Gid:3)>,\n",
       " <DYN_SG_2(QoS:1, Gid:4)>,\n",
       " <DYN_SG_3(QoS:1, Gid:5)>,\n",
       " <DYN_SG_4(QoS:1, Gid:6)>,\n",
       " <DYN_SG_5(QoS:1, Gid:7)>,\n",
       " <DYN_SG_6(QoS:1, Gid:8)>,\n",
       " <DYN_SG_7(QoS:1, Gid:9)>,\n",
       " <DYN_SG_8(QoS:1, Gid:10)>]"
      ]
     },
     "execution_count": 19,
     "metadata": {},
     "output_type": "execute_result"
    }
   ],
   "source": [
    "# preprocess overtimes\n",
    "for sg in statistic.social_group:\n",
    "    for record in statistic.sg_header[sg].values():\n",
    "        # ignore appdata that're flagged overtime.\n",
    "        if(record.is_src_ot):\n",
    "            continue\n",
    "        else:\n",
    "            # Check data source overtime condition.\n",
    "            in_txq_time = list(filter(lambda x: len(x) > 0, record.time_bs_txq))\n",
    "            min_enter_txq_time = min(\n",
    "                list(map(\n",
    "                    lambda x: x[0][0],\n",
    "                    in_txq_time\n",
    "                )) + [NET_TIMEOUT_SECONDS + record.at]\n",
    "            )\n",
    "            if(len(in_txq_time) == 0 or\n",
    "                min_enter_txq_time - record.at >= NET_TIMEOUT_SECONDS):\n",
    "                record.is_src_ot = True\n",
    "            else:\n",
    "                # Check base station overtime condition.\n",
    "                for bs in GV.NET_STATION_CONTROLLER:\n",
    "                    if(\n",
    "                        len(record.time_bs_txq[bs]) > 0 and\n",
    "                        record.time_bs_txq[bs][-1][1] - record.at >= NET_TIMEOUT_SECONDS\n",
    "                    ):\n",
    "                        record.is_bs_ot[bs] = True\n",
    "statistic.social_group\n"
   ]
  },
  {
   "cell_type": "code",
   "execution_count": 23,
   "metadata": {},
   "outputs": [
    {
     "name": "stdout",
     "output_type": "stream",
     "text": [
      "<class 'dict'>\n",
      "0.0\n",
      "0.0\n",
      "0.0\n",
      "0.0\n",
      "0.0\n",
      "0.7139256458727158\n",
      "0.0\n",
      "0.0\n",
      "0.0\n",
      "0.0\n",
      "1.0\n"
     ]
    }
   ],
   "source": [
    "print(type(statistic.sg_header[sg]))\n",
    "\n",
    "for sg in statistic.social_group:\n",
    "    print(statistic.AppdataTimeoutRatioReport(statistic.sg_header[sg]))"
   ]
  },
  {
   "cell_type": "code",
   "execution_count": null,
   "metadata": {},
   "outputs": [],
   "source": []
  },
  {
   "cell_type": "code",
   "execution_count": null,
   "metadata": {},
   "outputs": [],
   "source": []
  }
 ],
 "metadata": {
  "interpreter": {
   "hash": "f227239d0a04c460e8af7627ec9c2273aa001f4c3f532f9d517bff180519c459"
  },
  "kernelspec": {
   "display_name": "Python 3.8.10 64-bit ('ProjectSumo-0-222X3X': pipenv)",
   "name": "python3"
  },
  "language_info": {
   "codemirror_mode": {
    "name": "ipython",
    "version": 3
   },
   "file_extension": ".py",
   "mimetype": "text/x-python",
   "name": "python",
   "nbconvert_exporter": "python",
   "pygments_lexer": "ipython3",
   "version": "3.8.10"
  }
 },
 "nbformat": 4,
 "nbformat_minor": 4
}
