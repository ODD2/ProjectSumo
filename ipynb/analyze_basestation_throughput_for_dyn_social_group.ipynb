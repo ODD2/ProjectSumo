{
 "cells": [
  {
   "cell_type": "code",
   "execution_count": 15,
   "metadata": {},
   "outputs": [],
   "source": [
    "import pickle\n",
    "import os\n",
    "import sys\n",
    "sys.path.append(\"../\")\n",
    "from od.social.group import SocialGroup\n",
    "from od.misc.statistic import NetFlowType\n",
    "from od.network.types import ResourceAllocatorType,BaseStationType\n",
    "from od.misc.interest import InterestConfig\n",
    "from od.env.config import SUMO_SIM_STEPS,NET_TIMEOUT_SECONDS,SUMO_TOTAL_SECONDS\n",
    "from od.env.station import BS_PRESET\n",
    "from od.social.manager import  DynamicSocialGroupBehaviour,QoSLevel\n",
    "import od.misc.statistic as oms"
   ]
  },
  {
   "cell_type": "code",
   "execution_count": 7,
   "metadata": {},
   "outputs": [
    {
     "name": "stdout",
     "output_type": "stream",
     "text": [
      "/home/OD/repos/ProjectSumo/ipynb\n",
      "MAX_N_MEMBER(5)-yQoS-yRSU-NOMA_APR-D1.4-S1\n",
      "MAX_N_MEMBER(7)-yQoS-yRSU-NOMA_APR-D1.4-S1\n",
      "MAX_N_MEMBER(9)-yQoS-yRSU-NOMA_APR-D1.4-S1\n",
      "MAX_N_MEMBER(11)-yQoS-yRSU-NOMA_APR-D1.4-S1\n",
      "MAX_N_MEMBER(13)-yQoS-yRSU-NOMA_APR-D1.4-S1\n"
     ]
    }
   ],
   "source": [
    "print(os.getcwd())\n",
    "statistics = []\n",
    "for i in range(5):\n",
    "        interest_config = InterestConfig(\n",
    "                DynamicSocialGroupBehaviour.MAX_N_MEMBER,\n",
    "                i*2+5,\n",
    "                True,\n",
    "                ResourceAllocatorType.NOMA_APR,\n",
    "                True,\n",
    "                1.4,\n",
    "                1\n",
    "        )\n",
    "        with open(\"../data/POST_REGNA/{}/object.pickle\".format(interest_config.folder()), \"rb\") as file:\n",
    "                statistics.append(pickle.load(file))\n",
    "        print(interest_config)\n"
   ]
  },
  {
   "cell_type": "code",
   "execution_count": 8,
   "metadata": {},
   "outputs": [
    {
     "data": {
      "text/plain": [
       "['MAX_N_MEMBER(5)-yQoS-yRSU-NOMA_APR-D1.4-S1',\n",
       " 'MAX_N_MEMBER(7)-yQoS-yRSU-NOMA_APR-D1.4-S1',\n",
       " 'MAX_N_MEMBER(9)-yQoS-yRSU-NOMA_APR-D1.4-S1',\n",
       " 'MAX_N_MEMBER(11)-yQoS-yRSU-NOMA_APR-D1.4-S1',\n",
       " 'MAX_N_MEMBER(13)-yQoS-yRSU-NOMA_APR-D1.4-S1']"
      ]
     },
     "execution_count": 8,
     "metadata": {},
     "output_type": "execute_result"
    }
   ],
   "source": [
    "[str(stat.interest_config) for stat in statistics]"
   ]
  },
  {
   "cell_type": "code",
   "execution_count": 9,
   "metadata": {},
   "outputs": [],
   "source": [
    "\n",
    "BS_CONFIG =  {\n",
    "        name:bs_config \n",
    "        for name,bs_config in BS_PRESET.items()\n",
    "        if (\n",
    "            bs_config[\"type\"] == BaseStationType.UMA  or \n",
    "            (\n",
    "                interest_config.req_rsu and \n",
    "                bs_config[\"type\"] == BaseStationType.UMI\n",
    "            )\n",
    "        )\n",
    "}\n",
    "\n",
    "class FakeBaseStation:\n",
    "    def __init__(self,name,pos,bs_type,serial):\n",
    "        self.name = name\n",
    "        self.pos = pos\n",
    "        self.type = bs_type\n",
    "        self.serial = serial\n",
    "    def __repr__(self) -> str:\n",
    "        return self.name\n",
    "    def __index__(self):\n",
    "        return self.serial\n",
    "        \n",
    "class GV:\n",
    "    NET_STATION_CONTROLLER = [ \n",
    "        FakeBaseStation(\n",
    "            name,\n",
    "            BS_CONFIG[name][\"pos\"],\n",
    "            BS_CONFIG[name][\"type\"] ,\n",
    "            i\n",
    "        )   for i,name in enumerate(BS_CONFIG)\n",
    "    ]\n",
    "    class STATISTIC:\n",
    "        def Log(data):\n",
    "            pass\n",
    "        def Doc(data):\n",
    "            pass\n",
    "    class RESULT:\n",
    "        def Log(data):\n",
    "            pass\n",
    "        def Doc(data):\n",
    "            print(data)\n",
    "oms.GV = GV"
   ]
  },
  {
   "cell_type": "code",
   "execution_count": 10,
   "metadata": {},
   "outputs": [
    {
     "data": {
      "text/plain": [
       "[UMA-1, UMA-2]"
      ]
     },
     "execution_count": 10,
     "metadata": {},
     "output_type": "execute_result"
    }
   ],
   "source": [
    "GV.NET_STATION_CONTROLLER = GV.NET_STATION_CONTROLLER[:2]\n",
    "GV.NET_STATION_CONTROLLER"
   ]
  },
  {
   "cell_type": "code",
   "execution_count": 11,
   "metadata": {},
   "outputs": [],
   "source": [
    "class Helper:\n",
    "    def __init__(self,header,record,bs_index):\n",
    "        self.name = header\n",
    "        self.bits = record.bits\n",
    "        self.time_gen = round(record.at,4)\n",
    "        self.time_serv = round(record.time_bs_serv[bs_index],4)\n",
    "        self.time_len =  195-185 if self.time_serv == -1 else round(self.time_serv - self.time_gen,4)\n",
    "    def __str__(self):\n",
    "        return \"{}[ at:{} ,to:{}, dur:{}, size:{}]\".format(self.name,self.time_gen,self.time_serv,self.time_len,self.bits)\n",
    "    def __repr__(self):\n",
    "        return \"{}[ at:{} ,to:{}, dur:{}, size:{}]\".format(self.name,self.time_gen,self.time_serv,self.time_len,self.bits)\n"
   ]
  },
  {
   "cell_type": "code",
   "execution_count": 22,
   "metadata": {},
   "outputs": [],
   "source": [
    "app_stats_fn = lambda x: { \n",
    "    header:record \n",
    "    for sg in x.social_group\n",
    "    for header,record in x.sg_header[sg].items()\n",
    "    if sg.qos == QoSLevel.GENERAL\n",
    "}\n",
    "# app_stats_fn = lambda x: statistic.ExtractNetworkTraffic(NetFlowType.CRITICAL)\n",
    "# app_stats_fn = lambda x: x.sg_header[SocialGroup.RCWS]"
   ]
  },
  {
   "cell_type": "code",
   "execution_count": 23,
   "metadata": {},
   "outputs": [],
   "source": [
    "bs_index = 1"
   ]
  },
  {
   "cell_type": "code",
   "execution_count": 24,
   "metadata": {},
   "outputs": [],
   "source": [
    "bs_serv_list = [[] for _ in statistics]\n",
    "bs_time_gap = [{} for _ in statistics]\n",
    "for i, statistic in enumerate(statistics):\n",
    "    for header, record in app_stats_fn(statistic).items():\n",
    "        if(len(record.time_bs_txq[bs_index]) > 0):\n",
    "            bs_serv_list[i].append(Helper(header, record, bs_index))\n",
    "    bs_serv_list[i].sort(key=lambda x : x.time_gen*1000000+x.time_serv)\n",
    "    for helper in sorted(bs_serv_list[i],key=lambda x: (x.time_serv * 1000) * 10000000 + x.bits):\n",
    "        at = str(helper.time_gen)\n",
    "        to = str(helper.time_serv)\n",
    "        if(to not in bs_time_gap[i]):\n",
    "             bs_time_gap[i][to] = {\"need\": 0, \"give\": 0}\n",
    "        if(at not in bs_time_gap[i]):\n",
    "             bs_time_gap[i][at] = {\"need\": 0, \"give\": 0}\n",
    "        bs_time_gap[i][to][\"give\"]+=helper.bits\n",
    "        bs_time_gap[i][at][\"need\"]+=helper.bits\n",
    "    \n",
    "   \n"
   ]
  },
  {
   "cell_type": "code",
   "execution_count": null,
   "metadata": {},
   "outputs": [],
   "source": [
    "for v in bs_serv_list[0]:\n",
    "    print(v)"
   ]
  },
  {
   "cell_type": "code",
   "execution_count": null,
   "metadata": {},
   "outputs": [],
   "source": [
    "for time in [ str(round(i/1000,4))for i in range(185000,195000,1)]:\n",
    "    data = []\n",
    "    for i in range(2):\n",
    "        if(time in bs_time_gap[i]):\n",
    "            data.append(bs_time_gap[i][time][\"need\"])\n",
    "            data.append(bs_time_gap[i][time][\"give\"])\n",
    "        else:\n",
    "            data.append(0)\n",
    "            data.append(0)\n",
    "    if(not sum(data)==0):\n",
    "        print(time, data)\n"
   ]
  },
  {
   "cell_type": "code",
   "execution_count": null,
   "metadata": {},
   "outputs": [],
   "source": [
    "\n",
    "remain = [0 for _ in statistics]\n",
    "for time in [ str(round(i/1000,4))for i in range(185000,195000,1)]:\n",
    "    for i in range(2):\n",
    "        if(time in bs_time_gap[i]):\n",
    "            helper = bs_time_gap[i][time]\n",
    "            remain[i] += (helper[\"need\"] - helper[\"give\"])\n",
    "    if(not sum(remain)==0):\n",
    "        print(time, remain, remain[0]-remain[1])\n"
   ]
  },
  {
   "cell_type": "code",
   "execution_count": null,
   "metadata": {},
   "outputs": [],
   "source": []
  },
  {
   "cell_type": "code",
   "execution_count": null,
   "metadata": {},
   "outputs": [],
   "source": []
  }
 ],
 "metadata": {
  "interpreter": {
   "hash": "f227239d0a04c460e8af7627ec9c2273aa001f4c3f532f9d517bff180519c459"
  },
  "kernelspec": {
   "display_name": "Python 3.8.10 64-bit ('ProjectSumo-0-222X3X': pipenv)",
   "name": "python3"
  },
  "language_info": {
   "codemirror_mode": {
    "name": "ipython",
    "version": 3
   },
   "file_extension": ".py",
   "mimetype": "text/x-python",
   "name": "python",
   "nbconvert_exporter": "python",
   "pygments_lexer": "ipython3",
   "version": "3.8.10"
  }
 },
 "nbformat": 4,
 "nbformat_minor": 4
}
