{
 "cells": [
  {
   "cell_type": "code",
   "execution_count": 1,
   "metadata": {},
   "outputs": [
    {
     "name": "stdout",
     "output_type": "stream",
     "text": [
      " Retrying in 1 seconds\n"
     ]
    }
   ],
   "source": [
    "import sys\n",
    "import os\n",
    "while(not os.getcwd()==\"/\" and  not \".gitignore\" in os.listdir()):\n",
    "    os.chdir(\"../\")\n",
    "from od.network.types import ResourceAllocatorType\n",
    "from od.misc.interest import InterestConfig\n",
    "from od.social.manager.types import DynamicSocialGroupBehaviour\n",
    "import single\n",
    "single.SUMO_SIM_GUI = True\n",
    "interest_config = InterestConfig(DynamicSocialGroupBehaviour.MAX_N_MEMBER,20,False, ResourceAllocatorType.NOMA_OPT,True,1.4,1)\n",
    "single.InitTraci(interest_config)"
   ]
  },
  {
   "cell_type": "code",
   "execution_count": 2,
   "metadata": {},
   "outputs": [],
   "source": [
    "# - initialize simulation dependent global variables\n",
    "single.GV.InitializeSimulationVariables(interest_config)"
   ]
  },
  {
   "cell_type": "code",
   "execution_count": 3,
   "metadata": {},
   "outputs": [],
   "source": [
    "# - create base station icon and radius in SUMO\n",
    "for name, setting in single.GV.BS_SETTING.items():\n",
    "        single.CreateBaseStationIndicator(name, setting)"
   ]
  },
  {
   "cell_type": "code",
   "execution_count": 4,
   "metadata": {},
   "outputs": [
    {
     "data": {
      "text/plain": [
       "[]"
      ]
     },
     "execution_count": 4,
     "metadata": {},
     "output_type": "execute_result"
    }
   ],
   "source": [
    "single.traci.simulationStep()"
   ]
  },
  {
   "cell_type": "code",
   "execution_count": 5,
   "metadata": {},
   "outputs": [],
   "source": [
    "while(single.traci.simulation.getTime() <= 186.5):\n",
    "    single.traci.simulationStep()"
   ]
  },
  {
   "cell_type": "code",
   "execution_count": null,
   "metadata": {},
   "outputs": [],
   "source": []
  }
 ],
 "metadata": {
  "interpreter": {
   "hash": "f227239d0a04c460e8af7627ec9c2273aa001f4c3f532f9d517bff180519c459"
  },
  "kernelspec": {
   "display_name": "Python 3.8.10 64-bit ('ProjectSumo-0-222X3X': pipenv)",
   "name": "python3"
  },
  "language_info": {
   "codemirror_mode": {
    "name": "ipython",
    "version": 3
   },
   "file_extension": ".py",
   "mimetype": "text/x-python",
   "name": "python",
   "nbconvert_exporter": "python",
   "pygments_lexer": "ipython3",
   "version": "3.8.10"
  },
  "orig_nbformat": 2
 },
 "nbformat": 4,
 "nbformat_minor": 2
}
