{
 "cells": [
  {
   "cell_type": "code",
   "execution_count": 8,
   "metadata": {},
   "outputs": [],
   "source": [
    "import pickle\n",
    "import os\n",
    "import sys\n",
    "sys.path.append(\"../\")\n",
    "from od.social.group import SocialGroup\n",
    "from od.misc.statistic import NetFlowType\n",
    "from od.network.types import ResourceAllocatorType,BaseStationType\n",
    "from od.misc.interest import InterestConfig\n",
    "from od.env.config import SUMO_SIM_STEPS,NET_TIMEOUT_SECONDS,SUMO_TOTAL_SECONDS\n",
    "from od.env.station import BS_PRESET\n",
    "from od.social.manager import  DynamicSocialGroupBehaviour,QoSLevel\n",
    "import od.misc.statistic as oms"
   ]
  },
  {
   "cell_type": "code",
   "execution_count": 9,
   "metadata": {},
   "outputs": [],
   "source": [
    "statistics = [[],[]]\n"
   ]
  },
  {
   "cell_type": "code",
   "execution_count": 11,
   "metadata": {},
   "outputs": [
    {
     "name": "stdout",
     "output_type": "stream",
     "text": [
      "/home/OD/repos/ProjectSumo/ipynb\n"
     ]
    }
   ],
   "source": [
    "print(os.getcwd())\n",
    "for i,v in enumerate([ResourceAllocatorType.NOMA_APR,ResourceAllocatorType.NOMA_OPT]):\n",
    "        for s in range(1):\n",
    "                interest_config = InterestConfig(\n",
    "                        DynamicSocialGroupBehaviour.MAX_N_MEMBER,\n",
    "                        20,\n",
    "                        False,\n",
    "                        v,\n",
    "                        True,\n",
    "                        1.4,\n",
    "                        s+1\n",
    "                )\n",
    "                with open(\"../data/POST_REGNA/{}/object.pickle\".format(interest_config.folder()), \"rb\") as file:\n",
    "                        statistics[i].append(pickle.load(file))\n"
   ]
  },
  {
   "cell_type": "code",
   "execution_count": 14,
   "metadata": {},
   "outputs": [
    {
     "name": "stdout",
     "output_type": "stream",
     "text": [
      "['MAX_N_MEMBER(20)-nQoS-yRSU-NOMA_APR-D1.4-S1']\n",
      "['MAX_N_MEMBER(20)-nQoS-yRSU-NOMA_OPT-D1.4-S1']\n"
     ]
    }
   ],
   "source": [
    "for stats in statistics:\n",
    "    print([str(stat.interest_config) for stat in stats])"
   ]
  },
  {
   "cell_type": "code",
   "execution_count": 15,
   "metadata": {},
   "outputs": [],
   "source": [
    "\n",
    "BS_CONFIG =  {\n",
    "        name:bs_config \n",
    "        for name,bs_config in BS_PRESET.items()\n",
    "        if (\n",
    "            bs_config[\"type\"] == BaseStationType.UMA  or \n",
    "            (\n",
    "                interest_config.req_rsu and \n",
    "                bs_config[\"type\"] == BaseStationType.UMI\n",
    "            )\n",
    "        )\n",
    "}\n",
    "\n",
    "class FakeBaseStation:\n",
    "    def __init__(self,name,pos,bs_type,serial):\n",
    "        self.name = name\n",
    "        self.pos = pos\n",
    "        self.type = bs_type\n",
    "        self.serial = serial\n",
    "    def __repr__(self) -> str:\n",
    "        return self.name\n",
    "    def __index__(self):\n",
    "        return self.serial\n",
    "        \n",
    "class GV:\n",
    "    NET_STATION_CONTROLLER = [ \n",
    "        FakeBaseStation(\n",
    "            name,\n",
    "            BS_CONFIG[name][\"pos\"],\n",
    "            BS_CONFIG[name][\"type\"] ,\n",
    "            i\n",
    "        )   for i,name in enumerate(BS_CONFIG)\n",
    "    ]\n",
    "    class STATISTIC:\n",
    "        def Log(data):\n",
    "            pass\n",
    "        def Doc(data):\n",
    "            pass\n",
    "    class RESULT:\n",
    "        def Log(data):\n",
    "            pass\n",
    "        def Doc(data):\n",
    "            print(data)\n",
    "oms.GV = GV"
   ]
  },
  {
   "cell_type": "code",
   "execution_count": 16,
   "metadata": {},
   "outputs": [
    {
     "data": {
      "text/plain": [
       "[UMA-1, UMA-2]"
      ]
     },
     "execution_count": 16,
     "metadata": {},
     "output_type": "execute_result"
    }
   ],
   "source": [
    "GV.NET_STATION_CONTROLLER = GV.NET_STATION_CONTROLLER[:2]\n",
    "GV.NET_STATION_CONTROLLER"
   ]
  },
  {
   "cell_type": "code",
   "execution_count": 17,
   "metadata": {},
   "outputs": [
    {
     "name": "stdout",
     "output_type": "stream",
     "text": [
      "MAX_N_MEMBER(20)-nQoS-yRSU-NOMA_APR-D1.4-S1\n",
      "\tRCWS:size=0, to=0\n",
      "\t\tsrc_ot:0\n",
      "\t\tbs_ot:[0, 0]\n",
      "\t\tmembers: set()\n",
      "\tDYN_SG_0:size=20, to=0\n",
      "\t\tsrc_ot:0\n",
      "\t\tbs_ot:[0, 0]\n",
      "\t\tmembers: {'flow_0.15', 'flow_0.23', 'flow_0.54', 'flow_0.58', 'flow_13.4', 'flow_1.9', 'flow_0.31', 'flow_0.62', 'flow_0.19', 'flow_0.39', 'flow_0.27', 'flow_1.6', 'flow_2.37', 'flow_0.18', 'flow_0.21', 'flow_0.46', 'flow_0.14', 'flow_0.33', 'flow_0.57', 'flow_0.35'}\n",
      "\tDYN_SG_1:size=20, to=0\n",
      "\t\tsrc_ot:0\n",
      "\t\tbs_ot:[0, 0]\n",
      "\t\tmembers: {'flow_0.49', 'flow_0.64', 'flow_0.17', 'flow_0.50', 'flow_1.7', 'flow_0.48', 'flow_0.42', 'flow_0.25', 'flow_0.53', 'flow_0.52', 'flow_0.61', 'flow_0.13', 'flow_0.22', 'flow_0.20', 'flow_0.16', 'flow_0.36', 'flow_0.29', 'flow_0.43', 'flow_1.3', 'flow_0.56'}\n",
      "\tDYN_SG_2:size=20, to=0\n",
      "\t\tsrc_ot:0\n",
      "\t\tbs_ot:[0, 0]\n",
      "\t\tmembers: {'flow_2.38', 'flow_2.64', 'flow_2.69', 'flow_0.37', 'flow_2.68', 'flow_2.55', 'flow_2.46', 'flow_2.78', 'flow_0.26', 'flow_2.56', 'flow_0.30', 'flow_0.45', 'flow_2.35', 'flow_0.60', 'flow_0.34', 'flow_0.24', 'flow_2.63', 'flow_0.38', 'flow_0.47', 'flow_0.28'}\n",
      "\tDYN_SG_3:size=20, to=0\n",
      "\t\tsrc_ot:0\n",
      "\t\tbs_ot:[0, 0]\n",
      "\t\tmembers: {'flow_0.51', 'flow_13.2', 'flow_2.39', 'flow_2.86', 'flow_0.44', 'flow_2.65', 'flow_2.89', 'flow_2.48', 'flow_2.66', 'flow_0.63', 'flow_2.45', 'flow_0.32', 'flow_1.4', 'flow_4.2', 'flow_2.59', 'flow_0.59', 'flow_2.36', 'flow_0.41', 'flow_0.40', 'flow_2.53'}\n",
      "\tDYN_SG_4:size=15, to=0\n",
      "\t\tsrc_ot:0\n",
      "\t\tbs_ot:[0, 0]\n",
      "\t\tmembers: {'flow_2.44', 'flow_0.55', 'flow_2.34', 'flow_2.41', 'flow_2.72', 'flow_4.0', 'flow_1.5', 'flow_8.4', 'flow_2.58', 'flow_4.1', 'flow_2.57', 'flow_2.47', 'flow_1.8', 'flow_2.85', 'flow_2.62'}\n",
      "\tDYN_SG_5:size=17, to=0\n",
      "\t\tsrc_ot:0\n",
      "\t\tbs_ot:[0, 0]\n",
      "\t\tmembers: {'flow_2.42', 'flow_2.54', 'flow_2.49', 'flow_3.0', 'flow_2.74', 'flow_9.6', 'flow_2.67', 'flow_2.60', 'flow_13.3', 'flow_9.8', 'flow_2.50', 'flow_2.40', 'flow_2.43', 'flow_0.68', 'flow_2.76', 'flow_2.88', 'flow_2.52'}\n",
      "\tDYN_SG_6:size=8, to=0\n",
      "\t\tsrc_ot:0\n",
      "\t\tbs_ot:[0, 0]\n",
      "\t\tmembers: {'flow_2.73', 'flow_2.70', 'flow_2.51', 'flow_2.61', 'flow_4.3', 'flow_2.79', 'flow_0.65', 'flow_2.81'}\n",
      "\tDYN_SG_7:size=10, to=896\n",
      "\t\tsrc_ot:0\n",
      "\t\tbs_ot:[896, 0]\n",
      "\t\tmembers: {'flow_2.75', 'flow_0.67', 'flow_2.87', 'flow_2.82', 'flow_2.77', 'flow_2.83', 'flow_3.1', 'flow_2.71', 'flow_2.84', 'flow_2.80'}\n",
      "\tDYN_SG_8:size=6, to=0\n",
      "\t\tsrc_ot:0\n",
      "\t\tbs_ot:[0, 0]\n",
      "\t\tmembers: {'flow_0.66', 'flow_8.2', 'flow_2.90', 'flow_8.3', 'flow_9.5', 'flow_9.7'}\n",
      "\tDYN_SG_9:size=0, to=0\n",
      "\t\tsrc_ot:0\n",
      "\t\tbs_ot:[0, 0]\n",
      "\t\tmembers: set()\n",
      "MAX_N_MEMBER(20)-nQoS-yRSU-NOMA_OPT-D1.4-S1\n",
      "\tRCWS:size=0, to=0\n",
      "\t\tsrc_ot:0\n",
      "\t\tbs_ot:[0, 0]\n",
      "\t\tmembers: set()\n",
      "\tDYN_SG_0:size=20, to=0\n",
      "\t\tsrc_ot:0\n",
      "\t\tbs_ot:[0, 0]\n",
      "\t\tmembers: {'flow_0.15', 'flow_0.23', 'flow_0.54', 'flow_0.58', 'flow_13.4', 'flow_1.9', 'flow_0.31', 'flow_0.62', 'flow_0.19', 'flow_0.39', 'flow_0.27', 'flow_1.6', 'flow_2.37', 'flow_0.18', 'flow_0.21', 'flow_0.46', 'flow_0.14', 'flow_0.33', 'flow_0.57', 'flow_0.35'}\n",
      "\tDYN_SG_1:size=20, to=0\n",
      "\t\tsrc_ot:0\n",
      "\t\tbs_ot:[0, 0]\n",
      "\t\tmembers: {'flow_0.49', 'flow_0.64', 'flow_0.17', 'flow_0.50', 'flow_1.7', 'flow_0.48', 'flow_0.42', 'flow_0.25', 'flow_0.53', 'flow_0.52', 'flow_0.61', 'flow_0.13', 'flow_0.22', 'flow_0.20', 'flow_0.16', 'flow_0.36', 'flow_0.29', 'flow_0.43', 'flow_1.3', 'flow_0.56'}\n",
      "\tDYN_SG_2:size=20, to=0\n",
      "\t\tsrc_ot:0\n",
      "\t\tbs_ot:[0, 0]\n",
      "\t\tmembers: {'flow_2.38', 'flow_2.64', 'flow_2.69', 'flow_0.37', 'flow_2.68', 'flow_2.55', 'flow_2.46', 'flow_2.78', 'flow_0.26', 'flow_2.56', 'flow_0.30', 'flow_0.45', 'flow_2.35', 'flow_0.60', 'flow_0.34', 'flow_0.24', 'flow_2.63', 'flow_0.38', 'flow_0.47', 'flow_0.28'}\n",
      "\tDYN_SG_3:size=20, to=0\n",
      "\t\tsrc_ot:0\n",
      "\t\tbs_ot:[0, 0]\n",
      "\t\tmembers: {'flow_0.51', 'flow_13.2', 'flow_2.39', 'flow_2.86', 'flow_0.44', 'flow_2.65', 'flow_2.89', 'flow_2.48', 'flow_2.66', 'flow_0.63', 'flow_2.45', 'flow_0.32', 'flow_1.4', 'flow_4.2', 'flow_2.59', 'flow_0.59', 'flow_2.36', 'flow_0.41', 'flow_0.40', 'flow_2.53'}\n",
      "\tDYN_SG_4:size=15, to=0\n",
      "\t\tsrc_ot:0\n",
      "\t\tbs_ot:[0, 0]\n",
      "\t\tmembers: {'flow_2.44', 'flow_0.55', 'flow_2.34', 'flow_2.41', 'flow_2.72', 'flow_4.0', 'flow_1.5', 'flow_8.4', 'flow_2.58', 'flow_4.1', 'flow_2.57', 'flow_2.47', 'flow_1.8', 'flow_2.85', 'flow_2.62'}\n",
      "\tDYN_SG_5:size=17, to=0\n",
      "\t\tsrc_ot:0\n",
      "\t\tbs_ot:[0, 0]\n",
      "\t\tmembers: {'flow_2.42', 'flow_2.54', 'flow_2.49', 'flow_3.0', 'flow_2.74', 'flow_9.6', 'flow_2.67', 'flow_2.60', 'flow_13.3', 'flow_9.8', 'flow_2.50', 'flow_2.40', 'flow_2.43', 'flow_0.68', 'flow_2.76', 'flow_2.88', 'flow_2.52'}\n",
      "\tDYN_SG_6:size=8, to=0\n",
      "\t\tsrc_ot:0\n",
      "\t\tbs_ot:[0, 0]\n",
      "\t\tmembers: {'flow_2.73', 'flow_2.70', 'flow_2.51', 'flow_2.61', 'flow_4.3', 'flow_2.79', 'flow_0.65', 'flow_2.81'}\n",
      "\tDYN_SG_7:size=10, to=0\n",
      "\t\tsrc_ot:0\n",
      "\t\tbs_ot:[0, 0]\n",
      "\t\tmembers: {'flow_2.75', 'flow_0.67', 'flow_2.87', 'flow_2.82', 'flow_2.77', 'flow_2.83', 'flow_3.1', 'flow_2.71', 'flow_2.84', 'flow_2.80'}\n",
      "\tDYN_SG_8:size=6, to=0\n",
      "\t\tsrc_ot:0\n",
      "\t\tbs_ot:[0, 0]\n",
      "\t\tmembers: {'flow_0.66', 'flow_8.2', 'flow_2.90', 'flow_8.3', 'flow_9.5', 'flow_9.7'}\n",
      "\tDYN_SG_9:size=0, to=0\n",
      "\t\tsrc_ot:0\n",
      "\t\tbs_ot:[0, 0]\n",
      "\t\tmembers: set()\n"
     ]
    }
   ],
   "source": [
    "class Tabber(str):\n",
    "    def __init__(self):\n",
    "        self.tabs = 0\n",
    "    def __str__(self):\n",
    "        return \"\".join([\"\\t\" for _ in range(self.tabs)])\n",
    "\n",
    "    def enter(self):\n",
    "        self.tabs +=1\n",
    "    def exit(self):\n",
    "        self.tabs -=1\n",
    "\n",
    "def ppp():\n",
    "    global statistics,ots,c\n",
    "    tabber = Tabber()\n",
    "    for i,stats in enumerate(statistics):\n",
    "        for stat in stats:\n",
    "            print(str(tabber)+str(stat.interest_config))\n",
    "            tabber.enter()\n",
    "            for sg in sorted(stat.social_group,key=lambda x: x.gid):\n",
    "                src_ot = 0\n",
    "                bs_ot = [0 for i in GV.NET_STATION_CONTROLLER]\n",
    "                members = set()\n",
    "                if(sg.qos != QoSLevel.GENERAL):\n",
    "                    continue\n",
    "                for name,record in stat.sg_header[sg].items():\n",
    "                    members.add(name[:name.find(\"-\")])\n",
    "                    if(record.is_src_ot):\n",
    "                        src_ot += 1\n",
    "                        continue\n",
    "                    for bs in GV.NET_STATION_CONTROLLER:\n",
    "                        if( record.is_bs_ot[bs]):\n",
    "                            bs_ot[bs] += 1\n",
    "                total_ot = src_ot + sum(bs_ot)\n",
    "                print(str(tabber)+\"{}:size={}, to={}\".format(sg,len(members),total_ot))\n",
    "                tabber.enter()\n",
    "                print(str(tabber)+\"src_ot:{}\".format(src_ot))\n",
    "                print(str(tabber)+\"bs_ot:{}\".format(bs_ot))\n",
    "                print(str(tabber)+\"members:\",members)\n",
    "                tabber.exit()\n",
    "            tabber.exit()\n",
    "ppp()"
   ]
  },
  {
   "cell_type": "code",
   "execution_count": 22,
   "metadata": {},
   "outputs": [
    {
     "name": "stdout",
     "output_type": "stream",
     "text": [
      "1189\n"
     ]
    }
   ],
   "source": [
    "def ppp():\n",
    "    tabber = Tabber()\n",
    "    global statistics\n",
    "    c = 0\n",
    "    stat =  statistics[1][0]\n",
    "    for sg in stat.social_group:\n",
    "        if(sg.fname!= \"DYN_SG_7\"):\n",
    "            continue\n",
    "        print(len(stat.sg_header[sg]))\n",
    "        for name,record in stat.sg_header[sg].items():\n",
    "            if(record.is_src_ot or True in record.is_bs_ot):\n",
    "                print(\"===========\")\n",
    "                print(str(stat.interest_config))\n",
    "                print(name)\n",
    "                print(record)\n",
    "                print(\"===========\")\n",
    "ppp()"
   ]
  },
  {
   "cell_type": "code",
   "execution_count": null,
   "metadata": {},
   "outputs": [],
   "source": []
  },
  {
   "cell_type": "code",
   "execution_count": null,
   "metadata": {},
   "outputs": [],
   "source": []
  },
  {
   "cell_type": "code",
   "execution_count": null,
   "metadata": {},
   "outputs": [],
   "source": [
    "for i in range(100):\n",
    "    print(ots[0][i])"
   ]
  },
  {
   "cell_type": "code",
   "execution_count": null,
   "metadata": {},
   "outputs": [],
   "source": [
    "for i, statistic in enumerate(statistics):\n",
    "    print(\"====={}======\".format(i))\n",
    "    for sg in statistic.social_group:\n",
    "        ot_count = 0\n",
    "        for header, record in statistic.sg_header[sg].items():\n",
    "            if(record.is_src_ot > 0 or\n",
    "               True in [record.is_bs_ot[i] for i in GV.NET_STATION_CONTROLLER] or\n",
    "               not True in [record.time_bs_serv[i] > 0 for i in GV.NET_STATION_CONTROLLER] or\n",
    "               not record.time_veh_serv > 0\n",
    "               ):\n",
    "                ot_count += 1\n",
    "        print(\"{}: {} => {}\".format(sg, ot_count, ot_count / max(len(statistic.sg_header[sg]), 1)))\n"
   ]
  },
  {
   "cell_type": "code",
   "execution_count": null,
   "metadata": {},
   "outputs": [],
   "source": [
    "class Helper:\n",
    "    def __init__(self,header,record,bs_index):\n",
    "        self.name = header\n",
    "        self.bits = record.bits\n",
    "        self.time_gen = round(record.at,4)\n",
    "        self.time_serv = round(record.time_bs_serv[bs_index],4)\n",
    "        self.time_len =  195-185 if self.time_serv == -1 else round(self.time_serv - self.time_gen,4)\n",
    "    def __str__(self):\n",
    "        return \"{}[ at:{} ,to:{}, dur:{}, size:{}]\".format(self.name,self.time_gen,self.time_serv,self.time_len,self.bits)\n",
    "    def __repr__(self):\n",
    "        return \"{}[ at:{} ,to:{}, dur:{}, size:{}]\".format(self.name,self.time_gen,self.time_serv,self.time_len,self.bits)\n"
   ]
  },
  {
   "cell_type": "code",
   "execution_count": null,
   "metadata": {},
   "outputs": [],
   "source": [
    "target_header = \"flow_9.3-305\"\n",
    "# target_header = \"flow_0.58-99\"\n",
    "for statistic in statistics:\n",
    "    header_in_sg_list = [sg.fname for sg in statistic.social_group   if(target_header in statistic.sg_header[sg])]\n",
    "    print(\"In {}\".format(header_in_sg_list))\n",
    "    print(\"C?:{}\".format(target_header in statistic.ExtractNetworkTraffic(NetFlowType.CRITICAL)))\n",
    "    print(\"G?:{}\".format(target_header in statistic.ExtractNetworkTraffic(NetFlowType.GENERAL)))\n",
    "    print(\"C2G?:{}\".format(target_header in statistic.ExtractNetworkTraffic(NetFlowType.C2G)))"
   ]
  },
  {
   "cell_type": "code",
   "execution_count": null,
   "metadata": {},
   "outputs": [],
   "source": [
    "for i,statistic in enumerate(statistics):\n",
    "    for sg in statistic.social_group:\n",
    "        if target_header in statistic.sg_header[sg]:\n",
    "            header = statistic.sg_header[sg][target_header]\n",
    "            print(\"======={}:{}========\".format(i,sg))\n",
    "            print(header)"
   ]
  },
  {
   "cell_type": "code",
   "execution_count": null,
   "metadata": {},
   "outputs": [],
   "source": [
    "bs_index = 1\n",
    "social_groups = statistics[0].social_group\n",
    "print(social_groups)\n",
    "app_stats_fn = lambda x: statistic.sg_header[social_groups[-1]]\n",
    "# app_stats_fn = lambda x: statistic.ExtractNetworkTraffic(NetFlowType.CRITICAL)\n",
    "# app_stats_fn = lambda x: x.sg_header[SocialGroup.RCWS]"
   ]
  },
  {
   "cell_type": "code",
   "execution_count": null,
   "metadata": {},
   "outputs": [],
   "source": [
    "bs_serv_list = [[] for _ in statistics]\n",
    "bs_time_gap = [{} for _ in statistics]\n",
    "for i, statistic in enumerate(statistics):\n",
    "    for header, record in app_stats_fn(statistic).items():\n",
    "        if(len(record.time_bs_txq[bs_index]) > 0):\n",
    "            bs_serv_list[i].append(Helper(header, record, bs_index))\n",
    "    bs_serv_list[i].sort(key=lambda x : x.time_gen*1000000+x.time_serv)\n",
    "    for helper in sorted(bs_serv_list[i],key=lambda x: (x.time_serv * 1000) * 10000000 + x.bits):\n",
    "        at = str(helper.time_gen)\n",
    "        to = str(helper.time_serv)\n",
    "        if(to not in bs_time_gap[i]):\n",
    "             bs_time_gap[i][to] = {\"need\": 0, \"give\": 0}\n",
    "        if(at not in bs_time_gap[i]):\n",
    "             bs_time_gap[i][at] = {\"need\": 0, \"give\": 0}\n",
    "        bs_time_gap[i][to][\"give\"]+=helper.bits\n",
    "        bs_time_gap[i][at][\"need\"]+=helper.bits\n",
    "    \n",
    "   \n"
   ]
  },
  {
   "cell_type": "code",
   "execution_count": null,
   "metadata": {},
   "outputs": [],
   "source": [
    "for v in bs_serv_list[0]:\n",
    "    print(v)"
   ]
  },
  {
   "cell_type": "code",
   "execution_count": null,
   "metadata": {},
   "outputs": [],
   "source": [
    "for time in [ str(round(i/1000,4))for i in range(185000,195000,1)]:\n",
    "    data = []\n",
    "    for i in range(2):\n",
    "        if(time in bs_time_gap[i]):\n",
    "            data.append(bs_time_gap[i][time][\"need\"])\n",
    "            data.append(bs_time_gap[i][time][\"give\"])\n",
    "        else:\n",
    "            data.append(0)\n",
    "            data.append(0)\n",
    "    if(not sum(data)==0):\n",
    "        print(time, data)\n"
   ]
  },
  {
   "cell_type": "code",
   "execution_count": null,
   "metadata": {},
   "outputs": [],
   "source": [
    "\n",
    "remain = [0 for _ in statistics]\n",
    "for time in [ str(round(i/1000,4))for i in range(185000,195000,1)]:\n",
    "    for i in range(2):\n",
    "        if(time in bs_time_gap[i]):\n",
    "            helper = bs_time_gap[i][time]\n",
    "            remain[i] += (helper[\"need\"] - helper[\"give\"])\n",
    "    if(not sum(remain)==0):\n",
    "        print(time, remain, remain[0]-remain[1])\n"
   ]
  },
  {
   "cell_type": "code",
   "execution_count": null,
   "metadata": {},
   "outputs": [],
   "source": []
  },
  {
   "cell_type": "code",
   "execution_count": null,
   "metadata": {},
   "outputs": [],
   "source": []
  }
 ],
 "metadata": {
  "interpreter": {
   "hash": "f227239d0a04c460e8af7627ec9c2273aa001f4c3f532f9d517bff180519c459"
  },
  "kernelspec": {
   "display_name": "Python 3.8.10 64-bit ('ProjectSumo-0-222X3X': pipenv)",
   "name": "python3"
  },
  "language_info": {
   "codemirror_mode": {
    "name": "ipython",
    "version": 3
   },
   "file_extension": ".py",
   "mimetype": "text/x-python",
   "name": "python",
   "nbconvert_exporter": "python",
   "pygments_lexer": "ipython3",
   "version": "3.8.10"
  }
 },
 "nbformat": 4,
 "nbformat_minor": 4
}
