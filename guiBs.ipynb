{
 "metadata": {
  "language_info": {
   "codemirror_mode": {
    "name": "ipython",
    "version": 3
   },
   "file_extension": ".py",
   "mimetype": "text/x-python",
   "name": "python",
   "nbconvert_exporter": "python",
   "pygments_lexer": "ipython3",
   "version": "3.8.5-final"
  },
  "orig_nbformat": 2,
  "kernelspec": {
   "name": "python3",
   "display_name": "Python 3.8.5 64-bit ('ProjectSumo': pipenv)",
   "metadata": {
    "interpreter": {
     "hash": "9d1f2cd3231a71d86457824a020c8dbed3225f943f28ce8c6aa682a0df43dba4"
    }
   }
  }
 },
 "nbformat": 4,
 "nbformat_minor": 2,
 "cells": [
  {
   "cell_type": "code",
   "execution_count": 1,
   "metadata": {},
   "outputs": [
    {
     "output_type": "stream",
     "name": "stdout",
     "text": [
      " Retrying in 1 seconds\n"
     ]
    }
   ],
   "source": [
    "from od.network.types import ResourceAllocatorType\n",
    "from od.misc.interest import InterestConfig\n",
    "import single\n",
    "single.SUMO_SIM_GUI = True\n",
    "interest_config = InterestConfig(ResourceAllocatorType.NOMA_OPT,True,1.0,1)\n",
    "single.InitTraci(interest_config)"
   ]
  },
  {
   "cell_type": "code",
   "execution_count": 2,
   "metadata": {},
   "outputs": [],
   "source": [
    "# - initialize simulation dependent global variables\n",
    "single.GV.InitializeSimulationVariables(interest_config)"
   ]
  },
  {
   "cell_type": "code",
   "execution_count": 3,
   "metadata": {},
   "outputs": [],
   "source": [
    "# - create base station icon and radius in SUMO\n",
    "for name, setting in single.GV.BS_SETTING.items():\n",
    "        single.CreateBaseStationIndicator(name, setting)"
   ]
  },
  {
   "cell_type": "code",
   "execution_count": 4,
   "metadata": {},
   "outputs": [
    {
     "output_type": "execute_result",
     "data": {
      "text/plain": [
       "[]"
      ]
     },
     "metadata": {},
     "execution_count": 4
    }
   ],
   "source": [
    "single.traci.simulationStep()"
   ]
  },
  {
   "cell_type": "code",
   "execution_count": 5,
   "metadata": {},
   "outputs": [],
   "source": [
    "while(single.traci.simulation.getTime() <= 186.2):\n",
    "    single.traci.simulationStep()"
   ]
  },
  {
   "cell_type": "code",
   "execution_count": null,
   "metadata": {},
   "outputs": [],
   "source": []
  }
 ]
}