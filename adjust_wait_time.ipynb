{
 "metadata": {
  "language_info": {
   "codemirror_mode": {
    "name": "ipython",
    "version": 3
   },
   "file_extension": ".py",
   "mimetype": "text/x-python",
   "name": "python",
   "nbconvert_exporter": "python",
   "pygments_lexer": "ipython3",
   "version": "3.8.5"
  },
  "orig_nbformat": 2,
  "kernelspec": {
   "name": "python3",
   "display_name": "Python 3.8.5 64-bit ('ProjectSumo-0-222X3X': pipenv)",
   "metadata": {
    "interpreter": {
     "hash": "9d1f2cd3231a71d86457824a020c8dbed3225f943f28ce8c6aa682a0df43dba4"
    }
   }
  }
 },
 "nbformat": 4,
 "nbformat_minor": 2,
 "cells": [
  {
   "cell_type": "code",
   "execution_count": 12,
   "metadata": {},
   "outputs": [
    {
     "output_type": "execute_result",
     "data": {
      "text/plain": [
       "'/home/OD/repos/ProjectSumo'"
      ]
     },
     "metadata": {},
     "execution_count": 12
    }
   ],
   "source": [
    "import matplotlib.pyplot as plt\n",
    "import pickle\n",
    "import os\n",
    "import math\n",
    "import numpy as np\n",
    "from od.social import SocialGroup\n",
    "from od.network.types import ResourceAllocatorType,BaseStationType\n",
    "from od.misc.interest import InterestConfig\n",
    "from od.misc.statistic import NetFlowType\n",
    "from numpy import random\n",
    "from od.social import SocialGroup\n",
    "from od.network.types import ResourceAllocatorType,BaseStationType\n",
    "from od.misc.interest import InterestConfig\n",
    "from od.config import BS_PRESET,SUMO_SIM_SECONDS\n",
    "import od.vars as GV\n",
    "plt.rcParams.update(\n",
    "    {\n",
    "    \"text.usetex\": False,\n",
    "    \"font.family\": \"sans-serif\",\n",
    "    \"font.sans-serif\": [\"Helvetica\"],\n",
    "    \"legend.loc\":\"upper left\",\n",
    "    \"legend.framealpha\":0.3,\n",
    "    \"font.size\":14,\n",
    "    }\n",
    ")\n",
    "os.getcwd()"
   ]
  },
  {
   "cell_type": "code",
   "execution_count": 13,
   "metadata": {},
   "outputs": [],
   "source": [
    "class Printer:\n",
    "        def Log(self,data):\n",
    "                pass\n",
    "                # print(data)\n",
    "        def Doc(self,data):\n",
    "                pass\n",
    "                # print(data)\n",
    "class FakeBSController:\n",
    "        def __init__(self,serial,bs_config):\n",
    "                self.serial = serial \n",
    "                self.type=  bs_config[\"type\"]\n",
    "        def __index__(self):\n",
    "                return self.serial\n",
    "def InitGV(interest_config):\n",
    "        GV.NET_STATION_CONTROLLER = [\n",
    "                FakeBSController(serial,bs_config) for serial,bs_config in enumerate(BS_PRESET.values())\n",
    "                if ((bs_config[\"type\"] == BaseStationType.UMA)  or \n",
    "                (interest_config.req_rsu and bs_config[\"type\"] == BaseStationType.UMI))\n",
    "        ]\n",
    "        GV.STATISTIC =  Printer()"
   ]
  },
  {
   "cell_type": "code",
   "execution_count": 14,
   "metadata": {},
   "outputs": [],
   "source": [
    "seed_range = [1,2,3,4,5,6,7,8,9,10,11,12,13,14,15,16,17,18,19,20]\n",
    "res_alloc_type_range = [ResourceAllocatorType.NOMA_OPT]\n",
    "req_rsu_range = [True,False]\n",
    "# traffic_scale_range = [0.4, 0.6,0.8,1.0,1.2,1.4]\n",
    "traffic_scale_range=[1.6]\n",
    "# seed_range = [4]\n",
    "# res_alloc_type_range = [ResourceAllocatorType.OMA]\n",
    "# req_rsu_range = [True]\n",
    "# traffic_scale_range = [1.1]"
   ]
  },
  {
   "cell_type": "code",
   "execution_count": 15,
   "metadata": {},
   "outputs": [],
   "source": [
    "def Process(app_stats):\n",
    "        for header,record in app_stats.items():\n",
    "            for bs in GV.NET_STATION_CONTROLLER:\n",
    "                for pair in record.time_bs_txq[bs]:\n",
    "                    pair[0] =  math.ceil(round(pair[0],4)*1000)/1000\n",
    "                    pair[1] =  math.ceil(round(pair[1],4)*1000)/1000\n",
    "            "
   ]
  },
  {
   "cell_type": "code",
   "execution_count": 16,
   "metadata": {},
   "outputs": [],
   "source": [
    "interest_config = InterestConfig(None, False, 0)\n",
    "for seed in seed_range:\n",
    "    for res_alloc_type in res_alloc_type_range:\n",
    "        for req_rsu in req_rsu_range:\n",
    "            for traffic_scale in traffic_scale_range:\n",
    "                interest_config.res_alloc_type = res_alloc_type\n",
    "                interest_config.req_rsu = req_rsu\n",
    "                interest_config.traffic_scale = traffic_scale\n",
    "                try:\n",
    "                    stats_report = None\n",
    "                    stats_record = None\n",
    "                    sum_wait_time = [None for nft in NetFlowType]\n",
    "                    InitGV(interest_config)\n",
    "                    with open(\"data/yQoS/{}/{}/report.pickle\".format(seed,str(interest_config)), \"rb\") as file:\n",
    "                        stats_report = pickle.load(file)\n",
    "                    with open(\"data/yQoS/{}/{}/object.pickle\".format(seed,str(interest_config)), \"rb\") as file:\n",
    "                        stats_record = pickle.load(file)\n",
    "                    \n",
    "                    # Process(stats_record.ExtractNetworkTraffic(NetFlowType.GENERAL))\n",
    "                    for nft in NetFlowType:\n",
    "                        nft_flow = stats_record.ExtractNetworkTraffic(nft)\n",
    "                        Process(nft_flow)\n",
    "                        sum_wait_time[nft] = stats_record.BaseStationAppdataTXQReport(nft_flow)\n",
    "                    rep_wait_time = {\n",
    "                        x.name: sum_wait_time[x]\n",
    "                        for x in NetFlowType\n",
    "                    }\n",
    "                    stats_report[\"wait-time\"] =rep_wait_time\n",
    "                    with open(\n",
    "                        \"data/yQoS/{}/{}/report_adjust_wait_time_nQoS.pickle\".format(seed,str(interest_config)), \"wb\"\n",
    "                        ) as file:\n",
    "\n",
    "                        pickle.dump(stats_report,file)\n",
    "                except FileNotFoundError:\n",
    "                    print(\"missing: {} seed({})\".format(str(interest_config),seed))"
   ]
  },
  {
   "cell_type": "code",
   "execution_count": null,
   "metadata": {},
   "outputs": [],
   "source": []
  }
 ]
}